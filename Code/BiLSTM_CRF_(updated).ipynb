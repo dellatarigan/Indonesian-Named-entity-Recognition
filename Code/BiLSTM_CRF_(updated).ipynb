{
  "nbformat": 4,
  "nbformat_minor": 0,
  "metadata": {
    "colab": {
      "name": "BiLSTM_CRF_(updated).ipynb",
      "private_outputs": true,
      "provenance": [],
      "collapsed_sections": []
    },
    "kernelspec": {
      "display_name": "Python 3",
      "language": "python",
      "name": "python3"
    },
    "language_info": {
      "codemirror_mode": {
        "name": "ipython",
        "version": 3
      },
      "file_extension": ".py",
      "mimetype": "text/x-python",
      "name": "python",
      "nbconvert_exporter": "python",
      "pygments_lexer": "ipython3",
      "version": "3.8.3"
    }
  },
  "cells": [
    {
      "cell_type": "markdown",
      "metadata": {
        "id": "NwV4P3jwHAGT"
      },
      "source": [
        "**Load Data**"
      ]
    },
    {
      "cell_type": "markdown",
      "metadata": {
        "id": "p23F8GLCHHfm"
      },
      "source": [
        "**Import Library**"
      ]
    },
    {
      "cell_type": "code",
      "metadata": {
        "id": "ge089KANHCXE"
      },
      "source": [
        "#Data analysis   \n",
        "import pandas as pd \n",
        "import numpy as np\n",
        "import csv\n",
        "import nltk\n",
        "import tensorflow as tf\n",
        "\n",
        "#Data visualisation \n",
        "import matplotlib.pyplot as plt\n",
        "import seaborn as sns\n",
        "sns.set(color_codes=True)\n",
        "sns.set(font_scale=1)\n",
        "%matplotlib inline\n",
        "from matplotlib import ticker\n",
        "%config InlineBackend.figure_format = 'svg' "
      ],
      "execution_count": null,
      "outputs": []
    },
    {
      "cell_type": "code",
      "metadata": {
        "id": "i6aG_juVJuB5"
      },
      "source": [
        "import pandas as pd\n",
        "\n",
        "df = pd.read_csv(\"SINGGALANG.tsv\", sep='\\t')\n",
        "print(df)"
      ],
      "execution_count": null,
      "outputs": []
    },
    {
      "cell_type": "code",
      "metadata": {
        "id": "FfaKTgu5L8wc"
      },
      "source": [
        "list_kalimat = []\n",
        "nomor_kalimat = 1\n",
        "\n",
        "#Open file in read mode\n",
        "with open('/content/SINGGALANG.tsv', encoding='UTF-8') as read_obj:\n",
        "    # Pass the file object to reader() to get the reader object\n",
        "    csv_reader = csv.reader(read_obj, delimiter='\\t', quotechar=None) #https://www.petanikode.com/python-csv/ \n",
        "#https://docs.python.org/id/3.9/library/csv.html\n",
        "#Menginstruksikan reader untuk tidak melakukan pemrosesan khusus terhadap karakter kutipan\n",
        "    #Iterate over each row in the csv using reader object\n",
        "    for row in csv_reader:\n",
        "        #Row variable is a list that represents a row in csv\n",
        "        if len(row) == 0:\n",
        "            nomor_kalimat += 1 \n",
        "        else:\n",
        "            tmp_row= row\n",
        "            tmp_row.append(nomor_kalimat)\n",
        "            list_kalimat.append(tmp_row)\n",
        "\n",
        "dataset = pd.DataFrame(list_kalimat, columns=['token', 'entitas bernama', 'kalimat'])"
      ],
      "execution_count": null,
      "outputs": []
    },
    {
      "cell_type": "code",
      "metadata": {
        "id": "E61UT1prMKOW"
      },
      "source": [
        "dataset.head(10)"
      ],
      "execution_count": null,
      "outputs": []
    },
    {
      "cell_type": "code",
      "metadata": {
        "id": "88MTXtURQt7p"
      },
      "source": [
        "dataset.tail()"
      ],
      "execution_count": null,
      "outputs": []
    },
    {
      "cell_type": "code",
      "metadata": {
        "id": "1hX7I0I2QuH2"
      },
      "source": [
        "dataset.info()"
      ],
      "execution_count": null,
      "outputs": []
    },
    {
      "cell_type": "code",
      "metadata": {
        "id": "ZmlYa6BiSq0Z"
      },
      "source": [
        "#Kelas untuk mengambil kalimat dari dataset\n",
        "class getsentence(object): #deklarasikan class dengan nama getsentence\n",
        "    \n",
        "    def __init__(self, data): #Deklarasikan “variabel” menggunakan kata “self” yang menunjukkan bahwa “variabel” merupakan milik dari class “getsentence”\n",
        "      self.n_sent = 1.0\n",
        "      self.dataset = dataset\n",
        "      self.empty = False \n",
        "      \n",
        "      #Lambda adalah fungsi untuk mengembalikan nilai \n",
        "      agg_func = lambda s: [(t, e) for t, e in zip(s[\"token\"].values.tolist(),\n",
        "                                                 s[\"entitas bernama\"].values.tolist())]                                           \n",
        "      self.grouped = self.dataset.groupby(\"kalimat\").apply(agg_func)\n",
        "      self.sentences = [s for s in self.grouped]"
      ],
      "execution_count": null,
      "outputs": []
    },
    {
      "cell_type": "code",
      "metadata": {
        "id": "R5tCxofFW1bu"
      },
      "source": [
        "getter = getsentence(dataset)\n",
        "kalimat = getter.sentences\n",
        "\n",
        "#Tampilan kalimat adalah sebagai berikut \n",
        "print(kalimat[0]) #Untuk kalimat pertama"
      ],
      "execution_count": null,
      "outputs": []
    },
    {
      "cell_type": "code",
      "metadata": {
        "id": "zk-7Uha3XbKP"
      },
      "source": [
        "longest_sen = max(kalimat, key=len)\n",
        "longest_sen_len = len(longest_sen)"
      ],
      "execution_count": null,
      "outputs": []
    },
    {
      "cell_type": "code",
      "metadata": {
        "id": "Cylq9KYhXe0-"
      },
      "source": [
        "print (longest_sen_len)"
      ],
      "execution_count": null,
      "outputs": []
    },
    {
      "cell_type": "code",
      "metadata": {
        "id": "z8_rRJgxXivA"
      },
      "source": [
        "print (longest_sen)"
      ],
      "execution_count": null,
      "outputs": []
    },
    {
      "cell_type": "code",
      "metadata": {
        "id": "1c-SbM0wXorU"
      },
      "source": [
        "shortest_sen = min(kalimat, key=len)\n",
        "shortest_sen_len = len(shortest_sen)"
      ],
      "execution_count": null,
      "outputs": []
    },
    {
      "cell_type": "code",
      "metadata": {
        "id": "bC3PdtdHXpdT"
      },
      "source": [
        "print (shortest_sen_len)"
      ],
      "execution_count": null,
      "outputs": []
    },
    {
      "cell_type": "code",
      "metadata": {
        "id": "3VTnP8vzXq-a"
      },
      "source": [
        "print (shortest_sen)"
      ],
      "execution_count": null,
      "outputs": []
    },
    {
      "cell_type": "code",
      "metadata": {
        "id": "3I9MXLO4X7N1"
      },
      "source": [
        "print(\"Jumlah kalimat: \", len(dataset.groupby(['kalimat'])))\n",
        "words = list(set(dataset[\"token\"].values))\n",
        "n_words = len(words)\n",
        "print(\"Jumlah kata unik : \", n_words)\n",
        "tags = list(set(dataset[\"entitas bernama\"].values))\n",
        "print(\"Entitas bernama:\", tags)\n",
        "n_tags = len(tags)\n",
        "print(\"Jumlah entitas bernama: \", n_tags)"
      ],
      "execution_count": null,
      "outputs": []
    },
    {
      "cell_type": "code",
      "metadata": {
        "id": "0GX_qp9_e9pS"
      },
      "source": [
        "#Words tagged as Place\n",
        "dataset.loc[dataset['entitas bernama'] == 'Place', 'token'].head()"
      ],
      "execution_count": null,
      "outputs": []
    },
    {
      "cell_type": "code",
      "metadata": {
        "id": "OQKP7zRLe9pT"
      },
      "source": [
        "dataset.iloc[220085] "
      ],
      "execution_count": null,
      "outputs": []
    },
    {
      "cell_type": "code",
      "metadata": {
        "id": "EsjJ3li9e9pT"
      },
      "source": [
        "#Words tagged as Person\n",
        "dataset.loc[dataset['entitas bernama'] == 'Person', 'token'].head()"
      ],
      "execution_count": null,
      "outputs": []
    },
    {
      "cell_type": "code",
      "metadata": {
        "id": "WxcPRv3ge9pT"
      },
      "source": [
        "#Words tagged as Organization\n",
        "dataset.loc[dataset['entitas bernama'] == 'Organisation', 'token'].head()"
      ],
      "execution_count": null,
      "outputs": []
    },
    {
      "cell_type": "code",
      "metadata": {
        "id": "3tVLm6I4fjiF"
      },
      "source": [
        "#Words tagged as O\n",
        "dataset.loc[dataset['entitas bernama'] == 'O', 'token'].head()"
      ],
      "execution_count": null,
      "outputs": []
    },
    {
      "cell_type": "code",
      "metadata": {
        "id": "NHgQgUySfjpe"
      },
      "source": [
        "dataframe = dataset.groupby(\"entitas bernama\" )\n",
        "dataframe[\"entitas bernama\"].count()"
      ],
      "execution_count": null,
      "outputs": []
    },
    {
      "cell_type": "code",
      "metadata": {
        "id": "V6gNFBcTfjxZ"
      },
      "source": [
        "ncount = len(dataset)\n",
        "\n",
        "plt.figure(figsize=(10.5, 8))\n",
        "ax = sns.countplot(x = \"entitas bernama\", data = dataset)\n",
        "plt.title('Distribusi Frekuensi Entitas Bernama')\n",
        "plt.xlabel('Entitas Bernama')\n",
        "\n",
        "# Buat twin axis\n",
        "ax2 = ax.twinx()\n",
        "\n",
        "# Tukar sehingga count axis di kanan, frequency di kiri\n",
        "ax2.yaxis.tick_left()\n",
        "ax.yaxis.tick_right()\n",
        "\n",
        "# Tukar juga label\n",
        "ax.yaxis.set_label_position('right')\n",
        "ax2.yaxis.set_label_position('left')\n",
        "\n",
        "ax.set_ylabel('Jumlah')\n",
        "ax2.set_ylabel('Frekuensi [%]')\n",
        "\n",
        "for p in ax.patches:\n",
        "    x = p.get_bbox().get_points()[:,0]\n",
        "    y = p.get_bbox().get_points()[1, 1]\n",
        "    ax.annotate('{:.1f}%'.format(100.*y/ncount), (x.mean(), y), \n",
        "                ha = 'center', va = 'bottom') # atur alignment teks\n",
        "\n",
        "# Gunakan LinearLocator untuk memastikan jumlah tick yang benar\n",
        "ax.yaxis.set_major_locator(ticker.LinearLocator(11))\n",
        "\n",
        "# Perbaiki rentang frekuensi menjadi 0-100\n",
        "ax2.set_ylim(0, 100)\n",
        "ax.set_ylim(0, ncount)\n",
        "\n",
        "# Gunakan MultipleLocator untuk memastikan spaci antar-tick yaitu 10\n",
        "ax2.yaxis.set_major_locator(ticker.MultipleLocator(10))\n",
        "\n",
        "# Atur sehingga grid pada ax2 off, supaya gridlines tidak ditampilkan\n",
        "# pada bagian atas bar\n",
        "ax2.grid(None)"
      ],
      "execution_count": null,
      "outputs": []
    },
    {
      "cell_type": "code",
      "metadata": {
        "id": "enEK87n8m1MC"
      },
      "source": [
        "ncount = len(dataset.loc[dataset['entitas bernama'] != 'O'])\n",
        "\n",
        "plt.figure(figsize=(10.5, 8))\n",
        "ax = sns.countplot(x = \"entitas bernama\", data = dataset.loc[dataset['entitas bernama'] != 'O'])\n",
        "plt.title('Distribusi Frekuensi Entitas Bernama Selain \\'O\\'')\n",
        "plt.xlabel('Entitas Bernama')\n",
        "\n",
        "# Buat twin axis\n",
        "ax2 = ax.twinx()\n",
        "\n",
        "# Tukar sehingga count axis di kanan, frequency di kiri\n",
        "ax2.yaxis.tick_left()\n",
        "ax.yaxis.tick_right()\n",
        "\n",
        "# Tukar juga label\n",
        "ax.yaxis.set_label_position('right')\n",
        "ax2.yaxis.set_label_position('left')\n",
        "\n",
        "ax.set_ylabel('Jumlah')\n",
        "ax2.set_ylabel('Frekuensi [%]')\n",
        "\n",
        "for p in ax.patches:\n",
        "    x = p.get_bbox().get_points()[:,0]\n",
        "    y = p.get_bbox().get_points()[1, 1]\n",
        "    ax.annotate('{:.1f}%'.format(100.*y/ncount), (x.mean(), y), \n",
        "                ha = 'center', va = 'bottom') # atur alignment teks\n",
        "\n",
        "# Gunakan LinearLocator untuk memastikan jumlah tick yang benar\n",
        "ax.yaxis.set_major_locator(ticker.LinearLocator(11))\n",
        "\n",
        "# Perbaiki rentang frekuensi menjadi 0-100\n",
        "ax2.set_ylim(0, 100)\n",
        "ax.set_ylim(0, ncount)\n",
        "\n",
        "# Gunakan MultipleLocator untuk memastikan spaci antar-tick yaitu 10\n",
        "ax2.yaxis.set_major_locator(ticker.MultipleLocator(10))\n",
        "\n",
        "# Atur sehingga grid pada ax2 off, supaya gridlines tidak ditampilkan\n",
        "# pada bagian atas bar\n",
        "ax2.grid(None)"
      ],
      "execution_count": null,
      "outputs": []
    },
    {
      "cell_type": "code",
      "metadata": {
        "id": "9aspl46NnnwC"
      },
      "source": [
        "# Menampilkan 20 token pertama yang paling banyak muncul \n",
        "dataset['token'].value_counts()[:20]"
      ],
      "execution_count": null,
      "outputs": []
    },
    {
      "cell_type": "code",
      "metadata": {
        "id": "2kdTHsVQn0L4"
      },
      "source": [
        "# Visualisasi data 20 token yang paling banyak muncul\n",
        "dataset['token'].value_counts()[:20].plot(kind='barh')"
      ],
      "execution_count": null,
      "outputs": []
    },
    {
      "cell_type": "code",
      "metadata": {
        "id": "sB5b0oktsBMa"
      },
      "source": [
        " #melihat url yang muncul pada dataset\n",
        " import re \n",
        "  \n",
        "def Find(string): \n",
        "  \n",
        "    # findall() has been used  \n",
        "    # with valid conditions for urls in string \n",
        "    regex = r\"(?i)\\b((?:https?://|www\\d{0,3}[.]|[a-z0-9.\\-]+[.][a-z]{2,4}/)(?:[^\\s()<>]+|\\(([^\\s()<>]+|(\\([^\\s()<>]+\\)))*\\))+(?:\\(([^\\s()<>]+|(\\([^\\s()<>]+\\)))*\\)|[^\\s`!()\\[\\]{};:'\\\".,<>?«»“”‘’]))\"\n",
        "    url = re.findall(regex,string)       \n",
        "    return [x[0] for x in url] \n",
        "      \n",
        "# Driver Code \n",
        "dataset_url = open('SINGGALANG.tsv').read()\n",
        "print(\"Urls: \", Find(dataset_url)) "
      ],
      "execution_count": null,
      "outputs": []
    },
    {
      "cell_type": "code",
      "metadata": {
        "id": "SOucXlVzsBMb"
      },
      "source": [
        " # Menghitung jumlah punctuation\n",
        "dataset_punct = open('SINGGALANG.tsv').read()\n",
        "\n",
        "dataset_punct  = dataset_punct.replace(\"--\", \" \")\n",
        "\n",
        "for symbol in \"-'\":\n",
        "   dataset_punct  = dataset_punct.replace(symbol + \" \", \"\")\n",
        "   dataset_punct  = dataset_punct.replace(\" \" + symbol, \"\")\n",
        "\n",
        "for symbol in \".,/'-\":\n",
        "    print (symbol, dataset_punct.count(symbol)) "
      ],
      "execution_count": null,
      "outputs": []
    },
    {
      "cell_type": "markdown",
      "metadata": {
        "id": "QVlLTz-hsXWb"
      },
      "source": [
        "##**3. Text Preprocessing** "
      ]
    },
    {
      "cell_type": "markdown",
      "metadata": {
        "id": "IssMU_M3selT"
      },
      "source": [
        "*   Expand Contraction"
      ]
    },
    {
      "cell_type": "code",
      "metadata": {
        "id": "EHi1OL9UsX2t"
      },
      "source": [
        "dataset_prep = pd.DataFrame(list_kalimat, columns=['token', 'entitas bernama', 'kalimat'])"
      ],
      "execution_count": null,
      "outputs": []
    },
    {
      "cell_type": "code",
      "metadata": {
        "id": "7SGe49X1snOh"
      },
      "source": [
        "# Memperbaiki format penulisan pada kolom token\n",
        "# re.sub = setiap string yang sesuai dengan pola akan digantikan dengan string yang kita inginkan.\n",
        "# re.search = searches for that pattern within the string.\n",
        "def perbaikan_format_tanda_baca(dataset_prep):    \n",
        "    for i in dataset_prep.index:\n",
        "        token = re.sub('([.,!?()])', r'\\1 ', dataset_prep.at[i, 'token'])\n",
        "        dataset_prep.at[i, 'token'] = re.sub('\\s{2,}', ' ', token)\n",
        "    return dataset_prep\n",
        "perbaikan_format_tanda_baca(dataset_prep)"
      ],
      "execution_count": null,
      "outputs": []
    },
    {
      "cell_type": "code",
      "metadata": {
        "id": "ZiKZyJ-hstAA"
      },
      "source": [
        "dataset_prep.iloc[24001]"
      ],
      "execution_count": null,
      "outputs": []
    },
    {
      "cell_type": "code",
      "metadata": {
        "id": "CIA6QdCeu3qC"
      },
      "source": [
        "# Dictionary yang digunakan\n",
        "import re\n",
        "contractions_dict = {\n",
        "\"a.l. \": \"antara lain\",\n",
        "\"A.M.v.B. \": \"Algemene Maatregel van Bestuur\",\n",
        "\"a.n. \": \"atas nama\",\n",
        "\"adm. \": \"administrasi\",\n",
        "\"UU \" : \"undang-undang\",\n",
        "\"art. \": \"artikel\",\n",
        "\"Ass. Supt. \":\"asisten superintenden\",\n",
        "\"B.A. \": \"Bachelor of Arts\",\n",
        "\"B.B.A. \": \"Bachelor of Business Administration\",\n",
        "\"B.Ch.E \": \"Bachelor of Chemical Engineering\",\n",
        "\"B.Sc. \": \"Bachelor of Science\",\n",
        "\"Bpk. \": \"Bapak\",\n",
        "\"BRAy. \": \"Bendara Raden Ayu\",\n",
        "\"CC \": \"carbon copy\",\n",
        "\"D.Sc. \": \"doctor of science\",\n",
        "\"dkk. \": \"dan kawan-kawan\",\n",
        "\"dll. \": \"dan lain-lain\",\n",
        "\"Dr.h.c \": \"Doctor Honoris Causa\",\n",
        "\"Dr.Phil. \": \"Doctor of Philosophy\",\n",
        "\"Dr.Th. \": \"Doctor Theologiae\",\n",
        "\"dr. \": \"dokter medis (profesi)\",\n",
        "\"Dr. \": \"Doktor (gelar akademik)\",\n",
        "\"Dra. \": \"Doktoranda\",\n",
        "\"Drg. \": \"Dokter Gigi\",\n",
        "\"drh. \": \"dokter hewan\",\n",
        "\"Drs. \": \"Doktorandus\",\n",
        "\"dsb. \": \"dan lain sebagainya\", \n",
        "\"dsb. \" : \"dan sebagainya\",\n",
        "\"dst. \": \"dan seterusnya\",\n",
        "\"E.Z. \": \"Economische Zaken\",\n",
        "\"ed. \": \"editor\", \n",
        "\"ed. \": \"edisi\",\n",
        "\"faks. \" : \"faksimile\",\n",
        "\"fol. \" : \"folio\",\n",
        "\"Fr. \" : \"frater\",\n",
        "\"Gg. \" : \"gang\",\n",
        "\"gg. \" : \"gang\",\n",
        "\"H. \" : \"Haji\",\n",
        "\"Hj. \" : \"Hajah\",\n",
        "\"hlm. \" : \"halaman\",\n",
        "\"Ir. \" : \"insinyur\",\n",
        "\"jln. \" :\"jalan \",\n",
        "\"jl. \" : \"jalan \",\n",
        "\"Jl. \" : \"jalan \",\n",
        "\"jo. \" : \"juncto\",\n",
        "\"Jr. \" : \"junior\",\n",
        "\"K.H. \" : \"kiai haji\",\n",
        "\"K. \" : \"kiai\",\n",
        "\"ka. \" : \"Kepala\",\n",
        "\"kab. \" : \"kabinet\", \n",
        "\"kab. \" : \"kabupaten\",\n",
        "\"kapt. \" : \"kapten\",\n",
        "\"kec. \" : \"kecamatan\",\n",
        "\"kel. \" : \"kelurahan\",  \n",
        "\"kel. \" : \"keluarga\",\n",
        "\"kep. \" : \"keputusan\",\n",
        "\"kp. \" : \"Kampung\",\n",
        "\"lamp. \" : \"lampiran\",\n",
        "\"LL.B \" : \"Legum Baccalaureus\",\n",
        "\"LL.D \" : \"Legum Doctor\",\n",
        "\"log. \" : \"logistik\",\n",
        "\"M.A. \" :\"master of arts\",\n",
        "\"M.Ag. \" : \"magister agama\",\n",
        "\"M.B.A. \" : \"master of business administration\",\n",
        "\"M.Hum. \" : \"Magister Humaniora\",\n",
        "\"M.Hum. \" : \"magister humaniora\",\n",
        "\"M.Kes. \" : \"magister kesehatan\",\n",
        "\"M.Kom. \" : \"magister komunikasi\",\n",
        "\"M.M. \" : \"magister manajemen\",\n",
        "\"M.P.A. \" : \"master of public administration\",\n",
        "\"M.P.H. \" : \"master of public health\",\n",
        "\"M.P. \" : \"magister pertanian\",\n",
        "\"M.Pd. \" : \"magister pendidikan\",\n",
        "\"M.Ph. \" : \"master of philosophy\",\n",
        "\"M.Sc. \" : \"master of science\",\n",
        "\"M.Si. \" : \"magister sains\",\n",
        "\"M.Sn. \" : \"magister seni\",\n",
        "\"M.T. \" : \"magister teknik\",\n",
        "\"Mgr. \" : \"monseignor\",\n",
        "\"Mr. \" : \"meester in de rechten\",\n",
        "\"Mrs. \" : \"Mistress\",\n",
        "\"Nb \" : \"Notabene\",\n",
        "\"Nn. \" : \"Nona\",\n",
        "\"no. \" : \"nomor\",\n",
        "\"No. \" : \"nomor\",\n",
        "\"Ny. \" : \"nyonya\",\n",
        "\"op cit. \" : \"opere citato\",\n",
        "\"org. \" : \"Orang\",\n",
        "\"p.p. \" : \"pulang pergi\",\n",
        "\"Ph.D. \" : \"philosophiae doctor\",\n",
        "\"pjs. \" : \"Pejabat sementara\",\n",
        "\"PPn. \" : \"pajak pendapatan\",\n",
        "\"PPN \" : \"pajak pertambahan nilai\",\n",
        "\"prof. \" : \"profesor\",\n",
        "\"Psi. \" : \"Psikologi\",\n",
        "\"psw. \" : \"Pesawat (telepon)\",\n",
        "\"R.A. \" : \"Raden Ajeng\",\n",
        "\"red. \" : \"redaksi\",\n",
        "\"reg. \" : \"register\",\n",
        "\"rhs. \" : \"Rahasia\",\n",
        "\"Rr. \" : \"Raden roro\",\n",
        "\"S.Ag. \": \"Sarjana Agama\",\n",
        "\"S.E. \": \"Sarjana Ekonomi\",\n",
        "\"S.H. \": \"Sarjana Hukum\",\n",
        "\"S.Hut. \": \"Sarjana Kehutanan\",\n",
        "\"S.I.Kom. \": \"Sarjana Ilmu Komunikasi\",\n",
        "\"S.K.M. \": \"Sarjana Kesehatan Masyarakat\",\n",
        "\"S.Kedg. \": \"Sarjana Kedokteran Gigi\",\n",
        "\"S.Kedh. \": \"Sarjana Kedokteran Hewan\",\n",
        "\"S.Kom. \": \"Sarjana Ilmu Komputer\",\n",
        "\"S.Pd. \": \"Sarjana Pendidikan\",\n",
        "\"S.Pd \": \"Sarjana Pendidikan\",\n",
        "\"S.Pol. \": \"Sarjana IImu Politik\",\n",
        "\"S.Psi. \": \"Sarjana Psikologi\",\n",
        "\"S.S. \": \"Sarjana Sastra\",\n",
        "\"S.Si. \": \"Sarjana Sains\",\n",
        "\"S.Sn. \": \"Sarjana Seni\",\n",
        "\"S.Sos. \": \"Sarjana Ilmu Sosial\",\n",
        "\"S.T. \": \"Sarjana Teknik\",\n",
        "\"S.Tekp. \" : \"Sarjana Teknologi Pertanian\",\n",
        "\"S.Th. \": \"Sarjana Theologi\",\n",
        "\"sbb. \": \"sebagai berikut\",\n",
        "\"ssk. \": \"satuan saham kolektif\", \n",
        "\"ssk. \":\"satuan setingkat kompi\",\n",
        "\"St. \": \"Sutan\",\n",
        "\"SY. \": \"Serikat Yesuit\",\n",
        "\"T. \" : \"teuku\",\n",
        "\"Tap. \": \"Ketetapan\",\n",
        "\"Tb. \": \"Tubagus\",\n",
        "\"tel. \":\" telepon\",\n",
        "\"vol. \": \"volume\",\n",
        "\"ybs. \": \"yang bersangkutan\",\n",
        "\"ytc. \": \"Yang Tercinta\",\n",
        "\"yth. \": \"Yang Terhormat\",\n",
        "}"
      ],
      "execution_count": null,
      "outputs": []
    }
  ]
}