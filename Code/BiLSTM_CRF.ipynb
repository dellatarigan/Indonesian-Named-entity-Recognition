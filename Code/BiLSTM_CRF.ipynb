{

  "nbformat": 4,
  "nbformat_minor": 0,
  "metadata": {
    "colab": {
      "name": "BiLSTM_CRF.ipynb",
      "private_outputs": true,
      "provenance": [],
      "collapsed_sections": []
    },
    "kernelspec": {
      "display_name": "Python 3",
      "name": "python3"
    },
    "language_info": {
      "name": "python"
    }
  },
  "cells": [
    {
      "cell_type": "markdown",
      "metadata": {
        "id": "NwV4P3jwHAGT"
      },
      "source": [
        "**Load Data**"
      ]
    },
    {
      "cell_type": "markdown",
      "metadata": {
        "id": "p23F8GLCHHfm"
      },
      "source": [
        "**Import Library**"
      ]
    },
    {
      "cell_type": "code",
      "execution_count": null,
      "metadata": {
        "id": "ge089KANHCXE"
      },
      "outputs": [],
      "source": [
        "#Data analysis   \n",
        "import pandas as pd \n",
        "import numpy as np\n",
        "import csv\n",
        "import nltk\n",
        "import tensorflow as tf\n",
        "\n",
        "#Data visualisation \n",
        "import matplotlib.pyplot as plt\n",
        "import seaborn as sns\n",
        "sns.set(color_codes=True)\n",
        "sns.set(font_scale=1)\n",
        "%matplotlib inline\n",
        "from matplotlib import ticker\n",
        "%config InlineBackend.figure_format = 'svg' "
      ]
    },
    {
      "cell_type": "code",
      "execution_count": null,
      "metadata": {
        "id": "i6aG_juVJuB5"
      },
      "outputs": [],
      "source": [
        "import pandas as pd\n",
        "\n",
        "\n",
        "df = pd.read_csv(\"SINGGALANG.tsv\", sep='\\t')\n",
        "print(df)"
      ]
    },
    {
      "cell_type": "code",
      "execution_count": null,
      "metadata": {
        "id": "FfaKTgu5L8wc"
      },
      "outputs": [],
      "source": [
        "list_kalimat = []\n",
        "nomor_kalimat = 1\n",
        "\n",
        "#Open file in read mode\n",
        "with open('/content/SINGGALANG.tsv', encoding='UTF-8') as read_obj:\n",
        "    # Pass the file object to reader() to get the reader object\n",
        "    csv_reader = csv.reader(read_obj, delimiter='\\t', quotechar=None) #https://www.petanikode.com/python-csv/ \n",
        "#https://docs.python.org/id/3.9/library/csv.html\n",
        "#Menginstruksikan reader untuk tidak melakukan pemrosesan khusus terhadap karakter kutipan\n",
        "    #Iterate over each row in the csv using reader object\n",
        "    for row in csv_reader:\n",
        "        #Row variable is a list that represents a row in csv\n",
        "        if len(row) == 0:\n",
        "            nomor_kalimat += 1 \n",
        "        else:\n",
        "            tmp_row= row\n",
        "            tmp_row.append(nomor_kalimat)\n",
        "            list_kalimat.append(tmp_row)\n",
        "\n",
        "dataset = pd.DataFrame(list_kalimat, columns=['token', 'entitas bernama', 'kalimat'])"
      ]
    },
    {
      "cell_type": "code",
      "execution_count": null,
      "metadata": {
        "id": "E61UT1prMKOW"
      },
      "outputs": [],
      "source": [
        "dataset.head(10)"
      ]
    },
    {
      "cell_type": "code",
      "execution_count": null,
      "metadata": {
        "id": "88MTXtURQt7p"
      },
      "outputs": [],
      "source": [
        "dataset.tail()"
      ]
    },
    {
      "cell_type": "code",
      "execution_count": null,
      "metadata": {
        "id": "1hX7I0I2QuH2"
      },
      "outputs": [],
      "source": [
        "dataset.info()"
      ]
    },
    {
      "cell_type": "code",
      "execution_count": null,
      "metadata": {
        "id": "ZmlYa6BiSq0Z"
      },
      "outputs": [],
      "source": [
        "#Kelas untuk mengambil kalimat dari dataset\n",
        "class getsentence(object): #deklarasikan class dengan nama getsentence\n",
        "    \n",
        "    def __init__(self, data): #Deklarasikan “variabel” menggunakan kata “self” yang menunjukkan bahwa “variabel” merupakan milik dari class “getsentence”\n",
        "      self.n_sent = 1.0\n",
        "      self.dataset = dataset\n",
        "      self.empty = False \n",
        "      \n",
        "      #Lambda adalah fungsi untuk mengembalikan nilai \n",
        "      agg_func = lambda s: [(t, e) for t, e in zip(s[\"token\"].values.tolist(),\n",
        "                                                 s[\"entitas bernama\"].values.tolist())]                                           \n",
        "      self.grouped = self.dataset.groupby(\"kalimat\").apply(agg_func)\n",
        "      self.sentences = [s for s in self.grouped]"
      ]
    },
    {
      "cell_type": "code",
      "execution_count": null,
      "metadata": {
        "id": "R5tCxofFW1bu"
      },
      "outputs": [],
      "source": [

        "#Kelas untuk mengambil kalimat dari dataset\n",
        "class getsentence(object): #deklarasikan class dengan nama getsentence\n",
        "    \n",
        "    def __init__(self, data): #Deklarasikan “variabel” menggunakan kata “self” yang menunjukkan bahwa “variabel” merupakan milik dari class “getsentence”\n",
        "      self.n_sent = 1.0\n",
        "      self.dataset = dataset\n",
        "      self.empty = False \n",
        "      \n",
        "      #Lambda adalah fungsi untuk mengembalikan nilai \n",
        "      agg_func = lambda s: [(t, e) for t, e in zip(s[\"token\"].values.tolist(),\n",
        "                                                 s[\"entitas bernama\"].values.tolist())]                                           \n",
        "      self.grouped = self.dataset.groupby(\"kalimat\").apply(agg_func)\n",
        "      self.sentences = [s for s in self.grouped]"
      ],
      "execution_count": null,
      "outputs": []
    },
    {
      "cell_type": "code",
      "metadata": {
        "id": "R5tCxofFW1bu"
      },
      "source": [

        "getter = getsentence(dataset)\n",
        "kalimat = getter.sentences\n",
        "\n",
        "#Tampilan kalimat adalah sebagai berikut \n",
        "print(kalimat[0]) #Untuk kalimat pertama"

      ],
      "execution_count": null,
      "outputs": []
    },
    {
      "cell_type": "code",
      "metadata": {
        "id": "zk-7Uha3XbKP"
      },
      "source": [
        "longest_sen = max(kalimat, key=len)\n",
        "longest_sen_len = len(longest_sen)"
      ],
      "execution_count": null,
      "outputs": []
    },
    {
      "cell_type": "code",
      "metadata": {
        "id": "Cylq9KYhXe0-"
      },
      "source": [
        "print (longest_sen_len)"
      ],
      "execution_count": null,
      "outputs": []
    },
    {
      "cell_type": "code",
      "metadata": {
        "id": "z8_rRJgxXivA"
      },
      "source": [
        "print (longest_sen)"
      ],
      "execution_count": null,
      "outputs": []
    },
    {
      "cell_type": "code",
      "metadata": {
        "id": "1c-SbM0wXorU"
      },
      "source": [
        "shortest_sen = min(kalimat, key=len)\n",
        "shortest_sen_len = len(shortest_sen)"
      ],
      "execution_count": null,
      "outputs": []
    },
    {
      "cell_type": "code",
      "metadata": {
        "id": "bC3PdtdHXpdT"
      },
      "source": [
        "print (shortest_sen_len)"
      ],
      "execution_count": null,
      "outputs": []
    },
    {
      "cell_type": "code",
      "metadata": {
        "id": "3VTnP8vzXq-a"
      },
      "source": [
        "print (shortest_sen)"
      ],
      "execution_count": null,
      "outputs": []
    },
    {
      "cell_type": "code",
      "metadata": {
        "id": "3I9MXLO4X7N1"
      },
      "source": [
        "print(\"Jumlah kalimat: \", len(dataset.groupby(['kalimat'])))\n",
        "words = list(set(dataset[\"token\"].values))\n",
        "n_words = len(words)\n",
        "print(\"Jumlah kata unik : \", n_words)\n",
        "tags = list(set(dataset[\"entitas bernama\"].values))\n",
        "print(\"Entitas bernama:\", tags)\n",
        "n_tags = len(tags)\n",
        "print(\"Jumlah entitas bernama: \", n_tags)"
      ],
      "execution_count": null,
      "outputs": []
    },
    {
      "cell_type": "code",
      "metadata": {
        "id": "0GX_qp9_e9pS"
      },
      "source": [
        "#Words tagged as Place\n",
        "dataset.loc[dataset['entitas bernama'] == 'Place', 'token'].head()"
      ],
      "execution_count": null,
      "outputs": []
    },
    {
      "cell_type": "code",
      "metadata": {
        "id": "OQKP7zRLe9pT"
      },
      "source": [
        "dataset.iloc[220085] "
      ],
      "execution_count": null,
      "outputs": []
    },
    {
      "cell_type": "code",
      "metadata": {
        "id": "EsjJ3li9e9pT"
      },
      "source": [
        "#Words tagged as Person\n",
        "dataset.loc[dataset['entitas bernama'] == 'Person', 'token'].head()"
      ],
      "execution_count": null,
      "outputs": []
    },
    {
      "cell_type": "code",
      "metadata": {
        "id": "WxcPRv3ge9pT"
      },
      "source": [
        "#Words tagged as Organization\n",
        "dataset.loc[dataset['entitas bernama'] == 'Organisation', 'token'].head()"
      ],
      "execution_count": null,
      "outputs": []
    },
    {
      "cell_type": "code",
      "metadata": {
        "id": "3tVLm6I4fjiF"
      },
      "source": [
        "#Words tagged as O\n",
        "dataset.loc[dataset['entitas bernama'] == 'O', 'token'].head()"
      ],
      "execution_count": null,
      "outputs": []
    },
    {
      "cell_type": "code",
      "metadata": {
        "id": "NHgQgUySfjpe"
      },
      "source": [
        "dataframe = dataset.groupby(\"entitas bernama\" )\n",
        "dataframe[\"entitas bernama\"].count()"
      ],
      "execution_count": null,
      "outputs": []
    },
    {
      "cell_type": "code",
      "metadata": {
        "id": "V6gNFBcTfjxZ"
      },
      "source": [
        "ncount = len(dataset)\n",
        "\n",
        "plt.figure(figsize=(10.5, 8))\n",
        "ax = sns.countplot(x = \"entitas bernama\", data = dataset)\n",
        "plt.title('Distribusi Frekuensi Entitas Bernama')\n",
        "plt.xlabel('Entitas Bernama')\n",
        "\n",
        "# Buat twin axis\n",
        "ax2 = ax.twinx()\n",
        "\n",
        "# Tukar sehingga count axis di kanan, frequency di kiri\n",
        "ax2.yaxis.tick_left()\n",
        "ax.yaxis.tick_right()\n",
        "\n",
        "# Tukar juga label\n",
        "ax.yaxis.set_label_position('right')\n",
        "ax2.yaxis.set_label_position('left')\n",
        "\n",
        "ax.set_ylabel('Jumlah')\n",
        "ax2.set_ylabel('Frekuensi [%]')\n",
        "\n",
        "for p in ax.patches:\n",
        "    x = p.get_bbox().get_points()[:,0]\n",
        "    y = p.get_bbox().get_points()[1, 1]\n",
        "    ax.annotate('{:.1f}%'.format(100.*y/ncount), (x.mean(), y), \n",
        "                ha = 'center', va = 'bottom') # atur alignment teks\n",
        "\n",
        "# Gunakan LinearLocator untuk memastikan jumlah tick yang benar\n",
        "ax.yaxis.set_major_locator(ticker.LinearLocator(11))\n",
        "\n",
        "# Perbaiki rentang frekuensi menjadi 0-100\n",
        "ax2.set_ylim(0, 100)\n",
        "ax.set_ylim(0, ncount)\n",
        "\n",
        "# Gunakan MultipleLocator untuk memastikan spaci antar-tick yaitu 10\n",
        "ax2.yaxis.set_major_locator(ticker.MultipleLocator(10))\n",
        "\n",
        "# Atur sehingga grid pada ax2 off, supaya gridlines tidak ditampilkan\n",
        "# pada bagian atas bar\n",
        "ax2.grid(None)"
      ],

      ]
    },
    {
      "cell_type": "code",

      "execution_count": null,
      "metadata": {
        "id": "zk-7Uha3XbKP"
      },
      "outputs": [],
      "source": [
        "longest_sen = max(kalimat, key=len)\n",
        "longest_sen_len = len(longest_sen)"
      ]
    },
    {
      "cell_type": "code",
      "execution_count": null,
      "metadata": {
        "id": "Cylq9KYhXe0-"
      },
      "outputs": [],
      "source": [
        "print (longest_sen_len)"
      ]
    },
    {
      "cell_type": "code",
      "execution_count": null,
      "metadata": {
        "id": "z8_rRJgxXivA"
      },
      "outputs": [],
      "source": [
        "print (longest_sen)"
      ]
    },
    {
      "cell_type": "code",
      "execution_count": null,
      "metadata": {
        "id": "1c-SbM0wXorU"
      },
      "outputs": [],
      "source": [
        "shortest_sen = min(kalimat, key=len)\n",
        "shortest_sen_len = len(shortest_sen)"
      ]
    },
    {
      "cell_type": "code",
      "execution_count": null,
      "metadata": {
        "id": "bC3PdtdHXpdT"
      },
      "outputs": [],
      "source": [
        "print (shortest_sen_len)"
      ]
    },
    {
      "cell_type": "code",
      "execution_count": null,
      "metadata": {
        "id": "3VTnP8vzXq-a"
      },
      "outputs": [],
      "source": [
        "print (shortest_sen)"
      ]
    },
    {
      "cell_type": "code",
      "execution_count": null,
      "metadata": {
        "id": "3I9MXLO4X7N1"
      },
      "outputs": [],
      "source": [
        "print(\"Jumlah kalimat: \", len(dataset.groupby(['kalimat'])))\n",
        "words = list(set(dataset[\"token\"].values))\n",
        "n_words = len(words)\n",
        "print(\"Jumlah kata unik : \", n_words)\n",
        "tags = list(set(dataset[\"entitas bernama\"].values))\n",
        "print(\"Entitas bernama:\", tags)\n",
        "n_tags = len(tags)\n",
        "print(\"Jumlah entitas bernama: \", n_tags)"
      ]
    },
    {
      "cell_type": "code",
      "execution_count": null,
      "metadata": {},
      "outputs": [],
      "source": [
        "#Words tagged as Place\n",
        "dataset.loc[dataset['entitas bernama'] == 'Place', 'token'].head()"
      ]
    },
    {
      "cell_type": "code",
      "execution_count": null,
      "metadata": {},
      "outputs": [],
      "source": [
        "dataset.iloc[420085] "
      ]
    },
    {
      "cell_type": "code",
      "execution_count": null,
      "metadata": {},
      "outputs": [],
      "source": [
        "#Words tagged as Person\n",
        "dataset.loc[dataset['entitas bernama'] == 'Person', 'token'].head()"
      ]
    },
    {
      "cell_type": "code",
      "execution_count": null,
      "metadata": {},
      "outputs": [],
      "source": [
        "#Words tagged as Organization\n",
        "dataset.loc[dataset['entitas bernama'] == 'Organisation', 'token'].head()"
      ]
    }
  ],
  "metadata": {
    "colab": {
      "collapsed_sections": [],
      "name": "BiLSTM_CRF.ipynb",
      "private_outputs": true,
      "provenance": []
    },
    "kernelspec": {
      "display_name": "Python 3",
      "name": "python3"
    },
    "language_info": {
      "name": "python"
    }
  },
  "nbformat": 4,
  "nbformat_minor": 0
}
