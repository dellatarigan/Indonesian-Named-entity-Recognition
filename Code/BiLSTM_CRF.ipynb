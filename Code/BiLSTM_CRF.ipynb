{
  "nbformat": 4,
  "nbformat_minor": 2,
  "metadata": {
    "colab": {
      "name": "BiLSTM-CRF",
      "private_outputs": true,
      "provenance": [],
      "collapsed_sections": []
    },
    "kernelspec": {
      "name": "python3",
      "display_name": "Python 3"
    },
    "language_info": {
      "name": "python"
    }
  },
  "cells": [
    {
      "cell_type": "markdown",
      "source": [
        "**Load Data**"
      ],
      "metadata": {
        "id": "NwV4P3jwHAGT"
      }
    },
    {
      "cell_type": "markdown",
      "source": [
        "**Import Library**"
      ],
      "metadata": {
        "id": "p23F8GLCHHfm"
      }
    },
    {
      "cell_type": "code",
      "execution_count": null,
      "source": [
        "#Data analysis   \r\n",
        "import pandas as pd \r\n",
        "import numpy as np\r\n",
        "import csv\r\n",
        "import nltk\r\n",
        "import tensorflow as tf\r\n",
        "#Data visualisation \r\n",
        "import matplotlib.pyplot as plt\r\n",
        "import seaborn as sns\r\n",
        "sns.set(color_codes=True)\r\n",
        "sns.set(font_scale=1)\r\n",
        "%matplotlib inline\r\n",
        "from matplotlib import ticker\r\n",
        "%config InlineBackend.figure_format = 'svg' "
      ],
      "outputs": [],
      "metadata": {
        "id": "ge089KANHCXE"
      }
    },
    {
      "cell_type": "code",
      "execution_count": null,
      "source": [
        "import pandas as pd\r\n",
        "\r\n",
        "\r\n",
        "df = pd.read_csv(\"SINGGALANG.tsv\", sep='\\t')\r\n",
        "print(df)"
      ],
      "outputs": [],
      "metadata": {
        "id": "i6aG_juVJuB5"
      }
    },
    {
      "cell_type": "code",
      "execution_count": null,
      "source": [
        "list_kalimat = []\r\n",
        "nomor_kalimat = 1\r\n",
        "\r\n",
        "# open file in read mode\r\n",
        "with open('/content/SINGGALANG.tsv', encoding='UTF-8') as read_obj:\r\n",
        "    # pass the file object to reader() to get the reader object\r\n",
        "    csv_reader = csv.reader(read_obj, delimiter='\\t', quotechar=None) #https://www.petanikode.com/python-csv/ \r\n",
        "# https://docs.python.org/id/3.9/library/csv.html\r\n",
        "# Menginstruksikan reader untuk tidak melakukan pemrosesan khusus terhadap karakter kutipan\r\n",
        "    # Iterate over each row in the csv using reader object\r\n",
        "    for row in csv_reader:\r\n",
        "        # row variable is a list that represents a row in csv\r\n",
        "        if len(row) == 0:\r\n",
        "            nomor_kalimat += 1 \r\n",
        "        else:\r\n",
        "            tmp_row= row\r\n",
        "            tmp_row.append(nomor_kalimat)\r\n",
        "            list_kalimat.append(tmp_row)\r\n",
        "\r\n",
        "dataset = pd.DataFrame(list_kalimat, columns=['token', 'entitas bernama', 'kalimat'])"
      ],
      "outputs": [],
      "metadata": {
        "id": "FfaKTgu5L8wc"
      }
    },
    {
      "cell_type": "code",
      "execution_count": null,
      "source": [
        "dataset.head(10)"
      ],
      "outputs": [],
      "metadata": {
        "id": "E61UT1prMKOW"
      }
    },
    {
      "cell_type": "code",
      "execution_count": null,
      "source": [
        "dataset.tail()"
      ],
      "outputs": [],
      "metadata": {
        "id": "88MTXtURQt7p"
      }
    },
    {
      "cell_type": "code",
      "execution_count": null,
      "source": [
        "dataset.info()"
      ],
      "outputs": [],
      "metadata": {
        "id": "1hX7I0I2QuH2"
      }
    },
    {
      "cell_type": "code",
      "execution_count": null,
      "source": [
        "# kelas untuk mengambil kalimat dari dataset\r\n",
        "class getsentence(object): #deklarasikan class dengan nama getsentence\r\n",
        "    \r\n",
        "    def __init__(self, data): #deklarasikan “variabel” menggunakan kata “self” yang menunjukkan bahwa “variabel” merupakan milik dari class “getsentence”\r\n",
        "      self.n_sent = 1.0\r\n",
        "      self.dataset = dataset\r\n",
        "      self.empty = False \r\n",
        "      \r\n",
        "      #lambda adalah fungsi untuk mengembalikan nilai \r\n",
        "      agg_func = lambda s: [(t, e) for t, e in zip(s[\"token\"].values.tolist(),\r\n",
        "                                                 s[\"entitas bernama\"].values.tolist())]                                           \r\n",
        "      self.grouped = self.dataset.groupby(\"kalimat\").apply(agg_func)\r\n",
        "      self.sentences = [s for s in self.grouped]"
      ],
      "outputs": [],
      "metadata": {
        "id": "ZmlYa6BiSq0Z"
      }
    }
  ]
}