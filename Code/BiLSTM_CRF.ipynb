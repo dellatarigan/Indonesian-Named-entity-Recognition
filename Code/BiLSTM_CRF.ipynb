{
  "nbformat": 4,
  "nbformat_minor": 0,
  "metadata": {
    "colab": {
      "name": "BiLSTM-CRF",
      "private_outputs": true,
      "provenance": [],
      "collapsed_sections": []
    },
    "kernelspec": {
      "name": "python3",
      "display_name": "Python 3"
    },
    "language_info": {
      "name": "python"
    }
  },
  "cells": [
    {
      "cell_type": "markdown",
      "metadata": {
        "id": "NwV4P3jwHAGT"
      },
      "source": [
        "**Load Data**"
      ]
    },
    {
      "cell_type": "markdown",
      "metadata": {
        "id": "p23F8GLCHHfm"
      },
      "source": [
        "**Import Library**"
      ]
    },
    {
      "cell_type": "code",
      "metadata": {
        "id": "ge089KANHCXE"
      },
      "source": [
        "#Data analysis   \n",
        "import pandas as pd \n",
        "import numpy as np\n",
        "import csv\n",
        "import nltk\n",
        "import tensorflow as tf\n",
        "#Data visualisation \n",
        "import matplotlib.pyplot as plt\n",
        "import seaborn as sns\n",
        "sns.set(color_codes=True)\n",
        "sns.set(font_scale=1)\n",
        "%matplotlib inline\n",
        "from matplotlib import ticker\n",
        "%config InlineBackend.figure_format = 'svg' "
      ],
      "execution_count": null,
      "outputs": []
    },
    {
      "cell_type": "code",
      "metadata": {
        "id": "i6aG_juVJuB5"
      },
      "source": [
        "import pandas as pd\n",
        "\n",
        "\n",
        "df = pd.read_csv(\"SINGGALANG (1).tsv\", sep='\\t')\n",
        "print(df)"
      ],
      "execution_count": null,
      "outputs": []
    },
    {
      "cell_type": "code",
      "metadata": {
        "id": "FfaKTgu5L8wc"
      },
      "source": [
        "list_kalimat = []\n",
        "nomor_kalimat = 1\n",
        "\n",
        "# open file in read mode\n",
        "with open('/content/SINGGALANG (1).tsv', encoding='UTF-8') as read_obj:\n",
        "    # pass the file object to reader() to get the reader object\n",
        "    csv_reader = csv.reader(read_obj, delimiter='\\t', quotechar=None) #https://www.petanikode.com/python-csv/ \n",
        "# https://docs.python.org/id/3.9/library/csv.html\n",
        "# Menginstruksikan reader untuk tidak melakukan pemrosesan khusus terhadap karakter kutipan\n",
        "    # Iterate over each row in the csv using reader object\n",
        "    for row in csv_reader:\n",
        "        # row variable is a list that represents a row in csv\n",
        "        if len(row) == 0:\n",
        "            nomor_kalimat += 1 \n",
        "        else:\n",
        "            tmp_row= row\n",
        "            tmp_row.append(nomor_kalimat)\n",
        "            list_kalimat.append(tmp_row)\n",
        "\n",
        "dataset = pd.DataFrame(list_kalimat, columns=['token', 'entitas bernama', 'kalimat'])"
      ],
      "execution_count": null,
      "outputs": []
    },
    {
      "cell_type": "code",
      "metadata": {
        "id": "E61UT1prMKOW"
      },
      "source": [
        "dataset.head(10)"
      ],
      "execution_count": null,
      "outputs": []
    }
  ]
}