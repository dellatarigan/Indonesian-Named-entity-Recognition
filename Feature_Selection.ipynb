{
  "nbformat": 4,
  "nbformat_minor": 0,
  "metadata": {
    "colab": {
      "name": " Feature_Selection.ipynb",
      "provenance": [],
      "collapsed_sections": []
    },
    "kernelspec": {
      "name": "python3",
      "display_name": "Python 3"
    },
    "language_info": {
      "name": "python"
    }
  },
  "cells": [
    {
      "cell_type": "markdown",
      "metadata": {
        "id": "aY_MC_g8O9ls"
      },
      "source": [
        "**Exploration Data Analyisis**"
      ]
    },
    {
      "cell_type": "code",
      "metadata": {
        "id": "gbdWVpXwLuN7"
      },
      "source": [
        "#library untuk analisis data  \n",
        "import pandas as pd \n",
        "import numpy as np\n",
        "import csv\n",
        "import nltk\n",
        "import tensorflow as tf\n",
        "\n",
        "#library untuk visualisasi data\n",
        "import matplotlib.pyplot as plt\n",
        "import seaborn as sns\n",
        "sns.set(color_codes=True)\n",
        "sns.set(font_scale=1)\n",
        "%matplotlib inline\n",
        "from matplotlib import ticker\n",
        "%config InlineBackend.figure_format = 'svg' "
      ],
      "execution_count": 1,
      "outputs": []
    },
    {
      "cell_type": "code",
      "metadata": {
        "colab": {
          "base_uri": "https://localhost:8080/"
        },
        "id": "Wjsk-dPAMhWx",
        "outputId": "f2abef4c-d334-446f-bec8-4ef64aad02c6"
      },
      "source": [
        "#Meload dataset\n",
        "import pandas as pd\n",
        "\n",
        "df = pd.read_csv(\"SINGGALANG.tsv\", header = None, delimiter=\"\\t\", quoting=csv.QUOTE_NONE, encoding='utf-8')\n",
        "print(df)"
      ],
      "execution_count": 2,
      "outputs": [
        {
          "output_type": "stream",
          "name": "stdout",
          "text": [
            "                    0             1\n",
            "0                  Ia             O\n",
            "1            menjabat             O\n",
            "2             sebagai             O\n",
            "3            Presiden             O\n",
            "4              ketiga             O\n",
            "...               ...           ...\n",
            "1478263            di             O\n",
            "1478264      kalangan             O\n",
            "1478265       pelajar             O\n",
            "1478266  Muhammadiyah  Organisation\n",
            "1478267             .             O\n",
            "\n",
            "[1478268 rows x 2 columns]\n"
          ]
        }
      ]
    },
    {
      "cell_type": "code",
      "metadata": {
        "colab": {
          "base_uri": "https://localhost:8080/",
          "height": 206
        },
        "id": "mpxbQE2tMn9h",
        "outputId": "7fb33d87-bbbe-4343-96fb-233160e4414f"
      },
      "source": [
        "#Menampilkan 5 data teratas\n",
        "df.head()"
      ],
      "execution_count": 3,
      "outputs": [
        {
          "output_type": "execute_result",
          "data": {
            "text/html": [
              "<div>\n",
              "<style scoped>\n",
              "    .dataframe tbody tr th:only-of-type {\n",
              "        vertical-align: middle;\n",
              "    }\n",
              "\n",
              "    .dataframe tbody tr th {\n",
              "        vertical-align: top;\n",
              "    }\n",
              "\n",
              "    .dataframe thead th {\n",
              "        text-align: right;\n",
              "    }\n",
              "</style>\n",
              "<table border=\"1\" class=\"dataframe\">\n",
              "  <thead>\n",
              "    <tr style=\"text-align: right;\">\n",
              "      <th></th>\n",
              "      <th>0</th>\n",
              "      <th>1</th>\n",
              "    </tr>\n",
              "  </thead>\n",
              "  <tbody>\n",
              "    <tr>\n",
              "      <th>0</th>\n",
              "      <td>Ia</td>\n",
              "      <td>O</td>\n",
              "    </tr>\n",
              "    <tr>\n",
              "      <th>1</th>\n",
              "      <td>menjabat</td>\n",
              "      <td>O</td>\n",
              "    </tr>\n",
              "    <tr>\n",
              "      <th>2</th>\n",
              "      <td>sebagai</td>\n",
              "      <td>O</td>\n",
              "    </tr>\n",
              "    <tr>\n",
              "      <th>3</th>\n",
              "      <td>Presiden</td>\n",
              "      <td>O</td>\n",
              "    </tr>\n",
              "    <tr>\n",
              "      <th>4</th>\n",
              "      <td>ketiga</td>\n",
              "      <td>O</td>\n",
              "    </tr>\n",
              "  </tbody>\n",
              "</table>\n",
              "</div>"
            ],
            "text/plain": [
              "          0  1\n",
              "0        Ia  O\n",
              "1  menjabat  O\n",
              "2   sebagai  O\n",
              "3  Presiden  O\n",
              "4    ketiga  O"
            ]
          },
          "metadata": {},
          "execution_count": 3
        }
      ]
    },
    {
      "cell_type": "code",
      "metadata": {
        "colab": {
          "base_uri": "https://localhost:8080/",
          "height": 174
        },
        "id": "fTRfn9vvNGaX",
        "outputId": "7e4845c8-f8b9-4c5a-a869-9f011fd8c990"
      },
      "source": [
        "#Menampilkan statistik deskriptif \n",
        "df.describe()"
      ],
      "execution_count": 4,
      "outputs": [
        {
          "output_type": "execute_result",
          "data": {
            "text/html": [
              "<div>\n",
              "<style scoped>\n",
              "    .dataframe tbody tr th:only-of-type {\n",
              "        vertical-align: middle;\n",
              "    }\n",
              "\n",
              "    .dataframe tbody tr th {\n",
              "        vertical-align: top;\n",
              "    }\n",
              "\n",
              "    .dataframe thead th {\n",
              "        text-align: right;\n",
              "    }\n",
              "</style>\n",
              "<table border=\"1\" class=\"dataframe\">\n",
              "  <thead>\n",
              "    <tr style=\"text-align: right;\">\n",
              "      <th></th>\n",
              "      <th>0</th>\n",
              "      <th>1</th>\n",
              "    </tr>\n",
              "  </thead>\n",
              "  <tbody>\n",
              "    <tr>\n",
              "      <th>count</th>\n",
              "      <td>1478248</td>\n",
              "      <td>1478268</td>\n",
              "    </tr>\n",
              "    <tr>\n",
              "      <th>unique</th>\n",
              "      <td>100837</td>\n",
              "      <td>4</td>\n",
              "    </tr>\n",
              "    <tr>\n",
              "      <th>top</th>\n",
              "      <td>,</td>\n",
              "      <td>O</td>\n",
              "    </tr>\n",
              "    <tr>\n",
              "      <th>freq</th>\n",
              "      <td>88144</td>\n",
              "      <td>1340023</td>\n",
              "    </tr>\n",
              "  </tbody>\n",
              "</table>\n",
              "</div>"
            ],
            "text/plain": [
              "              0        1\n",
              "count   1478248  1478268\n",
              "unique   100837        4\n",
              "top           ,        O\n",
              "freq      88144  1340023"
            ]
          },
          "metadata": {},
          "execution_count": 4
        }
      ]
    },
    {
      "cell_type": "code",
      "metadata": {
        "colab": {
          "base_uri": "https://localhost:8080/"
        },
        "id": "wpmMWF1gNKas",
        "outputId": "2d1e709e-8afe-4865-d6fd-b2f4eaf26946"
      },
      "source": [
        "#Mengecek jumlah baris dan jumlah dolom dalam dataset\n",
        "df.shape"
      ],
      "execution_count": 5,
      "outputs": [
        {
          "output_type": "execute_result",
          "data": {
            "text/plain": [
              "(1478268, 2)"
            ]
          },
          "metadata": {},
          "execution_count": 5
        }
      ]
    },
    {
      "cell_type": "code",
      "metadata": {
        "colab": {
          "base_uri": "https://localhost:8080/"
        },
        "id": "ukvMsWfaNeNg",
        "outputId": "6465f8aa-c9d0-4952-dd0e-099aa5a1cbdf"
      },
      "source": [
        "#Mengecek tipe data setiap atribut\n",
        "df.info()"
      ],
      "execution_count": 6,
      "outputs": [
        {
          "output_type": "stream",
          "name": "stdout",
          "text": [
            "<class 'pandas.core.frame.DataFrame'>\n",
            "RangeIndex: 1478268 entries, 0 to 1478267\n",
            "Data columns (total 2 columns):\n",
            " #   Column  Non-Null Count    Dtype \n",
            "---  ------  --------------    ----- \n",
            " 0   0       1478248 non-null  object\n",
            " 1   1       1478268 non-null  object\n",
            "dtypes: object(2)\n",
            "memory usage: 22.6+ MB\n"
          ]
        }
      ]
    },
    {
      "cell_type": "code",
      "metadata": {
        "colab": {
          "base_uri": "https://localhost:8080/"
        },
        "id": "t6rzVF7VNog6",
        "outputId": "090cef41-7772-4216-d013-1c5551935fd6"
      },
      "source": [
        "#Mengecek data yang unik\n",
        "df.nunique()"
      ],
      "execution_count": 7,
      "outputs": [
        {
          "output_type": "execute_result",
          "data": {
            "text/plain": [
              "0    100837\n",
              "1         4\n",
              "dtype: int64"
            ]
          },
          "metadata": {},
          "execution_count": 7
        }
      ]
    },
    {
      "cell_type": "code",
      "metadata": {
        "id": "swr3tyrnXU_g"
      },
      "source": [
        "list_kalimat = []\n",
        "nomor_kalimat = 1\n",
        "\n",
        "\n",
        "with open('/content/SINGGALANG.tsv', encoding='UTF-8') as read_obj:\n",
        "    # Memberikan objek file ke reader() untuk mendapatkan objek pembaca\n",
        "    csv_reader = csv.reader(read_obj, delimiter='\\t', quotechar=None)\n",
        "    #Menginstruksikan reader untuk tidak melakukan pemrosesan khusus terhadap karakter kutipan\n",
        "    #Melakukan iterasi pada tiap  baris dalam csv dengan menggunakan objek pembaca\n",
        "    for row in csv_reader:\n",
        "        #variabel baris merupakan daftar yang mewakili baris dalam csv\n",
        "        if len(row) == 0:\n",
        "            nomor_kalimat += 1 \n",
        "        else:\n",
        "            tmp_row= row\n",
        "            tmp_row.append(nomor_kalimat)\n",
        "            list_kalimat.append(tmp_row)\n",
        "\n",
        "dataset = pd.DataFrame(list_kalimat, columns=['token', 'entitas bernama', 'kalimat'])"
      ],
      "execution_count": 8,
      "outputs": []
    },
    {
      "cell_type": "code",
      "metadata": {
        "colab": {
          "base_uri": "https://localhost:8080/",
          "height": 363
        },
        "id": "hvUgFaE6XpH5",
        "outputId": "4fb896cb-a34e-4b97-b4f9-1fd47a97909f"
      },
      "source": [
        "#Melakukan pengambilan data untuk mendapatkan 10 baris teratas dari data \n",
        "dataset.head(10)"
      ],
      "execution_count": 9,
      "outputs": [
        {
          "output_type": "execute_result",
          "data": {
            "text/html": [
              "<div>\n",
              "<style scoped>\n",
              "    .dataframe tbody tr th:only-of-type {\n",
              "        vertical-align: middle;\n",
              "    }\n",
              "\n",
              "    .dataframe tbody tr th {\n",
              "        vertical-align: top;\n",
              "    }\n",
              "\n",
              "    .dataframe thead th {\n",
              "        text-align: right;\n",
              "    }\n",
              "</style>\n",
              "<table border=\"1\" class=\"dataframe\">\n",
              "  <thead>\n",
              "    <tr style=\"text-align: right;\">\n",
              "      <th></th>\n",
              "      <th>token</th>\n",
              "      <th>entitas bernama</th>\n",
              "      <th>kalimat</th>\n",
              "    </tr>\n",
              "  </thead>\n",
              "  <tbody>\n",
              "    <tr>\n",
              "      <th>0</th>\n",
              "      <td>Ia</td>\n",
              "      <td>O</td>\n",
              "      <td>1</td>\n",
              "    </tr>\n",
              "    <tr>\n",
              "      <th>1</th>\n",
              "      <td>menjabat</td>\n",
              "      <td>O</td>\n",
              "      <td>1</td>\n",
              "    </tr>\n",
              "    <tr>\n",
              "      <th>2</th>\n",
              "      <td>sebagai</td>\n",
              "      <td>O</td>\n",
              "      <td>1</td>\n",
              "    </tr>\n",
              "    <tr>\n",
              "      <th>3</th>\n",
              "      <td>Presiden</td>\n",
              "      <td>O</td>\n",
              "      <td>1</td>\n",
              "    </tr>\n",
              "    <tr>\n",
              "      <th>4</th>\n",
              "      <td>ketiga</td>\n",
              "      <td>O</td>\n",
              "      <td>1</td>\n",
              "    </tr>\n",
              "    <tr>\n",
              "      <th>5</th>\n",
              "      <td>Mesir</td>\n",
              "      <td>Place</td>\n",
              "      <td>1</td>\n",
              "    </tr>\n",
              "    <tr>\n",
              "      <th>6</th>\n",
              "      <td>pada</td>\n",
              "      <td>O</td>\n",
              "      <td>1</td>\n",
              "    </tr>\n",
              "    <tr>\n",
              "      <th>7</th>\n",
              "      <td>periode</td>\n",
              "      <td>O</td>\n",
              "      <td>1</td>\n",
              "    </tr>\n",
              "    <tr>\n",
              "      <th>8</th>\n",
              "      <td>15</td>\n",
              "      <td>O</td>\n",
              "      <td>1</td>\n",
              "    </tr>\n",
              "    <tr>\n",
              "      <th>9</th>\n",
              "      <td>Oktober</td>\n",
              "      <td>O</td>\n",
              "      <td>1</td>\n",
              "    </tr>\n",
              "  </tbody>\n",
              "</table>\n",
              "</div>"
            ],
            "text/plain": [
              "      token entitas bernama  kalimat\n",
              "0        Ia               O        1\n",
              "1  menjabat               O        1\n",
              "2   sebagai               O        1\n",
              "3  Presiden               O        1\n",
              "4    ketiga               O        1\n",
              "5     Mesir           Place        1\n",
              "6      pada               O        1\n",
              "7   periode               O        1\n",
              "8        15               O        1\n",
              "9   Oktober               O        1"
            ]
          },
          "metadata": {},
          "execution_count": 9
        }
      ]
    },
    {
      "cell_type": "code",
      "metadata": {
        "id": "iFDNTIV0QFIE"
      },
      "source": [
        "#Mendeklarasikan Class untuk mengambil kalimat dari dataset\n",
        "class getsentence(object): #Melakukan deklarasi class dengan nama getsentence\n",
        "    \n",
        "    #Melakukan deklarasi \"variabel\" sebagai self. \"variabel\" merupakan objek dari class \"getsentence\"\n",
        "    def __init__(self, data): \n",
        "      self.n_sent = 1.0\n",
        "      self.dataset = dataset\n",
        "      self.empty = False \n",
        "      \n",
        "      #Lambda digunakan untuk mengembalikan nilai \n",
        "      agg_func = lambda s: [(t, e) for t, e in zip(s[\"token\"].values.tolist(),\n",
        "                                                 s[\"entitas bernama\"].values.tolist())]                                           \n",
        "      self.grouped = self.dataset.groupby(\"kalimat\").apply(agg_func)\n",
        "      self.sentences = [s for s in self.grouped]"
      ],
      "execution_count": 10,
      "outputs": []
    },
    {
      "cell_type": "code",
      "metadata": {
        "colab": {
          "base_uri": "https://localhost:8080/"
        },
        "id": "HcjAZ5vqQTL4",
        "outputId": "065d4fd7-341c-49aa-983d-80207932a589"
      },
      "source": [
        "#Getter adalah member function yang dipakai untuk menampilkan nilai data member\n",
        "getter = getsentence(dataset)\n",
        "kalimat = getter.sentences\n",
        "\n",
        "\n",
        "print(kalimat[0]) #melakukan print kalimat pertama"
      ],
      "execution_count": 11,
      "outputs": [
        {
          "output_type": "stream",
          "name": "stdout",
          "text": [
            "[('Ia', 'O'), ('menjabat', 'O'), ('sebagai', 'O'), ('Presiden', 'O'), ('ketiga', 'O'), ('Mesir', 'Place'), ('pada', 'O'), ('periode', 'O'), ('15', 'O'), ('Oktober', 'O'), ('1970', 'O'), ('hingga', 'O'), ('terbunuhnya', 'O'), ('pada', 'O'), ('6', 'O'), ('Oktober', 'O'), ('1981', 'O'), ('.', 'O')]\n"
          ]
        }
      ]
    },
    {
      "cell_type": "code",
      "metadata": {
        "id": "muLRzW9vQVsc"
      },
      "source": [
        "#Len digunakan untuk mendapatkan panjang kalimat\n",
        "longest_sen = max(kalimat, key=len)\n",
        "longest_sen_len = len(longest_sen)"
      ],
      "execution_count": 12,
      "outputs": []
    },
    {
      "cell_type": "code",
      "metadata": {
        "colab": {
          "base_uri": "https://localhost:8080/"
        },
        "id": "8eJEaV5_QV6R",
        "outputId": "ed900b86-2755-421f-c613-7e552115aae6"
      },
      "source": [
        "#Melakukan print jumlah kata panjang dalan kalimat\n",
        "print (longest_sen_len)"
      ],
      "execution_count": 13,
      "outputs": [
        {
          "output_type": "stream",
          "name": "stdout",
          "text": [
            "490\n"
          ]
        }
      ]
    },
    {
      "cell_type": "code",
      "metadata": {
        "colab": {
          "base_uri": "https://localhost:8080/"
        },
        "id": "ngvUlaJ8Qb4t",
        "outputId": "4e2b7dc4-3c9b-41ad-89ff-893b29688267"
      },
      "source": [
        "#Melakukan print terhadapt kata yang terdapat pada kalimat\n",
        "print (longest_sen)"
      ],
      "execution_count": 14,
      "outputs": [
        {
          "output_type": "stream",
          "name": "stdout",
          "text": [
            "[('Sejarah', 'O'), ('Asal', 'O'), ('Usul', 'O'), ('Desa', 'O'), ('ArjawinangunDiceritakan', 'O'), ('dalam', 'O'), ('alam', 'O'), ('pengembaraannya', 'O'), ('untuk', 'O'), ('mencari', 'O'), ('dan', 'O'), ('memperdalam', 'O'), ('agama', 'O'), ('islam', 'O'), (',', 'O'), ('dua', 'O'), ('orang', 'O'), ('Pajajaran', 'Place'), ('Raden', 'O'), ('Walangsungsng', 'O'), ('dan', 'O'), ('Adiknya', 'O'), ('Nyi', 'O'), ('Rarasantang', 'O'), (',', 'O'), ('sampai', 'O'), ('ke', 'O'), ('Mesir', 'Place'), ('menunaikan', 'O'), ('Ibadah', 'O'), ('Haji', 'O'), (',', 'O'), ('Raden', 'O'), ('Walangsungsang', 'O'), ('pulang', 'O'), ('ke', 'O'), ('Cirebon', 'Place'), ('dengan', 'O'), ('sebutan', 'O'), ('Haji', 'O'), ('Abdullah', 'Person'), ('Iman', 'O'), (',', 'O'), ('sedangkan', 'O'), ('adiknyaNyi', 'O'), ('Rarasantang', 'O'), ('tetap', 'O'), ('berada', 'O'), ('di', 'O'), ('Mesir', 'Place'), ('karena', 'O'), ('telah', 'O'), ('bersuami', 'O'), ('dengan', 'O'), ('Syarif', 'O'), ('Abdullah', 'Person'), ('seorang', 'O'), ('Raja', 'O'), ('Mesir', 'Place'), (',', 'O'), ('berputra', 'O'), ('dua', 'O'), ('orang', 'O'), ('yaitu', 'O'), ('Syarif', 'O'), ('Hidayatullah', 'Person'), ('dan', 'O'), ('Syarif', 'O'), ('Nurullah', 'O'), (',', 'O'), ('tidak', 'O'), ('lama', 'O'), ('kemudian', 'O'), ('setelah', 'O'), ('Syarif', 'O'), ('Hidayatullah', 'Person'), ('dilahirkan', 'O'), (',', 'O'), ('ayahandanya', 'O'), ('wafat.Menginjak', 'O'), ('usia', 'O'), ('dewasa', 'O'), (',', 'O'), ('Syarif', 'O'), ('Hidayatullah', 'Person'), ('berpamitan', 'O'), ('kepada', 'O'), ('ibunya', 'O'), ('pergi', 'O'), ('ke', 'O'), ('Cirebon', 'Place'), ('sambil', 'O'), ('mencari', 'O'), ('Guru', 'O'), ('untuk', 'O'), ('memperdalam', 'O'), ('ajaran', 'O'), ('agama', 'O'), ('islam.di', 'O'), ('Cirebon', 'Place'), ('bertemu', 'O'), ('dengan', 'O'), ('Uwaknya', 'O'), ('H.Abdullah', 'O'), ('Iman', 'O'), ('atau', 'O'), ('di', 'O'), ('sebut', 'O'), ('juga', 'O'), ('Pangeran', 'O'), ('Cakra', 'O'), ('Buana', 'O'), ('yang', 'O'), ('telah', 'O'), ('memiliki', 'O'), ('seorang', 'O'), ('PutriNyi', 'O'), ('Mas', 'O'), ('Pakungwati', 'O'), (',', 'O'), ('dari', 'O'), ('pernikahan', 'O'), ('dengan', 'O'), ('Nyai', 'O'), ('Endang', 'O'), ('Geulis', 'O'), (',', 'O'), ('Syarif', 'O'), ('Hidayatullah', 'Person'), ('dinikahkan', 'O'), ('dengan', 'O'), ('Nyi', 'O'), ('Mas', 'O'), ('Pakungwati', 'O'), ('dan', 'O'), ('menduduki', 'O'), ('Keraton', 'O'), ('Paakungwati', 'O'), ('dengan', 'O'), ('gelarSultan', 'O'), ('Syarif', 'O'), ('Hidayatullah', 'Person'), ('atas', 'O'), ('pemberian', 'O'), ('nama', 'O'), ('Uwaknya', 'O'), ('Pangeran', 'O'), ('Cakra', 'O'), ('Buana.Belum', 'O'), ('lama', 'O'), ('di', 'O'), ('Cirebon', 'Place'), (',', 'O'), ('Syarif', 'O'), ('Hidayatullah', 'Person'), ('pergi', 'O'), ('mengembara', 'O'), ('ke', 'O'), ('Negri', 'O'), ('Cina', 'Place'), ('untuk', 'O'), ('menuntut', 'O'), ('ilmu', 'O'), ('dan', 'O'), ('menyebarkan', 'O'), ('agama', 'O'), ('islam', 'O'), (',', 'O'), ('di', 'O'), ('negri', 'O'), ('Cina', 'Place'), ('Syarif', 'O'), ('Hidayatullah', 'Person'), ('sangat', 'O'), ('dihormati', 'O'), ('oleh', 'O'), ('masyarakat', 'O'), ('yang', 'O'), ('di', 'O'), ('datangi', 'O'), ('dan', 'O'), ('banyak', 'O'), ('pula', 'O'), ('yang', 'O'), ('menganut', 'O'), ('agama', 'O'), ('islam', 'O'), (',', 'O'), ('karena', 'O'), ('dianggap', 'O'), ('orang', 'O'), ('sakti', 'O'), ('dan', 'O'), ('sangat', 'O'), ('ramah', 'O'), ('dengan', 'O'), ('penduduk.Pada', 'O'), ('suatu', 'O'), ('ketika', 'O'), ('terjadi', 'O'), ('kebakaran', 'O'), ('di', 'O'), ('pembakaran', 'O'), ('keramik', 'O'), (',', 'O'), ('di', 'O'), ('dalam', 'O'), ('rumah', 'O'), ('menyaladi', 'O'), ('landa', 'O'), ('api', 'O'), (',', 'O'), ('tak', 'O'), ('ada', 'O'), ('seorangpun', 'O'), ('yang', 'O'), ('berani', 'O'), ('menyelamatkan', 'O'), ('bayi', 'O'), ('yang', 'O'), ('masih', 'O'), ('ada', 'O'), ('di', 'O'), ('dalamnya', 'O'), (',', 'O'), ('dengan', 'O'), ('tenangnya', 'O'), ('Syarif', 'O'), ('Hidayatullah', 'Person'), ('masuk', 'O'), ('untuk', 'O'), ('menyelamatkan', 'O'), ('bayi', 'O'), ('lewat', 'O'), ('kobaran', 'O'), ('api', 'O'), ('yang', 'O'), ('menyala', 'O'), (',', 'O'), ('bayi', 'O'), ('dapat', 'O'), ('di', 'O'), ('selamatkan', 'O'), ('dengan', 'O'), ('keadaan', 'O'), ('segar', 'O'), ('bugar', 'O'), (',', 'O'), ('begitu', 'O'), ('pula', 'O'), ('dengan', 'O'), ('Syari', 'O'), ('Hidayatullah', 'Person'), (',', 'O'), ('pakaiaannya', 'O'), ('tidak', 'O'), ('terbakar', 'O'), ('sedikitpun.penduduk', 'O'), ('terkagum', 'O'), ('kagum', 'O'), ('dan', 'O'), ('dianggap', 'O'), ('orang', 'O'), ('sakti.Peristiwa', 'O'), ('itu', 'O'), ('terdengar', 'O'), ('Kaisar', 'O'), ('Cina', 'Place'), ('yang', 'O'), ('menjadikan', 'O'), ('dirinya', 'O'), ('gusar', 'O'), ('dan', 'O'), ('marah', 'O'), (',', 'O'), ('maka', 'O'), ('dibuatlah', 'O'), ('tipu', 'O'), ('muslihat', 'O'), (',', 'O'), ('diundanglah', 'O'), ('Syarif', 'O'), ('Hidayatullah', 'Person'), ('ke', 'O'), ('Istana', 'O'), ('untuk', 'O'), ('menebak', 'O'), ('apakah', 'O'), ('Putri', 'O'), ('An', 'O'), ('Liong', 'O'), ('Tien', 'O'), ('benar-benar', 'O'), ('mengandung', 'O'), (',', 'O'), ('semula', 'O'), ('Syarif', 'O'), ('Hidayatullah', 'Person'), ('akan', 'O'), ('menerima', 'O'), ('hukuman', 'O'), ('yang', 'O'), ('berat', 'O'), ('dari', 'O'), ('Kaisar', 'O'), ('karena', 'O'), ('di', 'O'), ('perut', 'O'), ('Putri', 'O'), ('An', 'O'), ('Liong', 'O'), ('Tien', 'O'), ('hanyalah', 'O'), ('sebuah', 'O'), ('bantal', 'O'), ('belaka', 'O'), ('yang', 'O'), ('di', 'O'), ('letakkan', 'O'), ('didalam', 'O'), ('perutnya', 'O'), (',', 'O'), ('sehingga', 'O'), ('persis', 'O'), ('seperti', 'O'), ('orang', 'O'), ('mengandung', 'O'), (',', 'O'), ('akan', 'O'), ('tetapi', 'O'), ('dalam', 'O'), ('keputren', 'O'), ('seorang', 'O'), ('emban', 'O'), ('menjerit-jerit', 'O'), ('bahwa', 'O'), ('Putri', 'O'), ('An', 'O'), ('Liong', 'O'), ('Tien', 'O'), ('benar', 'O'), ('-', 'O'), ('benar', 'O'), ('mengandung', 'O'), (',', 'O'), ('setelah', 'O'), ('dilihat', 'O'), ('oleh', 'O'), ('Kaisar', 'O'), ('benar', 'O'), ('juga', 'O'), ('adanya', 'O'), (',', 'O'), ('Syarif', 'O'), ('Hidayatullah', 'Person'), ('menyelinap', 'O'), ('keluar', 'O'), ('dari', 'O'), ('Istana', 'O'), ('dan', 'O'), ('kembali', 'O'), ('ke', 'O'), ('Cirebon.Putri', 'O'), ('An', 'O'), ('Liong', 'O'), ('Tin', 'O'), ('berpamitan', 'O'), ('kepada', 'O'), ('ayahnya', 'O'), ('untuk', 'O'), ('mencari', 'O'), ('calon', 'O'), ('suami', 'O'), ('di', 'O'), ('Cirebon', 'Place'), (',', 'O'), ('dalam', 'O'), ('pertemuannya', 'O'), ('digunungjati', 'O'), ('Putri', 'O'), ('An', 'O'), ('Liong', 'O'), ('Tin', 'O'), ('dinikahi', 'O'), ('oleh', 'O'), ('Syari', 'O'), ('Hidayatullah', 'Person'), ('dan', 'O'), ('di', 'O'), ('tempatkan', 'O'), ('di', 'O'), ('daerah', 'O'), ('Luragung', 'Place'), (',', 'O'), ('Putri', 'O'), ('An', 'O'), ('Lion', 'O'), ('Tinmengangkat', 'O'), ('putra', 'O'), ('Ki', 'O'), ('Gede', 'O'), ('Luragung', 'Place'), ('bernama', 'O'), ('Arya', 'O'), ('Kemuning', 'O'), (',', 'O'), ('kemudian', 'O'), ('namanya', 'O'), ('menjadi', 'O'), ('Adipati', 'O'), ('Arya', 'O'), ('Kemuning.Pada', 'O'), ('saat', 'O'), ('menginjak', 'O'), ('usia', 'O'), ('dewasa', 'O'), (',', 'O'), ('Dipati', 'O'), ('Arya', 'O'), ('Kemuning', 'O'), ('yang', 'O'), ('telah', 'O'), ('ditinggal', 'O'), ('ibunya', 'O'), ('wafat', 'O'), (',', 'O'), ('pergi', 'O'), ('ke', 'O'), ('Gunungjati', 'Place'), ('untuk', 'O'), ('ayahandanya', 'O'), ('Syarif', 'O'), ('Hidayatullah', 'Person'), (',', 'O'), ('Sultan', 'O'), ('Syarif', 'O'), ('Hidayatullah', 'Person'), ('menerimanya', 'O'), ('dengan', 'O'), ('suka', 'O'), ('hati', 'O'), (',', 'O'), ('kemudian', 'O'), ('DipatiArya', 'O'), ('Kemuning', 'O'), ('di', 'O'), ('tugaskan', 'O'), ('untuk', 'O'), ('mengundang', 'O'), ('Suryadarma', 'O'), ('di', 'O'), ('Indramayu', 'Place'), ('agar', 'O'), ('datang', 'O'), ('ke', 'O'), ('Gunungjati.Sekembalinya', 'O'), ('Arya', 'O'), ('Kemuning', 'O'), ('setelah', 'O'), ('melaksanakan', 'O'), ('amanat', 'O'), ('Ayahandanya', 'O'), (',', 'O'), ('karena', 'O'), ('kelelahan', 'O'), (',', 'O'), ('Dipati', 'O'), ('Arya', 'O'), ('Kemuning', 'O'), ('istirahat', 'O'), ('untuk', 'O'), ('melepaskan', 'O'), ('lelah', 'O'), (',', 'O'), ('ditempat', 'O'), ('istirahat', 'O'), ('Dipati', 'O'), ('Arya', 'O'), ('Kemuning', 'O'), ('itulah', 'O'), ('sekarang', 'O'), ('disebut', 'O'), ('Arjawinangun.Arjawinangun', 'O'), ('terdiri', 'O'), ('dari', 'O'), ('dua', 'O'), ('kataARJA', 'O'), ('dan', 'O'), ('WINGUN', 'O'), ('.', 'O')]\n"
          ]
        }
      ]
    },
    {
      "cell_type": "code",
      "metadata": {
        "id": "Yllf2nD5QcAf"
      },
      "source": [
        "#Len digunakan untuk mendapatkan panjang kalimat\n",
        "shortest_sen = min(kalimat, key=len)\n",
        "shortest_sen_len = len(shortest_sen)"
      ],
      "execution_count": 15,
      "outputs": []
    },
    {
      "cell_type": "code",
      "metadata": {
        "colab": {
          "base_uri": "https://localhost:8080/"
        },
        "id": "ZBxu9wX3QcIF",
        "outputId": "ba9327e1-7287-4338-c6c0-39556927b9f2"
      },
      "source": [
        "#Melakukan print jumlah kata pendek dalan kalimat\n",
        "print (shortest_sen_len)"
      ],
      "execution_count": 16,
      "outputs": [
        {
          "output_type": "stream",
          "name": "stdout",
          "text": [
            "2\n"
          ]
        }
      ]
    },
    {
      "cell_type": "code",
      "metadata": {
        "colab": {
          "base_uri": "https://localhost:8080/"
        },
        "id": "h2XH0kkuQcLx",
        "outputId": "e4782c68-0d35-4359-cd15-f057ecd2f90c"
      },
      "source": [
        "#Melakukan print terhadapt kata yang terdapat pada kalimat\n",
        "print (shortest_sen)"
      ],
      "execution_count": 17,
      "outputs": [
        {
          "output_type": "stream",
          "name": "stdout",
          "text": [
            "[('III/S', 'O'), ('.', 'O')]\n"
          ]
        }
      ]
    },
    {
      "cell_type": "code",
      "metadata": {
        "colab": {
          "base_uri": "https://localhost:8080/"
        },
        "id": "OgQP4MTNQcPe",
        "outputId": "ca338b7a-a5d3-4122-9ea5-19f19341b114"
      },
      "source": [
        "#Melakukan penjumlahan terhadap kalimat\n",
        "print(\"Jumlah kalimat: \", len(dataset.groupby(['kalimat'])))\n",
        "#Melakukan penjumlahan kata yang unik didalam kalimat\n",
        "words = list(set(dataset[\"token\"].values))\n",
        "n_words = len(words)\n",
        "print(\"Jumlah kata unik : \", n_words)\n",
        "#Melakukan pengelompokan kategori entitas bernama\n",
        "tags = list(set(dataset[\"entitas bernama\"].values))\n",
        "print(\"Entitas bernama:\", tags)\n",
        "#Melakukan penjumlahan terhadap kategori entitas bernama\n",
        "n_tags = len(tags)\n",
        "print(\"Jumlah entitas bernama: \", n_tags)"
      ],
      "execution_count": 18,
      "outputs": [
        {
          "output_type": "stream",
          "name": "stdout",
          "text": [
            "Jumlah kalimat:  48957\n",
            "Jumlah kata unik :  100839\n",
            "Entitas bernama: ['Place', 'Person', 'Organisation', 'O']\n",
            "Jumlah entitas bernama:  4\n"
          ]
        }
      ]
    },
    {
      "cell_type": "code",
      "metadata": {
        "colab": {
          "base_uri": "https://localhost:8080/"
        },
        "id": "1gcvSyj4QcS2",
        "outputId": "68638b65-cc0f-4990-8e9a-c802cec63869"
      },
      "source": [
        "#Mendapatkan kata dengan urutan n teratas yang memiliki entitas bernama PLace\n",
        "dataset.loc[dataset['entitas bernama'] == 'Place', 'token'].head()"
      ],
      "execution_count": 19,
      "outputs": [
        {
          "output_type": "execute_result",
          "data": {
            "text/plain": [
              "5        Mesir\n",
              "29       Mesir\n",
              "47       Mesir\n",
              "68    Kerajaan\n",
              "70       Kairo\n",
              "Name: token, dtype: object"
            ]
          },
          "metadata": {},
          "execution_count": 19
        }
      ]
    },
    {
      "cell_type": "code",
      "metadata": {
        "colab": {
          "base_uri": "https://localhost:8080/"
        },
        "id": "xs25hxo0Qqjq",
        "outputId": "10a1bdff-f9fc-4bbc-bf46-1395854a6605"
      },
      "source": [
        "#Mendapatkan kata dengan indeks tertentu dengan menggunakan illoc\n",
        "dataset.iloc[220085] "
      ],
      "execution_count": 20,
      "outputs": [
        {
          "output_type": "execute_result",
          "data": {
            "text/plain": [
              "token              Propinsi\n",
              "entitas bernama           O\n",
              "kalimat                7303\n",
              "Name: 220085, dtype: object"
            ]
          },
          "metadata": {},
          "execution_count": 20
        }
      ]
    },
    {
      "cell_type": "code",
      "metadata": {
        "colab": {
          "base_uri": "https://localhost:8080/"
        },
        "id": "xgGwcJu7QqrC",
        "outputId": "e5de91a7-a13f-474b-9841-21d1814f0726"
      },
      "source": [
        "#Mendapatkan kata dengan urutan n teratas yang memiliki entitas bernama Person\n",
        "dataset.loc[dataset['entitas bernama'] == 'Person', 'token'].head()"
      ],
      "execution_count": 21,
      "outputs": [
        {
          "output_type": "execute_result",
          "data": {
            "text/plain": [
              "38     Sadat\n",
              "100    Anwar\n",
              "101    Sadat\n",
              "105    Hafez\n",
              "107    Assad\n",
              "Name: token, dtype: object"
            ]
          },
          "metadata": {},
          "execution_count": 21
        }
      ]
    },
    {
      "cell_type": "code",
      "metadata": {
        "colab": {
          "base_uri": "https://localhost:8080/"
        },
        "id": "woN7j_4BQqvx",
        "outputId": "5d472daa-d73b-451f-f28c-da3d61531328"
      },
      "source": [
        "#Mendapatkan kata dengan urutan n teratas yang memiliki entitas bernama Organization\n",
        "dataset.loc[dataset['entitas bernama'] == 'Organisation', 'token'].head()"
      ],
      "execution_count": 22,
      "outputs": [
        {
          "output_type": "execute_result",
          "data": {
            "text/plain": [
              "568    Universitas\n",
              "569      Indonesia\n",
              "711     Independen\n",
              "778    Universitas\n",
              "779         Gadjah\n",
              "Name: token, dtype: object"
            ]
          },
          "metadata": {},
          "execution_count": 22
        }
      ]
    },
    {
      "cell_type": "code",
      "metadata": {
        "colab": {
          "base_uri": "https://localhost:8080/"
        },
        "id": "TEZO9lmgQz18",
        "outputId": "90e9099a-a285-4197-c073-1d4e007e6ab8"
      },
      "source": [
        "#Mendapatkan kata dengan urutan n teratas yang memiliki entitas bernama O\n",
        "dataset.loc[dataset['entitas bernama'] == 'O', 'token'].head()"
      ],
      "execution_count": 23,
      "outputs": [
        {
          "output_type": "execute_result",
          "data": {
            "text/plain": [
              "0          Ia\n",
              "1    menjabat\n",
              "2     sebagai\n",
              "3    Presiden\n",
              "4      ketiga\n",
              "Name: token, dtype: object"
            ]
          },
          "metadata": {},
          "execution_count": 23
        }
      ]
    },
    {
      "cell_type": "code",
      "metadata": {
        "colab": {
          "base_uri": "https://localhost:8080/"
        },
        "id": "z0B0ZqOvQz7F",
        "outputId": "70e9c779-4a93-4d48-cce0-cd214c863cfb"
      },
      "source": [
        "#Melakukan perhitungan tiap kategori pada entitas bernama\n",
        "dataframe = dataset.groupby(\"entitas bernama\" )\n",
        "dataframe[\"entitas bernama\"].count()"
      ],
      "execution_count": 24,
      "outputs": [
        {
          "output_type": "execute_result",
          "data": {
            "text/plain": [
              "entitas bernama\n",
              "O               1340023\n",
              "Organisation      14770\n",
              "Person            41297\n",
              "Place             82178\n",
              "Name: entitas bernama, dtype: int64"
            ]
          },
          "metadata": {},
          "execution_count": 24
        }
      ]
    },
    {
      "cell_type": "code",
      "metadata": {
        "colab": {
          "base_uri": "https://localhost:8080/",
          "height": 708
        },
        "id": "MgvGK3PHQ5GD",
        "outputId": "23f0b822-031f-4a28-a159-9d7d94f4ee31"
      },
      "source": [
        "#Membuat diagram distribusi frekuensi Entitas Bernama\n",
        "ncount = len(dataset)\n",
        "\n",
        "plt.figure(figsize=(10.5, 8))\n",
        "ax = sns.countplot(x = \"entitas bernama\", data = dataset)\n",
        "plt.title('Distribusi Frekuensi Entitas Bernama')\n",
        "plt.xlabel('Entitas Bernama')\n",
        "\n",
        "# Membuat twin axis\n",
        "ax2 = ax.twinx()\n",
        "\n",
        "# Melakukan pertukaran agar count axis di kanan, frekuensi di kiri\n",
        "ax2.yaxis.tick_left()\n",
        "ax.yaxis.tick_right()\n",
        "\n",
        "# Melakukan pertukaran label\n",
        "ax.yaxis.set_label_position('right')\n",
        "ax2.yaxis.set_label_position('left')\n",
        "\n",
        "ax.set_ylabel('Jumlah')\n",
        "ax2.set_ylabel('Frekuensi [%]')\n",
        "\n",
        "for p in ax.patches:\n",
        "    x = p.get_bbox().get_points()[:,0]\n",
        "    y = p.get_bbox().get_points()[1, 1]\n",
        "    ax.annotate('{:.1f}%'.format(100.*y/ncount), (x.mean(), y), \n",
        "                ha = 'center', va = 'bottom') # atur alignment teks\n",
        "\n",
        "# Menggunakan LinearLocator untuk memastikan jumlah tick yang benar\n",
        "ax.yaxis.set_major_locator(ticker.LinearLocator(11))\n",
        "\n",
        "# Melakukan perbaikan rentang frekuensi menjadi 0-100\n",
        "ax2.set_ylim(0, 100)\n",
        "ax.set_ylim(0, ncount)\n",
        "\n",
        "# Menggunakan MultipleLocator untuk memastikan spasi antar-tick yaitu 10\n",
        "ax2.yaxis.set_major_locator(ticker.MultipleLocator(10))\n",
        "\n",
        "# Mengatur Agar grid pada ax2 off, supaya gridlines tidak ditampilkan pada bagian atas bar\n",
        "ax2.grid(None)"
      ],
      "execution_count": 25,
      "outputs": [
        {
          "output_type": "display_data",
          "data": {
            "text/plain": [
              "<Figure size 756x576 with 2 Axes>"
            ],
            "image/svg+xml": "<?xml version=\"1.0\" encoding=\"utf-8\" standalone=\"no\"?>\n<!DOCTYPE svg PUBLIC \"-//W3C//DTD SVG 1.1//EN\"\n  \"http://www.w3.org/Graphics/SVG/1.1/DTD/svg11.dtd\">\n<!-- Created with matplotlib (https://matplotlib.org/) -->\n<svg height=\"500.157812pt\" version=\"1.1\" viewBox=\"0 0 703.014687 500.157812\" width=\"703.014687pt\" xmlns=\"http://www.w3.org/2000/svg\" xmlns:xlink=\"http://www.w3.org/1999/xlink\">\n <defs>\n  <style type=\"text/css\">\n*{stroke-linecap:butt;stroke-linejoin:round;}\n  </style>\n </defs>\n <g id=\"figure_1\">\n  <g id=\"patch_1\">\n   <path d=\"M 0 500.157812 \nL 703.014687 500.157812 \nL 703.014687 0 \nL 0 0 \nz\n\" style=\"fill:none;\"/>\n  </g>\n  <g id=\"axes_1\">\n   <g id=\"patch_2\">\n    <path d=\"M 53.31 457.198125 \nL 639.21 457.198125 \nL 639.21 22.318125 \nL 53.31 22.318125 \nz\n\" style=\"fill:#eaeaf2;\"/>\n   </g>\n   <g id=\"matplotlib.axis_1\">\n    <g id=\"xtick_1\">\n     <g id=\"text_1\">\n      <!-- O -->\n      <defs>\n       <path d=\"M 39.40625 66.21875 \nQ 28.65625 66.21875 22.328125 58.203125 \nQ 16.015625 50.203125 16.015625 36.375 \nQ 16.015625 22.609375 22.328125 14.59375 \nQ 28.65625 6.59375 39.40625 6.59375 \nQ 50.140625 6.59375 56.421875 14.59375 \nQ 62.703125 22.609375 62.703125 36.375 \nQ 62.703125 50.203125 56.421875 58.203125 \nQ 50.140625 66.21875 39.40625 66.21875 \nz\nM 39.40625 74.21875 \nQ 54.734375 74.21875 63.90625 63.9375 \nQ 73.09375 53.65625 73.09375 36.375 \nQ 73.09375 19.140625 63.90625 8.859375 \nQ 54.734375 -1.421875 39.40625 -1.421875 \nQ 24.03125 -1.421875 14.8125 8.828125 \nQ 5.609375 19.09375 5.609375 36.375 \nQ 5.609375 53.65625 14.8125 63.9375 \nQ 24.03125 74.21875 39.40625 74.21875 \nz\n\" id=\"DejaVuSans-79\"/>\n      </defs>\n      <g style=\"fill:#262626;\" transform=\"translate(122.217969 475.056406)scale(0.11 -0.11)\">\n       <use xlink:href=\"#DejaVuSans-79\"/>\n      </g>\n     </g>\n    </g>\n    <g id=\"xtick_2\">\n     <g id=\"text_2\">\n      <!-- Place -->\n      <defs>\n       <path d=\"M 19.671875 64.796875 \nL 19.671875 37.40625 \nL 32.078125 37.40625 \nQ 38.96875 37.40625 42.71875 40.96875 \nQ 46.484375 44.53125 46.484375 51.125 \nQ 46.484375 57.671875 42.71875 61.234375 \nQ 38.96875 64.796875 32.078125 64.796875 \nz\nM 9.8125 72.90625 \nL 32.078125 72.90625 \nQ 44.34375 72.90625 50.609375 67.359375 \nQ 56.890625 61.8125 56.890625 51.125 \nQ 56.890625 40.328125 50.609375 34.8125 \nQ 44.34375 29.296875 32.078125 29.296875 \nL 19.671875 29.296875 \nL 19.671875 0 \nL 9.8125 0 \nz\n\" id=\"DejaVuSans-80\"/>\n       <path d=\"M 9.421875 75.984375 \nL 18.40625 75.984375 \nL 18.40625 0 \nL 9.421875 0 \nz\n\" id=\"DejaVuSans-108\"/>\n       <path d=\"M 34.28125 27.484375 \nQ 23.390625 27.484375 19.1875 25 \nQ 14.984375 22.515625 14.984375 16.5 \nQ 14.984375 11.71875 18.140625 8.90625 \nQ 21.296875 6.109375 26.703125 6.109375 \nQ 34.1875 6.109375 38.703125 11.40625 \nQ 43.21875 16.703125 43.21875 25.484375 \nL 43.21875 27.484375 \nz\nM 52.203125 31.203125 \nL 52.203125 0 \nL 43.21875 0 \nL 43.21875 8.296875 \nQ 40.140625 3.328125 35.546875 0.953125 \nQ 30.953125 -1.421875 24.3125 -1.421875 \nQ 15.921875 -1.421875 10.953125 3.296875 \nQ 6 8.015625 6 15.921875 \nQ 6 25.140625 12.171875 29.828125 \nQ 18.359375 34.515625 30.609375 34.515625 \nL 43.21875 34.515625 \nL 43.21875 35.40625 \nQ 43.21875 41.609375 39.140625 45 \nQ 35.0625 48.390625 27.6875 48.390625 \nQ 23 48.390625 18.546875 47.265625 \nQ 14.109375 46.140625 10.015625 43.890625 \nL 10.015625 52.203125 \nQ 14.9375 54.109375 19.578125 55.046875 \nQ 24.21875 56 28.609375 56 \nQ 40.484375 56 46.34375 49.84375 \nQ 52.203125 43.703125 52.203125 31.203125 \nz\n\" id=\"DejaVuSans-97\"/>\n       <path d=\"M 48.78125 52.59375 \nL 48.78125 44.1875 \nQ 44.96875 46.296875 41.140625 47.34375 \nQ 37.3125 48.390625 33.40625 48.390625 \nQ 24.65625 48.390625 19.8125 42.84375 \nQ 14.984375 37.3125 14.984375 27.296875 \nQ 14.984375 17.28125 19.8125 11.734375 \nQ 24.65625 6.203125 33.40625 6.203125 \nQ 37.3125 6.203125 41.140625 7.25 \nQ 44.96875 8.296875 48.78125 10.40625 \nL 48.78125 2.09375 \nQ 45.015625 0.34375 40.984375 -0.53125 \nQ 36.96875 -1.421875 32.421875 -1.421875 \nQ 20.0625 -1.421875 12.78125 6.34375 \nQ 5.515625 14.109375 5.515625 27.296875 \nQ 5.515625 40.671875 12.859375 48.328125 \nQ 20.21875 56 33.015625 56 \nQ 37.15625 56 41.109375 55.140625 \nQ 45.0625 54.296875 48.78125 52.59375 \nz\n\" id=\"DejaVuSans-99\"/>\n       <path d=\"M 56.203125 29.59375 \nL 56.203125 25.203125 \nL 14.890625 25.203125 \nQ 15.484375 15.921875 20.484375 11.0625 \nQ 25.484375 6.203125 34.421875 6.203125 \nQ 39.59375 6.203125 44.453125 7.46875 \nQ 49.3125 8.734375 54.109375 11.28125 \nL 54.109375 2.78125 \nQ 49.265625 0.734375 44.1875 -0.34375 \nQ 39.109375 -1.421875 33.890625 -1.421875 \nQ 20.796875 -1.421875 13.15625 6.1875 \nQ 5.515625 13.8125 5.515625 26.8125 \nQ 5.515625 40.234375 12.765625 48.109375 \nQ 20.015625 56 32.328125 56 \nQ 43.359375 56 49.78125 48.890625 \nQ 56.203125 41.796875 56.203125 29.59375 \nz\nM 47.21875 32.234375 \nQ 47.125 39.59375 43.09375 43.984375 \nQ 39.0625 48.390625 32.421875 48.390625 \nQ 24.90625 48.390625 20.390625 44.140625 \nQ 15.875 39.890625 15.1875 32.171875 \nz\n\" id=\"DejaVuSans-101\"/>\n      </defs>\n      <g style=\"fill:#262626;\" transform=\"translate(258.399375 475.056406)scale(0.11 -0.11)\">\n       <use xlink:href=\"#DejaVuSans-80\"/>\n       <use x=\"60.302734\" xlink:href=\"#DejaVuSans-108\"/>\n       <use x=\"88.085938\" xlink:href=\"#DejaVuSans-97\"/>\n       <use x=\"149.365234\" xlink:href=\"#DejaVuSans-99\"/>\n       <use x=\"204.345703\" xlink:href=\"#DejaVuSans-101\"/>\n      </g>\n     </g>\n    </g>\n    <g id=\"xtick_3\">\n     <g id=\"text_3\">\n      <!-- Person -->\n      <defs>\n       <path d=\"M 41.109375 46.296875 \nQ 39.59375 47.171875 37.8125 47.578125 \nQ 36.03125 48 33.890625 48 \nQ 26.265625 48 22.1875 43.046875 \nQ 18.109375 38.09375 18.109375 28.8125 \nL 18.109375 0 \nL 9.078125 0 \nL 9.078125 54.6875 \nL 18.109375 54.6875 \nL 18.109375 46.1875 \nQ 20.953125 51.171875 25.484375 53.578125 \nQ 30.03125 56 36.53125 56 \nQ 37.453125 56 38.578125 55.875 \nQ 39.703125 55.765625 41.0625 55.515625 \nz\n\" id=\"DejaVuSans-114\"/>\n       <path d=\"M 44.28125 53.078125 \nL 44.28125 44.578125 \nQ 40.484375 46.53125 36.375 47.5 \nQ 32.28125 48.484375 27.875 48.484375 \nQ 21.1875 48.484375 17.84375 46.4375 \nQ 14.5 44.390625 14.5 40.28125 \nQ 14.5 37.15625 16.890625 35.375 \nQ 19.28125 33.59375 26.515625 31.984375 \nL 29.59375 31.296875 \nQ 39.15625 29.25 43.1875 25.515625 \nQ 47.21875 21.78125 47.21875 15.09375 \nQ 47.21875 7.46875 41.1875 3.015625 \nQ 35.15625 -1.421875 24.609375 -1.421875 \nQ 20.21875 -1.421875 15.453125 -0.5625 \nQ 10.6875 0.296875 5.421875 2 \nL 5.421875 11.28125 \nQ 10.40625 8.6875 15.234375 7.390625 \nQ 20.0625 6.109375 24.8125 6.109375 \nQ 31.15625 6.109375 34.5625 8.28125 \nQ 37.984375 10.453125 37.984375 14.40625 \nQ 37.984375 18.0625 35.515625 20.015625 \nQ 33.0625 21.96875 24.703125 23.78125 \nL 21.578125 24.515625 \nQ 13.234375 26.265625 9.515625 29.90625 \nQ 5.8125 33.546875 5.8125 39.890625 \nQ 5.8125 47.609375 11.28125 51.796875 \nQ 16.75 56 26.8125 56 \nQ 31.78125 56 36.171875 55.265625 \nQ 40.578125 54.546875 44.28125 53.078125 \nz\n\" id=\"DejaVuSans-115\"/>\n       <path d=\"M 30.609375 48.390625 \nQ 23.390625 48.390625 19.1875 42.75 \nQ 14.984375 37.109375 14.984375 27.296875 \nQ 14.984375 17.484375 19.15625 11.84375 \nQ 23.34375 6.203125 30.609375 6.203125 \nQ 37.796875 6.203125 41.984375 11.859375 \nQ 46.1875 17.53125 46.1875 27.296875 \nQ 46.1875 37.015625 41.984375 42.703125 \nQ 37.796875 48.390625 30.609375 48.390625 \nz\nM 30.609375 56 \nQ 42.328125 56 49.015625 48.375 \nQ 55.71875 40.765625 55.71875 27.296875 \nQ 55.71875 13.875 49.015625 6.21875 \nQ 42.328125 -1.421875 30.609375 -1.421875 \nQ 18.84375 -1.421875 12.171875 6.21875 \nQ 5.515625 13.875 5.515625 27.296875 \nQ 5.515625 40.765625 12.171875 48.375 \nQ 18.84375 56 30.609375 56 \nz\n\" id=\"DejaVuSans-111\"/>\n       <path d=\"M 54.890625 33.015625 \nL 54.890625 0 \nL 45.90625 0 \nL 45.90625 32.71875 \nQ 45.90625 40.484375 42.875 44.328125 \nQ 39.84375 48.1875 33.796875 48.1875 \nQ 26.515625 48.1875 22.3125 43.546875 \nQ 18.109375 38.921875 18.109375 30.90625 \nL 18.109375 0 \nL 9.078125 0 \nL 9.078125 54.6875 \nL 18.109375 54.6875 \nL 18.109375 46.1875 \nQ 21.34375 51.125 25.703125 53.5625 \nQ 30.078125 56 35.796875 56 \nQ 45.21875 56 50.046875 50.171875 \nQ 54.890625 44.34375 54.890625 33.015625 \nz\n\" id=\"DejaVuSans-110\"/>\n      </defs>\n      <g style=\"fill:#262626;\" transform=\"translate(401.019219 475.056406)scale(0.11 -0.11)\">\n       <use xlink:href=\"#DejaVuSans-80\"/>\n       <use x=\"56.677734\" xlink:href=\"#DejaVuSans-101\"/>\n       <use x=\"118.201172\" xlink:href=\"#DejaVuSans-114\"/>\n       <use x=\"159.314453\" xlink:href=\"#DejaVuSans-115\"/>\n       <use x=\"211.414062\" xlink:href=\"#DejaVuSans-111\"/>\n       <use x=\"272.595703\" xlink:href=\"#DejaVuSans-110\"/>\n      </g>\n     </g>\n    </g>\n    <g id=\"xtick_4\">\n     <g id=\"text_4\">\n      <!-- Organisation -->\n      <defs>\n       <path d=\"M 45.40625 27.984375 \nQ 45.40625 37.75 41.375 43.109375 \nQ 37.359375 48.484375 30.078125 48.484375 \nQ 22.859375 48.484375 18.828125 43.109375 \nQ 14.796875 37.75 14.796875 27.984375 \nQ 14.796875 18.265625 18.828125 12.890625 \nQ 22.859375 7.515625 30.078125 7.515625 \nQ 37.359375 7.515625 41.375 12.890625 \nQ 45.40625 18.265625 45.40625 27.984375 \nz\nM 54.390625 6.78125 \nQ 54.390625 -7.171875 48.1875 -13.984375 \nQ 42 -20.796875 29.203125 -20.796875 \nQ 24.46875 -20.796875 20.265625 -20.09375 \nQ 16.0625 -19.390625 12.109375 -17.921875 \nL 12.109375 -9.1875 \nQ 16.0625 -11.328125 19.921875 -12.34375 \nQ 23.78125 -13.375 27.78125 -13.375 \nQ 36.625 -13.375 41.015625 -8.765625 \nQ 45.40625 -4.15625 45.40625 5.171875 \nL 45.40625 9.625 \nQ 42.625 4.78125 38.28125 2.390625 \nQ 33.9375 0 27.875 0 \nQ 17.828125 0 11.671875 7.65625 \nQ 5.515625 15.328125 5.515625 27.984375 \nQ 5.515625 40.671875 11.671875 48.328125 \nQ 17.828125 56 27.875 56 \nQ 33.9375 56 38.28125 53.609375 \nQ 42.625 51.21875 45.40625 46.390625 \nL 45.40625 54.6875 \nL 54.390625 54.6875 \nz\n\" id=\"DejaVuSans-103\"/>\n       <path d=\"M 9.421875 54.6875 \nL 18.40625 54.6875 \nL 18.40625 0 \nL 9.421875 0 \nz\nM 9.421875 75.984375 \nL 18.40625 75.984375 \nL 18.40625 64.59375 \nL 9.421875 64.59375 \nz\n\" id=\"DejaVuSans-105\"/>\n       <path d=\"M 18.3125 70.21875 \nL 18.3125 54.6875 \nL 36.8125 54.6875 \nL 36.8125 47.703125 \nL 18.3125 47.703125 \nL 18.3125 18.015625 \nQ 18.3125 11.328125 20.140625 9.421875 \nQ 21.96875 7.515625 27.59375 7.515625 \nL 36.8125 7.515625 \nL 36.8125 0 \nL 27.59375 0 \nQ 17.1875 0 13.234375 3.875 \nQ 9.28125 7.765625 9.28125 18.015625 \nL 9.28125 47.703125 \nL 2.6875 47.703125 \nL 2.6875 54.6875 \nL 9.28125 54.6875 \nL 9.28125 70.21875 \nz\n\" id=\"DejaVuSans-116\"/>\n      </defs>\n      <g style=\"fill:#262626;\" transform=\"translate(530.831797 475.056406)scale(0.11 -0.11)\">\n       <use xlink:href=\"#DejaVuSans-79\"/>\n       <use x=\"78.710938\" xlink:href=\"#DejaVuSans-114\"/>\n       <use x=\"118.074219\" xlink:href=\"#DejaVuSans-103\"/>\n       <use x=\"181.550781\" xlink:href=\"#DejaVuSans-97\"/>\n       <use x=\"242.830078\" xlink:href=\"#DejaVuSans-110\"/>\n       <use x=\"306.208984\" xlink:href=\"#DejaVuSans-105\"/>\n       <use x=\"333.992188\" xlink:href=\"#DejaVuSans-115\"/>\n       <use x=\"386.091797\" xlink:href=\"#DejaVuSans-97\"/>\n       <use x=\"447.371094\" xlink:href=\"#DejaVuSans-116\"/>\n       <use x=\"486.580078\" xlink:href=\"#DejaVuSans-105\"/>\n       <use x=\"514.363281\" xlink:href=\"#DejaVuSans-111\"/>\n       <use x=\"575.544922\" xlink:href=\"#DejaVuSans-110\"/>\n      </g>\n     </g>\n    </g>\n    <g id=\"text_5\">\n     <!-- Entitas Bernama -->\n     <defs>\n      <path d=\"M 9.8125 72.90625 \nL 55.90625 72.90625 \nL 55.90625 64.59375 \nL 19.671875 64.59375 \nL 19.671875 43.015625 \nL 54.390625 43.015625 \nL 54.390625 34.71875 \nL 19.671875 34.71875 \nL 19.671875 8.296875 \nL 56.78125 8.296875 \nL 56.78125 0 \nL 9.8125 0 \nz\n\" id=\"DejaVuSans-69\"/>\n      <path id=\"DejaVuSans-32\"/>\n      <path d=\"M 19.671875 34.8125 \nL 19.671875 8.109375 \nL 35.5 8.109375 \nQ 43.453125 8.109375 47.28125 11.40625 \nQ 51.125 14.703125 51.125 21.484375 \nQ 51.125 28.328125 47.28125 31.5625 \nQ 43.453125 34.8125 35.5 34.8125 \nz\nM 19.671875 64.796875 \nL 19.671875 42.828125 \nL 34.28125 42.828125 \nQ 41.5 42.828125 45.03125 45.53125 \nQ 48.578125 48.25 48.578125 53.8125 \nQ 48.578125 59.328125 45.03125 62.0625 \nQ 41.5 64.796875 34.28125 64.796875 \nz\nM 9.8125 72.90625 \nL 35.015625 72.90625 \nQ 46.296875 72.90625 52.390625 68.21875 \nQ 58.5 63.53125 58.5 54.890625 \nQ 58.5 48.1875 55.375 44.234375 \nQ 52.25 40.28125 46.1875 39.3125 \nQ 53.46875 37.75 57.5 32.78125 \nQ 61.53125 27.828125 61.53125 20.40625 \nQ 61.53125 10.640625 54.890625 5.3125 \nQ 48.25 0 35.984375 0 \nL 9.8125 0 \nz\n\" id=\"DejaVuSans-66\"/>\n      <path d=\"M 52 44.1875 \nQ 55.375 50.25 60.0625 53.125 \nQ 64.75 56 71.09375 56 \nQ 79.640625 56 84.28125 50.015625 \nQ 88.921875 44.046875 88.921875 33.015625 \nL 88.921875 0 \nL 79.890625 0 \nL 79.890625 32.71875 \nQ 79.890625 40.578125 77.09375 44.375 \nQ 74.3125 48.1875 68.609375 48.1875 \nQ 61.625 48.1875 57.5625 43.546875 \nQ 53.515625 38.921875 53.515625 30.90625 \nL 53.515625 0 \nL 44.484375 0 \nL 44.484375 32.71875 \nQ 44.484375 40.625 41.703125 44.40625 \nQ 38.921875 48.1875 33.109375 48.1875 \nQ 26.21875 48.1875 22.15625 43.53125 \nQ 18.109375 38.875 18.109375 30.90625 \nL 18.109375 0 \nL 9.078125 0 \nL 9.078125 54.6875 \nL 18.109375 54.6875 \nL 18.109375 46.1875 \nQ 21.1875 51.21875 25.484375 53.609375 \nQ 29.78125 56 35.6875 56 \nQ 41.65625 56 45.828125 52.96875 \nQ 50 49.953125 52 44.1875 \nz\n\" id=\"DejaVuSans-109\"/>\n     </defs>\n     <g style=\"fill:#262626;\" transform=\"translate(296.415 490.462187)scale(0.12 -0.12)\">\n      <use xlink:href=\"#DejaVuSans-69\"/>\n      <use x=\"63.183594\" xlink:href=\"#DejaVuSans-110\"/>\n      <use x=\"126.5625\" xlink:href=\"#DejaVuSans-116\"/>\n      <use x=\"165.771484\" xlink:href=\"#DejaVuSans-105\"/>\n      <use x=\"193.554688\" xlink:href=\"#DejaVuSans-116\"/>\n      <use x=\"232.763672\" xlink:href=\"#DejaVuSans-97\"/>\n      <use x=\"294.042969\" xlink:href=\"#DejaVuSans-115\"/>\n      <use x=\"346.142578\" xlink:href=\"#DejaVuSans-32\"/>\n      <use x=\"377.929688\" xlink:href=\"#DejaVuSans-66\"/>\n      <use x=\"446.533203\" xlink:href=\"#DejaVuSans-101\"/>\n      <use x=\"508.056641\" xlink:href=\"#DejaVuSans-114\"/>\n      <use x=\"547.419922\" xlink:href=\"#DejaVuSans-110\"/>\n      <use x=\"610.798828\" xlink:href=\"#DejaVuSans-97\"/>\n      <use x=\"672.078125\" xlink:href=\"#DejaVuSans-109\"/>\n      <use x=\"769.490234\" xlink:href=\"#DejaVuSans-97\"/>\n     </g>\n    </g>\n   </g>\n   <g id=\"matplotlib.axis_2\">\n    <g id=\"ytick_1\">\n     <g id=\"line2d_1\">\n      <path clip-path=\"url(#p6b605d5967)\" d=\"M 53.31 457.198125 \nL 639.21 457.198125 \n\" style=\"fill:none;stroke:#ffffff;stroke-linecap:round;\"/>\n     </g>\n     <g id=\"line2d_2\">\n      <defs>\n       <path d=\"M 0 0 \nL 6 0 \n\" id=\"ma8d7d655a7\" style=\"stroke:#262626;stroke-width:1.25;\"/>\n      </defs>\n      <g>\n       <use style=\"fill:#262626;stroke:#262626;stroke-width:1.25;\" x=\"639.21\" xlink:href=\"#ma8d7d655a7\" y=\"457.198125\"/>\n      </g>\n     </g>\n     <g id=\"text_6\">\n      <!-- 0.000 -->\n      <defs>\n       <path d=\"M 31.78125 66.40625 \nQ 24.171875 66.40625 20.328125 58.90625 \nQ 16.5 51.421875 16.5 36.375 \nQ 16.5 21.390625 20.328125 13.890625 \nQ 24.171875 6.390625 31.78125 6.390625 \nQ 39.453125 6.390625 43.28125 13.890625 \nQ 47.125 21.390625 47.125 36.375 \nQ 47.125 51.421875 43.28125 58.90625 \nQ 39.453125 66.40625 31.78125 66.40625 \nz\nM 31.78125 74.21875 \nQ 44.046875 74.21875 50.515625 64.515625 \nQ 56.984375 54.828125 56.984375 36.375 \nQ 56.984375 17.96875 50.515625 8.265625 \nQ 44.046875 -1.421875 31.78125 -1.421875 \nQ 19.53125 -1.421875 13.0625 8.265625 \nQ 6.59375 17.96875 6.59375 36.375 \nQ 6.59375 54.828125 13.0625 64.515625 \nQ 19.53125 74.21875 31.78125 74.21875 \nz\n\" id=\"DejaVuSans-48\"/>\n       <path d=\"M 10.6875 12.40625 \nL 21 12.40625 \nL 21 0 \nL 10.6875 0 \nz\n\" id=\"DejaVuSans-46\"/>\n      </defs>\n      <g style=\"fill:#262626;\" transform=\"translate(648.71 461.377266)scale(0.11 -0.11)\">\n       <use xlink:href=\"#DejaVuSans-48\"/>\n       <use x=\"63.623047\" xlink:href=\"#DejaVuSans-46\"/>\n       <use x=\"95.410156\" xlink:href=\"#DejaVuSans-48\"/>\n       <use x=\"159.033203\" xlink:href=\"#DejaVuSans-48\"/>\n       <use x=\"222.65625\" xlink:href=\"#DejaVuSans-48\"/>\n      </g>\n     </g>\n    </g>\n    <g id=\"ytick_2\">\n     <g id=\"line2d_3\">\n      <path clip-path=\"url(#p6b605d5967)\" d=\"M 53.31 413.710125 \nL 639.21 413.710125 \n\" style=\"fill:none;stroke:#ffffff;stroke-linecap:round;\"/>\n     </g>\n     <g id=\"line2d_4\">\n      <g>\n       <use style=\"fill:#262626;stroke:#262626;stroke-width:1.25;\" x=\"639.21\" xlink:href=\"#ma8d7d655a7\" y=\"413.710125\"/>\n      </g>\n     </g>\n     <g id=\"text_7\">\n      <!-- 0.148 -->\n      <defs>\n       <path d=\"M 12.40625 8.296875 \nL 28.515625 8.296875 \nL 28.515625 63.921875 \nL 10.984375 60.40625 \nL 10.984375 69.390625 \nL 28.421875 72.90625 \nL 38.28125 72.90625 \nL 38.28125 8.296875 \nL 54.390625 8.296875 \nL 54.390625 0 \nL 12.40625 0 \nz\n\" id=\"DejaVuSans-49\"/>\n       <path d=\"M 37.796875 64.3125 \nL 12.890625 25.390625 \nL 37.796875 25.390625 \nz\nM 35.203125 72.90625 \nL 47.609375 72.90625 \nL 47.609375 25.390625 \nL 58.015625 25.390625 \nL 58.015625 17.1875 \nL 47.609375 17.1875 \nL 47.609375 0 \nL 37.796875 0 \nL 37.796875 17.1875 \nL 4.890625 17.1875 \nL 4.890625 26.703125 \nz\n\" id=\"DejaVuSans-52\"/>\n       <path d=\"M 31.78125 34.625 \nQ 24.75 34.625 20.71875 30.859375 \nQ 16.703125 27.09375 16.703125 20.515625 \nQ 16.703125 13.921875 20.71875 10.15625 \nQ 24.75 6.390625 31.78125 6.390625 \nQ 38.8125 6.390625 42.859375 10.171875 \nQ 46.921875 13.96875 46.921875 20.515625 \nQ 46.921875 27.09375 42.890625 30.859375 \nQ 38.875 34.625 31.78125 34.625 \nz\nM 21.921875 38.8125 \nQ 15.578125 40.375 12.03125 44.71875 \nQ 8.5 49.078125 8.5 55.328125 \nQ 8.5 64.0625 14.71875 69.140625 \nQ 20.953125 74.21875 31.78125 74.21875 \nQ 42.671875 74.21875 48.875 69.140625 \nQ 55.078125 64.0625 55.078125 55.328125 \nQ 55.078125 49.078125 51.53125 44.71875 \nQ 48 40.375 41.703125 38.8125 \nQ 48.828125 37.15625 52.796875 32.3125 \nQ 56.78125 27.484375 56.78125 20.515625 \nQ 56.78125 9.90625 50.3125 4.234375 \nQ 43.84375 -1.421875 31.78125 -1.421875 \nQ 19.734375 -1.421875 13.25 4.234375 \nQ 6.78125 9.90625 6.78125 20.515625 \nQ 6.78125 27.484375 10.78125 32.3125 \nQ 14.796875 37.15625 21.921875 38.8125 \nz\nM 18.3125 54.390625 \nQ 18.3125 48.734375 21.84375 45.5625 \nQ 25.390625 42.390625 31.78125 42.390625 \nQ 38.140625 42.390625 41.71875 45.5625 \nQ 45.3125 48.734375 45.3125 54.390625 \nQ 45.3125 60.0625 41.71875 63.234375 \nQ 38.140625 66.40625 31.78125 66.40625 \nQ 25.390625 66.40625 21.84375 63.234375 \nQ 18.3125 60.0625 18.3125 54.390625 \nz\n\" id=\"DejaVuSans-56\"/>\n      </defs>\n      <g style=\"fill:#262626;\" transform=\"translate(648.71 417.889266)scale(0.11 -0.11)\">\n       <use xlink:href=\"#DejaVuSans-48\"/>\n       <use x=\"63.623047\" xlink:href=\"#DejaVuSans-46\"/>\n       <use x=\"95.410156\" xlink:href=\"#DejaVuSans-49\"/>\n       <use x=\"159.033203\" xlink:href=\"#DejaVuSans-52\"/>\n       <use x=\"222.65625\" xlink:href=\"#DejaVuSans-56\"/>\n      </g>\n     </g>\n    </g>\n    <g id=\"ytick_3\">\n     <g id=\"line2d_5\">\n      <path clip-path=\"url(#p6b605d5967)\" d=\"M 53.31 370.222125 \nL 639.21 370.222125 \n\" style=\"fill:none;stroke:#ffffff;stroke-linecap:round;\"/>\n     </g>\n     <g id=\"line2d_6\">\n      <g>\n       <use style=\"fill:#262626;stroke:#262626;stroke-width:1.25;\" x=\"639.21\" xlink:href=\"#ma8d7d655a7\" y=\"370.222125\"/>\n      </g>\n     </g>\n     <g id=\"text_8\">\n      <!-- 0.296 -->\n      <defs>\n       <path d=\"M 19.1875 8.296875 \nL 53.609375 8.296875 \nL 53.609375 0 \nL 7.328125 0 \nL 7.328125 8.296875 \nQ 12.9375 14.109375 22.625 23.890625 \nQ 32.328125 33.6875 34.8125 36.53125 \nQ 39.546875 41.84375 41.421875 45.53125 \nQ 43.3125 49.21875 43.3125 52.78125 \nQ 43.3125 58.59375 39.234375 62.25 \nQ 35.15625 65.921875 28.609375 65.921875 \nQ 23.96875 65.921875 18.8125 64.3125 \nQ 13.671875 62.703125 7.8125 59.421875 \nL 7.8125 69.390625 \nQ 13.765625 71.78125 18.9375 73 \nQ 24.125 74.21875 28.421875 74.21875 \nQ 39.75 74.21875 46.484375 68.546875 \nQ 53.21875 62.890625 53.21875 53.421875 \nQ 53.21875 48.921875 51.53125 44.890625 \nQ 49.859375 40.875 45.40625 35.40625 \nQ 44.1875 33.984375 37.640625 27.21875 \nQ 31.109375 20.453125 19.1875 8.296875 \nz\n\" id=\"DejaVuSans-50\"/>\n       <path d=\"M 10.984375 1.515625 \nL 10.984375 10.5 \nQ 14.703125 8.734375 18.5 7.8125 \nQ 22.3125 6.890625 25.984375 6.890625 \nQ 35.75 6.890625 40.890625 13.453125 \nQ 46.046875 20.015625 46.78125 33.40625 \nQ 43.953125 29.203125 39.59375 26.953125 \nQ 35.25 24.703125 29.984375 24.703125 \nQ 19.046875 24.703125 12.671875 31.3125 \nQ 6.296875 37.9375 6.296875 49.421875 \nQ 6.296875 60.640625 12.9375 67.421875 \nQ 19.578125 74.21875 30.609375 74.21875 \nQ 43.265625 74.21875 49.921875 64.515625 \nQ 56.59375 54.828125 56.59375 36.375 \nQ 56.59375 19.140625 48.40625 8.859375 \nQ 40.234375 -1.421875 26.421875 -1.421875 \nQ 22.703125 -1.421875 18.890625 -0.6875 \nQ 15.09375 0.046875 10.984375 1.515625 \nz\nM 30.609375 32.421875 \nQ 37.25 32.421875 41.125 36.953125 \nQ 45.015625 41.5 45.015625 49.421875 \nQ 45.015625 57.28125 41.125 61.84375 \nQ 37.25 66.40625 30.609375 66.40625 \nQ 23.96875 66.40625 20.09375 61.84375 \nQ 16.21875 57.28125 16.21875 49.421875 \nQ 16.21875 41.5 20.09375 36.953125 \nQ 23.96875 32.421875 30.609375 32.421875 \nz\n\" id=\"DejaVuSans-57\"/>\n       <path d=\"M 33.015625 40.375 \nQ 26.375 40.375 22.484375 35.828125 \nQ 18.609375 31.296875 18.609375 23.390625 \nQ 18.609375 15.53125 22.484375 10.953125 \nQ 26.375 6.390625 33.015625 6.390625 \nQ 39.65625 6.390625 43.53125 10.953125 \nQ 47.40625 15.53125 47.40625 23.390625 \nQ 47.40625 31.296875 43.53125 35.828125 \nQ 39.65625 40.375 33.015625 40.375 \nz\nM 52.59375 71.296875 \nL 52.59375 62.3125 \nQ 48.875 64.0625 45.09375 64.984375 \nQ 41.3125 65.921875 37.59375 65.921875 \nQ 27.828125 65.921875 22.671875 59.328125 \nQ 17.53125 52.734375 16.796875 39.40625 \nQ 19.671875 43.65625 24.015625 45.921875 \nQ 28.375 48.1875 33.59375 48.1875 \nQ 44.578125 48.1875 50.953125 41.515625 \nQ 57.328125 34.859375 57.328125 23.390625 \nQ 57.328125 12.15625 50.6875 5.359375 \nQ 44.046875 -1.421875 33.015625 -1.421875 \nQ 20.359375 -1.421875 13.671875 8.265625 \nQ 6.984375 17.96875 6.984375 36.375 \nQ 6.984375 53.65625 15.1875 63.9375 \nQ 23.390625 74.21875 37.203125 74.21875 \nQ 40.921875 74.21875 44.703125 73.484375 \nQ 48.484375 72.75 52.59375 71.296875 \nz\n\" id=\"DejaVuSans-54\"/>\n      </defs>\n      <g style=\"fill:#262626;\" transform=\"translate(648.71 374.401266)scale(0.11 -0.11)\">\n       <use xlink:href=\"#DejaVuSans-48\"/>\n       <use x=\"63.623047\" xlink:href=\"#DejaVuSans-46\"/>\n       <use x=\"95.410156\" xlink:href=\"#DejaVuSans-50\"/>\n       <use x=\"159.033203\" xlink:href=\"#DejaVuSans-57\"/>\n       <use x=\"222.65625\" xlink:href=\"#DejaVuSans-54\"/>\n      </g>\n     </g>\n    </g>\n    <g id=\"ytick_4\">\n     <g id=\"line2d_7\">\n      <path clip-path=\"url(#p6b605d5967)\" d=\"M 53.31 326.734125 \nL 639.21 326.734125 \n\" style=\"fill:none;stroke:#ffffff;stroke-linecap:round;\"/>\n     </g>\n     <g id=\"line2d_8\">\n      <g>\n       <use style=\"fill:#262626;stroke:#262626;stroke-width:1.25;\" x=\"639.21\" xlink:href=\"#ma8d7d655a7\" y=\"326.734125\"/>\n      </g>\n     </g>\n     <g id=\"text_9\">\n      <!-- 0.443 -->\n      <defs>\n       <path d=\"M 40.578125 39.3125 \nQ 47.65625 37.796875 51.625 33 \nQ 55.609375 28.21875 55.609375 21.1875 \nQ 55.609375 10.40625 48.1875 4.484375 \nQ 40.765625 -1.421875 27.09375 -1.421875 \nQ 22.515625 -1.421875 17.65625 -0.515625 \nQ 12.796875 0.390625 7.625 2.203125 \nL 7.625 11.71875 \nQ 11.71875 9.328125 16.59375 8.109375 \nQ 21.484375 6.890625 26.8125 6.890625 \nQ 36.078125 6.890625 40.9375 10.546875 \nQ 45.796875 14.203125 45.796875 21.1875 \nQ 45.796875 27.640625 41.28125 31.265625 \nQ 36.765625 34.90625 28.71875 34.90625 \nL 20.21875 34.90625 \nL 20.21875 43.015625 \nL 29.109375 43.015625 \nQ 36.375 43.015625 40.234375 45.921875 \nQ 44.09375 48.828125 44.09375 54.296875 \nQ 44.09375 59.90625 40.109375 62.90625 \nQ 36.140625 65.921875 28.71875 65.921875 \nQ 24.65625 65.921875 20.015625 65.03125 \nQ 15.375 64.15625 9.8125 62.3125 \nL 9.8125 71.09375 \nQ 15.4375 72.65625 20.34375 73.4375 \nQ 25.25 74.21875 29.59375 74.21875 \nQ 40.828125 74.21875 47.359375 69.109375 \nQ 53.90625 64.015625 53.90625 55.328125 \nQ 53.90625 49.265625 50.4375 45.09375 \nQ 46.96875 40.921875 40.578125 39.3125 \nz\n\" id=\"DejaVuSans-51\"/>\n      </defs>\n      <g style=\"fill:#262626;\" transform=\"translate(648.71 330.913266)scale(0.11 -0.11)\">\n       <use xlink:href=\"#DejaVuSans-48\"/>\n       <use x=\"63.623047\" xlink:href=\"#DejaVuSans-46\"/>\n       <use x=\"95.410156\" xlink:href=\"#DejaVuSans-52\"/>\n       <use x=\"159.033203\" xlink:href=\"#DejaVuSans-52\"/>\n       <use x=\"222.65625\" xlink:href=\"#DejaVuSans-51\"/>\n      </g>\n     </g>\n    </g>\n    <g id=\"ytick_5\">\n     <g id=\"line2d_9\">\n      <path clip-path=\"url(#p6b605d5967)\" d=\"M 53.31 283.246125 \nL 639.21 283.246125 \n\" style=\"fill:none;stroke:#ffffff;stroke-linecap:round;\"/>\n     </g>\n     <g id=\"line2d_10\">\n      <g>\n       <use style=\"fill:#262626;stroke:#262626;stroke-width:1.25;\" x=\"639.21\" xlink:href=\"#ma8d7d655a7\" y=\"283.246125\"/>\n      </g>\n     </g>\n     <g id=\"text_10\">\n      <!-- 0.591 -->\n      <defs>\n       <path d=\"M 10.796875 72.90625 \nL 49.515625 72.90625 \nL 49.515625 64.59375 \nL 19.828125 64.59375 \nL 19.828125 46.734375 \nQ 21.96875 47.46875 24.109375 47.828125 \nQ 26.265625 48.1875 28.421875 48.1875 \nQ 40.625 48.1875 47.75 41.5 \nQ 54.890625 34.8125 54.890625 23.390625 \nQ 54.890625 11.625 47.5625 5.09375 \nQ 40.234375 -1.421875 26.90625 -1.421875 \nQ 22.3125 -1.421875 17.546875 -0.640625 \nQ 12.796875 0.140625 7.71875 1.703125 \nL 7.71875 11.625 \nQ 12.109375 9.234375 16.796875 8.0625 \nQ 21.484375 6.890625 26.703125 6.890625 \nQ 35.15625 6.890625 40.078125 11.328125 \nQ 45.015625 15.765625 45.015625 23.390625 \nQ 45.015625 31 40.078125 35.4375 \nQ 35.15625 39.890625 26.703125 39.890625 \nQ 22.75 39.890625 18.8125 39.015625 \nQ 14.890625 38.140625 10.796875 36.28125 \nz\n\" id=\"DejaVuSans-53\"/>\n      </defs>\n      <g style=\"fill:#262626;\" transform=\"translate(648.71 287.425266)scale(0.11 -0.11)\">\n       <use xlink:href=\"#DejaVuSans-48\"/>\n       <use x=\"63.623047\" xlink:href=\"#DejaVuSans-46\"/>\n       <use x=\"95.410156\" xlink:href=\"#DejaVuSans-53\"/>\n       <use x=\"159.033203\" xlink:href=\"#DejaVuSans-57\"/>\n       <use x=\"222.65625\" xlink:href=\"#DejaVuSans-49\"/>\n      </g>\n     </g>\n    </g>\n    <g id=\"ytick_6\">\n     <g id=\"line2d_11\">\n      <path clip-path=\"url(#p6b605d5967)\" d=\"M 53.31 239.758125 \nL 639.21 239.758125 \n\" style=\"fill:none;stroke:#ffffff;stroke-linecap:round;\"/>\n     </g>\n     <g id=\"line2d_12\">\n      <g>\n       <use style=\"fill:#262626;stroke:#262626;stroke-width:1.25;\" x=\"639.21\" xlink:href=\"#ma8d7d655a7\" y=\"239.758125\"/>\n      </g>\n     </g>\n     <g id=\"text_11\">\n      <!-- 0.739 -->\n      <defs>\n       <path d=\"M 8.203125 72.90625 \nL 55.078125 72.90625 \nL 55.078125 68.703125 \nL 28.609375 0 \nL 18.3125 0 \nL 43.21875 64.59375 \nL 8.203125 64.59375 \nz\n\" id=\"DejaVuSans-55\"/>\n      </defs>\n      <g style=\"fill:#262626;\" transform=\"translate(648.71 243.937266)scale(0.11 -0.11)\">\n       <use xlink:href=\"#DejaVuSans-48\"/>\n       <use x=\"63.623047\" xlink:href=\"#DejaVuSans-46\"/>\n       <use x=\"95.410156\" xlink:href=\"#DejaVuSans-55\"/>\n       <use x=\"159.033203\" xlink:href=\"#DejaVuSans-51\"/>\n       <use x=\"222.65625\" xlink:href=\"#DejaVuSans-57\"/>\n      </g>\n     </g>\n    </g>\n    <g id=\"ytick_7\">\n     <g id=\"line2d_13\">\n      <path clip-path=\"url(#p6b605d5967)\" d=\"M 53.31 196.270125 \nL 639.21 196.270125 \n\" style=\"fill:none;stroke:#ffffff;stroke-linecap:round;\"/>\n     </g>\n     <g id=\"line2d_14\">\n      <g>\n       <use style=\"fill:#262626;stroke:#262626;stroke-width:1.25;\" x=\"639.21\" xlink:href=\"#ma8d7d655a7\" y=\"196.270125\"/>\n      </g>\n     </g>\n     <g id=\"text_12\">\n      <!-- 0.887 -->\n      <g style=\"fill:#262626;\" transform=\"translate(648.71 200.449266)scale(0.11 -0.11)\">\n       <use xlink:href=\"#DejaVuSans-48\"/>\n       <use x=\"63.623047\" xlink:href=\"#DejaVuSans-46\"/>\n       <use x=\"95.410156\" xlink:href=\"#DejaVuSans-56\"/>\n       <use x=\"159.033203\" xlink:href=\"#DejaVuSans-56\"/>\n       <use x=\"222.65625\" xlink:href=\"#DejaVuSans-55\"/>\n      </g>\n     </g>\n    </g>\n    <g id=\"ytick_8\">\n     <g id=\"line2d_15\">\n      <path clip-path=\"url(#p6b605d5967)\" d=\"M 53.31 152.782125 \nL 639.21 152.782125 \n\" style=\"fill:none;stroke:#ffffff;stroke-linecap:round;\"/>\n     </g>\n     <g id=\"line2d_16\">\n      <g>\n       <use style=\"fill:#262626;stroke:#262626;stroke-width:1.25;\" x=\"639.21\" xlink:href=\"#ma8d7d655a7\" y=\"152.782125\"/>\n      </g>\n     </g>\n     <g id=\"text_13\">\n      <!-- 1.035 -->\n      <g style=\"fill:#262626;\" transform=\"translate(648.71 156.961266)scale(0.11 -0.11)\">\n       <use xlink:href=\"#DejaVuSans-49\"/>\n       <use x=\"63.623047\" xlink:href=\"#DejaVuSans-46\"/>\n       <use x=\"95.410156\" xlink:href=\"#DejaVuSans-48\"/>\n       <use x=\"159.033203\" xlink:href=\"#DejaVuSans-51\"/>\n       <use x=\"222.65625\" xlink:href=\"#DejaVuSans-53\"/>\n      </g>\n     </g>\n    </g>\n    <g id=\"ytick_9\">\n     <g id=\"line2d_17\">\n      <path clip-path=\"url(#p6b605d5967)\" d=\"M 53.31 109.294125 \nL 639.21 109.294125 \n\" style=\"fill:none;stroke:#ffffff;stroke-linecap:round;\"/>\n     </g>\n     <g id=\"line2d_18\">\n      <g>\n       <use style=\"fill:#262626;stroke:#262626;stroke-width:1.25;\" x=\"639.21\" xlink:href=\"#ma8d7d655a7\" y=\"109.294125\"/>\n      </g>\n     </g>\n     <g id=\"text_14\">\n      <!-- 1.183 -->\n      <g style=\"fill:#262626;\" transform=\"translate(648.71 113.473266)scale(0.11 -0.11)\">\n       <use xlink:href=\"#DejaVuSans-49\"/>\n       <use x=\"63.623047\" xlink:href=\"#DejaVuSans-46\"/>\n       <use x=\"95.410156\" xlink:href=\"#DejaVuSans-49\"/>\n       <use x=\"159.033203\" xlink:href=\"#DejaVuSans-56\"/>\n       <use x=\"222.65625\" xlink:href=\"#DejaVuSans-51\"/>\n      </g>\n     </g>\n    </g>\n    <g id=\"ytick_10\">\n     <g id=\"line2d_19\">\n      <path clip-path=\"url(#p6b605d5967)\" d=\"M 53.31 65.806125 \nL 639.21 65.806125 \n\" style=\"fill:none;stroke:#ffffff;stroke-linecap:round;\"/>\n     </g>\n     <g id=\"line2d_20\">\n      <g>\n       <use style=\"fill:#262626;stroke:#262626;stroke-width:1.25;\" x=\"639.21\" xlink:href=\"#ma8d7d655a7\" y=\"65.806125\"/>\n      </g>\n     </g>\n     <g id=\"text_15\">\n      <!-- 1.330 -->\n      <g style=\"fill:#262626;\" transform=\"translate(648.71 69.985266)scale(0.11 -0.11)\">\n       <use xlink:href=\"#DejaVuSans-49\"/>\n       <use x=\"63.623047\" xlink:href=\"#DejaVuSans-46\"/>\n       <use x=\"95.410156\" xlink:href=\"#DejaVuSans-51\"/>\n       <use x=\"159.033203\" xlink:href=\"#DejaVuSans-51\"/>\n       <use x=\"222.65625\" xlink:href=\"#DejaVuSans-48\"/>\n      </g>\n     </g>\n    </g>\n    <g id=\"ytick_11\">\n     <g id=\"line2d_21\">\n      <path clip-path=\"url(#p6b605d5967)\" d=\"M 53.31 22.318125 \nL 639.21 22.318125 \n\" style=\"fill:none;stroke:#ffffff;stroke-linecap:round;\"/>\n     </g>\n     <g id=\"line2d_22\">\n      <g>\n       <use style=\"fill:#262626;stroke:#262626;stroke-width:1.25;\" x=\"639.21\" xlink:href=\"#ma8d7d655a7\" y=\"22.318125\"/>\n      </g>\n     </g>\n     <g id=\"text_16\">\n      <!-- 1.478 -->\n      <g style=\"fill:#262626;\" transform=\"translate(648.71 26.497266)scale(0.11 -0.11)\">\n       <use xlink:href=\"#DejaVuSans-49\"/>\n       <use x=\"63.623047\" xlink:href=\"#DejaVuSans-46\"/>\n       <use x=\"95.410156\" xlink:href=\"#DejaVuSans-52\"/>\n       <use x=\"159.033203\" xlink:href=\"#DejaVuSans-55\"/>\n       <use x=\"222.65625\" xlink:href=\"#DejaVuSans-56\"/>\n      </g>\n     </g>\n    </g>\n    <g id=\"text_17\">\n     <!-- Jumlah -->\n     <defs>\n      <path d=\"M 9.8125 72.90625 \nL 19.671875 72.90625 \nL 19.671875 5.078125 \nQ 19.671875 -8.109375 14.671875 -14.0625 \nQ 9.671875 -20.015625 -1.421875 -20.015625 \nL -5.171875 -20.015625 \nL -5.171875 -11.71875 \nL -2.09375 -11.71875 \nQ 4.4375 -11.71875 7.125 -8.046875 \nQ 9.8125 -4.390625 9.8125 5.078125 \nz\n\" id=\"DejaVuSans-74\"/>\n      <path d=\"M 8.5 21.578125 \nL 8.5 54.6875 \nL 17.484375 54.6875 \nL 17.484375 21.921875 \nQ 17.484375 14.15625 20.5 10.265625 \nQ 23.53125 6.390625 29.59375 6.390625 \nQ 36.859375 6.390625 41.078125 11.03125 \nQ 45.3125 15.671875 45.3125 23.6875 \nL 45.3125 54.6875 \nL 54.296875 54.6875 \nL 54.296875 0 \nL 45.3125 0 \nL 45.3125 8.40625 \nQ 42.046875 3.421875 37.71875 1 \nQ 33.40625 -1.421875 27.6875 -1.421875 \nQ 18.265625 -1.421875 13.375 4.4375 \nQ 8.5 10.296875 8.5 21.578125 \nz\nM 31.109375 56 \nz\n\" id=\"DejaVuSans-117\"/>\n      <path d=\"M 54.890625 33.015625 \nL 54.890625 0 \nL 45.90625 0 \nL 45.90625 32.71875 \nQ 45.90625 40.484375 42.875 44.328125 \nQ 39.84375 48.1875 33.796875 48.1875 \nQ 26.515625 48.1875 22.3125 43.546875 \nQ 18.109375 38.921875 18.109375 30.90625 \nL 18.109375 0 \nL 9.078125 0 \nL 9.078125 75.984375 \nL 18.109375 75.984375 \nL 18.109375 46.1875 \nQ 21.34375 51.125 25.703125 53.5625 \nQ 30.078125 56 35.796875 56 \nQ 45.21875 56 50.046875 50.171875 \nQ 54.890625 44.34375 54.890625 33.015625 \nz\n\" id=\"DejaVuSans-104\"/>\n     </defs>\n     <g style=\"fill:#262626;\" transform=\"translate(693.319062 260.32125)rotate(-90)scale(0.12 -0.12)\">\n      <use xlink:href=\"#DejaVuSans-74\"/>\n      <use x=\"29.492188\" xlink:href=\"#DejaVuSans-117\"/>\n      <use x=\"92.871094\" xlink:href=\"#DejaVuSans-109\"/>\n      <use x=\"190.283203\" xlink:href=\"#DejaVuSans-108\"/>\n      <use x=\"218.066406\" xlink:href=\"#DejaVuSans-97\"/>\n      <use x=\"279.345703\" xlink:href=\"#DejaVuSans-104\"/>\n     </g>\n    </g>\n    <g id=\"text_18\">\n     <!-- 1e6 -->\n     <g style=\"fill:#262626;\" transform=\"translate(618.444063 19.318125)scale(0.11 -0.11)\">\n      <use xlink:href=\"#DejaVuSans-49\"/>\n      <use x=\"63.623047\" xlink:href=\"#DejaVuSans-101\"/>\n      <use x=\"125.146484\" xlink:href=\"#DejaVuSans-54\"/>\n     </g>\n    </g>\n   </g>\n   <g id=\"patch_3\">\n    <path clip-path=\"url(#p6b605d5967)\" d=\"M 67.9575 457.198125 \nL 185.1375 457.198125 \nL 185.1375 62.987331 \nL 67.9575 62.987331 \nz\n\" style=\"fill:#5875a4;stroke:#ffffff;stroke-linejoin:miter;\"/>\n   </g>\n   <g id=\"patch_4\">\n    <path clip-path=\"url(#p6b605d5967)\" d=\"M 214.4325 457.198125 \nL 331.6125 457.198125 \nL 331.6125 433.022828 \nL 214.4325 433.022828 \nz\n\" style=\"fill:#cc8963;stroke:#ffffff;stroke-linejoin:miter;\"/>\n   </g>\n   <g id=\"patch_5\">\n    <path clip-path=\"url(#p6b605d5967)\" d=\"M 360.9075 457.198125 \nL 478.0875 457.198125 \nL 478.0875 445.049286 \nL 360.9075 445.049286 \nz\n\" style=\"fill:#5f9e6e;stroke:#ffffff;stroke-linejoin:miter;\"/>\n   </g>\n   <g id=\"patch_6\">\n    <path clip-path=\"url(#p6b605d5967)\" d=\"M 507.3825 457.198125 \nL 624.5625 457.198125 \nL 624.5625 452.853055 \nL 507.3825 452.853055 \nz\n\" style=\"fill:#b55d60;stroke:#ffffff;stroke-linejoin:miter;\"/>\n   </g>\n   <g id=\"patch_7\">\n    <path d=\"M 53.31 457.198125 \nL 53.31 22.318125 \n\" style=\"fill:none;stroke:#ffffff;stroke-linecap:square;stroke-linejoin:miter;stroke-width:1.25;\"/>\n   </g>\n   <g id=\"patch_8\">\n    <path d=\"M 639.21 457.198125 \nL 639.21 22.318125 \n\" style=\"fill:none;stroke:#ffffff;stroke-linecap:square;stroke-linejoin:miter;stroke-width:1.25;\"/>\n   </g>\n   <g id=\"patch_9\">\n    <path d=\"M 53.31 457.198125 \nL 639.21 457.198125 \n\" style=\"fill:none;stroke:#ffffff;stroke-linecap:square;stroke-linejoin:miter;stroke-width:1.25;\"/>\n   </g>\n   <g id=\"patch_10\">\n    <path d=\"M 53.31 22.318125 \nL 639.21 22.318125 \n\" style=\"fill:none;stroke:#ffffff;stroke-linecap:square;stroke-linejoin:miter;stroke-width:1.25;\"/>\n   </g>\n   <g id=\"text_19\">\n    <!-- 90.6% -->\n    <defs>\n     <path d=\"M 72.703125 32.078125 \nQ 68.453125 32.078125 66.03125 28.46875 \nQ 63.625 24.859375 63.625 18.40625 \nQ 63.625 12.0625 66.03125 8.421875 \nQ 68.453125 4.78125 72.703125 4.78125 \nQ 76.859375 4.78125 79.265625 8.421875 \nQ 81.6875 12.0625 81.6875 18.40625 \nQ 81.6875 24.8125 79.265625 28.4375 \nQ 76.859375 32.078125 72.703125 32.078125 \nz\nM 72.703125 38.28125 \nQ 80.421875 38.28125 84.953125 32.90625 \nQ 89.5 27.546875 89.5 18.40625 \nQ 89.5 9.28125 84.9375 3.921875 \nQ 80.375 -1.421875 72.703125 -1.421875 \nQ 64.890625 -1.421875 60.34375 3.921875 \nQ 55.8125 9.28125 55.8125 18.40625 \nQ 55.8125 27.59375 60.375 32.9375 \nQ 64.9375 38.28125 72.703125 38.28125 \nz\nM 22.3125 68.015625 \nQ 18.109375 68.015625 15.6875 64.375 \nQ 13.28125 60.75 13.28125 54.390625 \nQ 13.28125 47.953125 15.671875 44.328125 \nQ 18.0625 40.71875 22.3125 40.71875 \nQ 26.5625 40.71875 28.96875 44.328125 \nQ 31.390625 47.953125 31.390625 54.390625 \nQ 31.390625 60.6875 28.953125 64.34375 \nQ 26.515625 68.015625 22.3125 68.015625 \nz\nM 66.40625 74.21875 \nL 74.21875 74.21875 \nL 28.609375 -1.421875 \nL 20.796875 -1.421875 \nz\nM 22.3125 74.21875 \nQ 30.03125 74.21875 34.609375 68.875 \nQ 39.203125 63.53125 39.203125 54.390625 \nQ 39.203125 45.171875 34.640625 39.84375 \nQ 30.078125 34.515625 22.3125 34.515625 \nQ 14.546875 34.515625 10.03125 39.859375 \nQ 5.515625 45.21875 5.515625 54.390625 \nQ 5.515625 63.484375 10.046875 68.84375 \nQ 14.59375 74.21875 22.3125 74.21875 \nz\n\" id=\"DejaVuSans-37\"/>\n    </defs>\n    <g style=\"fill:#262626;\" transform=\"translate(110.663906 60.907643)scale(0.1 -0.1)\">\n     <use xlink:href=\"#DejaVuSans-57\"/>\n     <use x=\"63.623047\" xlink:href=\"#DejaVuSans-48\"/>\n     <use x=\"127.246094\" xlink:href=\"#DejaVuSans-46\"/>\n     <use x=\"159.033203\" xlink:href=\"#DejaVuSans-54\"/>\n     <use x=\"222.65625\" xlink:href=\"#DejaVuSans-37\"/>\n    </g>\n   </g>\n   <g id=\"text_20\">\n    <!-- 5.6% -->\n    <g style=\"fill:#262626;\" transform=\"translate(260.320156 430.94314)scale(0.1 -0.1)\">\n     <use xlink:href=\"#DejaVuSans-53\"/>\n     <use x=\"63.623047\" xlink:href=\"#DejaVuSans-46\"/>\n     <use x=\"95.410156\" xlink:href=\"#DejaVuSans-54\"/>\n     <use x=\"159.033203\" xlink:href=\"#DejaVuSans-37\"/>\n    </g>\n   </g>\n   <g id=\"text_21\">\n    <!-- 2.8% -->\n    <g style=\"fill:#262626;\" transform=\"translate(406.795156 442.969599)scale(0.1 -0.1)\">\n     <use xlink:href=\"#DejaVuSans-50\"/>\n     <use x=\"63.623047\" xlink:href=\"#DejaVuSans-46\"/>\n     <use x=\"95.410156\" xlink:href=\"#DejaVuSans-56\"/>\n     <use x=\"159.033203\" xlink:href=\"#DejaVuSans-37\"/>\n    </g>\n   </g>\n   <g id=\"text_22\">\n    <!-- 1.0% -->\n    <g style=\"fill:#262626;\" transform=\"translate(553.270156 450.773368)scale(0.1 -0.1)\">\n     <use xlink:href=\"#DejaVuSans-49\"/>\n     <use x=\"63.623047\" xlink:href=\"#DejaVuSans-46\"/>\n     <use x=\"95.410156\" xlink:href=\"#DejaVuSans-48\"/>\n     <use x=\"159.033203\" xlink:href=\"#DejaVuSans-37\"/>\n    </g>\n   </g>\n   <g id=\"text_23\">\n    <!-- Distribusi Frekuensi Entitas Bernama -->\n    <defs>\n     <path d=\"M 19.671875 64.796875 \nL 19.671875 8.109375 \nL 31.59375 8.109375 \nQ 46.6875 8.109375 53.6875 14.9375 \nQ 60.6875 21.78125 60.6875 36.53125 \nQ 60.6875 51.171875 53.6875 57.984375 \nQ 46.6875 64.796875 31.59375 64.796875 \nz\nM 9.8125 72.90625 \nL 30.078125 72.90625 \nQ 51.265625 72.90625 61.171875 64.09375 \nQ 71.09375 55.28125 71.09375 36.53125 \nQ 71.09375 17.671875 61.125 8.828125 \nQ 51.171875 0 30.078125 0 \nL 9.8125 0 \nz\n\" id=\"DejaVuSans-68\"/>\n     <path d=\"M 48.6875 27.296875 \nQ 48.6875 37.203125 44.609375 42.84375 \nQ 40.53125 48.484375 33.40625 48.484375 \nQ 26.265625 48.484375 22.1875 42.84375 \nQ 18.109375 37.203125 18.109375 27.296875 \nQ 18.109375 17.390625 22.1875 11.75 \nQ 26.265625 6.109375 33.40625 6.109375 \nQ 40.53125 6.109375 44.609375 11.75 \nQ 48.6875 17.390625 48.6875 27.296875 \nz\nM 18.109375 46.390625 \nQ 20.953125 51.265625 25.265625 53.625 \nQ 29.59375 56 35.59375 56 \nQ 45.5625 56 51.78125 48.09375 \nQ 58.015625 40.1875 58.015625 27.296875 \nQ 58.015625 14.40625 51.78125 6.484375 \nQ 45.5625 -1.421875 35.59375 -1.421875 \nQ 29.59375 -1.421875 25.265625 0.953125 \nQ 20.953125 3.328125 18.109375 8.203125 \nL 18.109375 0 \nL 9.078125 0 \nL 9.078125 75.984375 \nL 18.109375 75.984375 \nz\n\" id=\"DejaVuSans-98\"/>\n     <path d=\"M 9.8125 72.90625 \nL 51.703125 72.90625 \nL 51.703125 64.59375 \nL 19.671875 64.59375 \nL 19.671875 43.109375 \nL 48.578125 43.109375 \nL 48.578125 34.8125 \nL 19.671875 34.8125 \nL 19.671875 0 \nL 9.8125 0 \nz\n\" id=\"DejaVuSans-70\"/>\n     <path d=\"M 9.078125 75.984375 \nL 18.109375 75.984375 \nL 18.109375 31.109375 \nL 44.921875 54.6875 \nL 56.390625 54.6875 \nL 27.390625 29.109375 \nL 57.625 0 \nL 45.90625 0 \nL 18.109375 26.703125 \nL 18.109375 0 \nL 9.078125 0 \nz\n\" id=\"DejaVuSans-107\"/>\n    </defs>\n    <g style=\"fill:#262626;\" transform=\"translate(235.883438 16.318125)scale(0.12 -0.12)\">\n     <use xlink:href=\"#DejaVuSans-68\"/>\n     <use x=\"77.001953\" xlink:href=\"#DejaVuSans-105\"/>\n     <use x=\"104.785156\" xlink:href=\"#DejaVuSans-115\"/>\n     <use x=\"156.884766\" xlink:href=\"#DejaVuSans-116\"/>\n     <use x=\"196.09375\" xlink:href=\"#DejaVuSans-114\"/>\n     <use x=\"237.207031\" xlink:href=\"#DejaVuSans-105\"/>\n     <use x=\"264.990234\" xlink:href=\"#DejaVuSans-98\"/>\n     <use x=\"328.466797\" xlink:href=\"#DejaVuSans-117\"/>\n     <use x=\"391.845703\" xlink:href=\"#DejaVuSans-115\"/>\n     <use x=\"443.945312\" xlink:href=\"#DejaVuSans-105\"/>\n     <use x=\"471.728516\" xlink:href=\"#DejaVuSans-32\"/>\n     <use x=\"503.515625\" xlink:href=\"#DejaVuSans-70\"/>\n     <use x=\"553.785156\" xlink:href=\"#DejaVuSans-114\"/>\n     <use x=\"592.648438\" xlink:href=\"#DejaVuSans-101\"/>\n     <use x=\"654.171875\" xlink:href=\"#DejaVuSans-107\"/>\n     <use x=\"708.957031\" xlink:href=\"#DejaVuSans-117\"/>\n     <use x=\"772.335938\" xlink:href=\"#DejaVuSans-101\"/>\n     <use x=\"833.859375\" xlink:href=\"#DejaVuSans-110\"/>\n     <use x=\"897.238281\" xlink:href=\"#DejaVuSans-115\"/>\n     <use x=\"949.337891\" xlink:href=\"#DejaVuSans-105\"/>\n     <use x=\"977.121094\" xlink:href=\"#DejaVuSans-32\"/>\n     <use x=\"1008.908203\" xlink:href=\"#DejaVuSans-69\"/>\n     <use x=\"1072.091797\" xlink:href=\"#DejaVuSans-110\"/>\n     <use x=\"1135.470703\" xlink:href=\"#DejaVuSans-116\"/>\n     <use x=\"1174.679688\" xlink:href=\"#DejaVuSans-105\"/>\n     <use x=\"1202.462891\" xlink:href=\"#DejaVuSans-116\"/>\n     <use x=\"1241.671875\" xlink:href=\"#DejaVuSans-97\"/>\n     <use x=\"1302.951172\" xlink:href=\"#DejaVuSans-115\"/>\n     <use x=\"1355.050781\" xlink:href=\"#DejaVuSans-32\"/>\n     <use x=\"1386.837891\" xlink:href=\"#DejaVuSans-66\"/>\n     <use x=\"1455.441406\" xlink:href=\"#DejaVuSans-101\"/>\n     <use x=\"1516.964844\" xlink:href=\"#DejaVuSans-114\"/>\n     <use x=\"1556.328125\" xlink:href=\"#DejaVuSans-110\"/>\n     <use x=\"1619.707031\" xlink:href=\"#DejaVuSans-97\"/>\n     <use x=\"1680.986328\" xlink:href=\"#DejaVuSans-109\"/>\n     <use x=\"1778.398438\" xlink:href=\"#DejaVuSans-97\"/>\n    </g>\n   </g>\n  </g>\n  <g id=\"axes_2\">\n   <g id=\"matplotlib.axis_3\">\n    <g id=\"ytick_12\">\n     <g id=\"line2d_23\">\n      <defs>\n       <path d=\"M 0 0 \nL -6 0 \n\" id=\"ma452ed75b0\" style=\"stroke:#262626;stroke-width:1.25;\"/>\n      </defs>\n      <g>\n       <use style=\"fill:#262626;stroke:#262626;stroke-width:1.25;\" x=\"53.31\" xlink:href=\"#ma452ed75b0\" y=\"457.198125\"/>\n      </g>\n     </g>\n     <g id=\"text_24\">\n      <!-- 0 -->\n      <g style=\"fill:#262626;\" transform=\"translate(36.81125 461.377266)scale(0.11 -0.11)\">\n       <use xlink:href=\"#DejaVuSans-48\"/>\n      </g>\n     </g>\n    </g>\n    <g id=\"ytick_13\">\n     <g id=\"line2d_24\">\n      <g>\n       <use style=\"fill:#262626;stroke:#262626;stroke-width:1.25;\" x=\"53.31\" xlink:href=\"#ma452ed75b0\" y=\"413.710125\"/>\n      </g>\n     </g>\n     <g id=\"text_25\">\n      <!-- 10 -->\n      <g style=\"fill:#262626;\" transform=\"translate(29.8125 417.889266)scale(0.11 -0.11)\">\n       <use xlink:href=\"#DejaVuSans-49\"/>\n       <use x=\"63.623047\" xlink:href=\"#DejaVuSans-48\"/>\n      </g>\n     </g>\n    </g>\n    <g id=\"ytick_14\">\n     <g id=\"line2d_25\">\n      <g>\n       <use style=\"fill:#262626;stroke:#262626;stroke-width:1.25;\" x=\"53.31\" xlink:href=\"#ma452ed75b0\" y=\"370.222125\"/>\n      </g>\n     </g>\n     <g id=\"text_26\">\n      <!-- 20 -->\n      <g style=\"fill:#262626;\" transform=\"translate(29.8125 374.401266)scale(0.11 -0.11)\">\n       <use xlink:href=\"#DejaVuSans-50\"/>\n       <use x=\"63.623047\" xlink:href=\"#DejaVuSans-48\"/>\n      </g>\n     </g>\n    </g>\n    <g id=\"ytick_15\">\n     <g id=\"line2d_26\">\n      <g>\n       <use style=\"fill:#262626;stroke:#262626;stroke-width:1.25;\" x=\"53.31\" xlink:href=\"#ma452ed75b0\" y=\"326.734125\"/>\n      </g>\n     </g>\n     <g id=\"text_27\">\n      <!-- 30 -->\n      <g style=\"fill:#262626;\" transform=\"translate(29.8125 330.913266)scale(0.11 -0.11)\">\n       <use xlink:href=\"#DejaVuSans-51\"/>\n       <use x=\"63.623047\" xlink:href=\"#DejaVuSans-48\"/>\n      </g>\n     </g>\n    </g>\n    <g id=\"ytick_16\">\n     <g id=\"line2d_27\">\n      <g>\n       <use style=\"fill:#262626;stroke:#262626;stroke-width:1.25;\" x=\"53.31\" xlink:href=\"#ma452ed75b0\" y=\"283.246125\"/>\n      </g>\n     </g>\n     <g id=\"text_28\">\n      <!-- 40 -->\n      <g style=\"fill:#262626;\" transform=\"translate(29.8125 287.425266)scale(0.11 -0.11)\">\n       <use xlink:href=\"#DejaVuSans-52\"/>\n       <use x=\"63.623047\" xlink:href=\"#DejaVuSans-48\"/>\n      </g>\n     </g>\n    </g>\n    <g id=\"ytick_17\">\n     <g id=\"line2d_28\">\n      <g>\n       <use style=\"fill:#262626;stroke:#262626;stroke-width:1.25;\" x=\"53.31\" xlink:href=\"#ma452ed75b0\" y=\"239.758125\"/>\n      </g>\n     </g>\n     <g id=\"text_29\">\n      <!-- 50 -->\n      <g style=\"fill:#262626;\" transform=\"translate(29.8125 243.937266)scale(0.11 -0.11)\">\n       <use xlink:href=\"#DejaVuSans-53\"/>\n       <use x=\"63.623047\" xlink:href=\"#DejaVuSans-48\"/>\n      </g>\n     </g>\n    </g>\n    <g id=\"ytick_18\">\n     <g id=\"line2d_29\">\n      <g>\n       <use style=\"fill:#262626;stroke:#262626;stroke-width:1.25;\" x=\"53.31\" xlink:href=\"#ma452ed75b0\" y=\"196.270125\"/>\n      </g>\n     </g>\n     <g id=\"text_30\">\n      <!-- 60 -->\n      <g style=\"fill:#262626;\" transform=\"translate(29.8125 200.449266)scale(0.11 -0.11)\">\n       <use xlink:href=\"#DejaVuSans-54\"/>\n       <use x=\"63.623047\" xlink:href=\"#DejaVuSans-48\"/>\n      </g>\n     </g>\n    </g>\n    <g id=\"ytick_19\">\n     <g id=\"line2d_30\">\n      <g>\n       <use style=\"fill:#262626;stroke:#262626;stroke-width:1.25;\" x=\"53.31\" xlink:href=\"#ma452ed75b0\" y=\"152.782125\"/>\n      </g>\n     </g>\n     <g id=\"text_31\">\n      <!-- 70 -->\n      <g style=\"fill:#262626;\" transform=\"translate(29.8125 156.961266)scale(0.11 -0.11)\">\n       <use xlink:href=\"#DejaVuSans-55\"/>\n       <use x=\"63.623047\" xlink:href=\"#DejaVuSans-48\"/>\n      </g>\n     </g>\n    </g>\n    <g id=\"ytick_20\">\n     <g id=\"line2d_31\">\n      <g>\n       <use style=\"fill:#262626;stroke:#262626;stroke-width:1.25;\" x=\"53.31\" xlink:href=\"#ma452ed75b0\" y=\"109.294125\"/>\n      </g>\n     </g>\n     <g id=\"text_32\">\n      <!-- 80 -->\n      <g style=\"fill:#262626;\" transform=\"translate(29.8125 113.473266)scale(0.11 -0.11)\">\n       <use xlink:href=\"#DejaVuSans-56\"/>\n       <use x=\"63.623047\" xlink:href=\"#DejaVuSans-48\"/>\n      </g>\n     </g>\n    </g>\n    <g id=\"ytick_21\">\n     <g id=\"line2d_32\">\n      <g>\n       <use style=\"fill:#262626;stroke:#262626;stroke-width:1.25;\" x=\"53.31\" xlink:href=\"#ma452ed75b0\" y=\"65.806125\"/>\n      </g>\n     </g>\n     <g id=\"text_33\">\n      <!-- 90 -->\n      <g style=\"fill:#262626;\" transform=\"translate(29.8125 69.985266)scale(0.11 -0.11)\">\n       <use xlink:href=\"#DejaVuSans-57\"/>\n       <use x=\"63.623047\" xlink:href=\"#DejaVuSans-48\"/>\n      </g>\n     </g>\n    </g>\n    <g id=\"ytick_22\">\n     <g id=\"line2d_33\">\n      <g>\n       <use style=\"fill:#262626;stroke:#262626;stroke-width:1.25;\" x=\"53.31\" xlink:href=\"#ma452ed75b0\" y=\"22.318125\"/>\n      </g>\n     </g>\n     <g id=\"text_34\">\n      <!-- 100 -->\n      <g style=\"fill:#262626;\" transform=\"translate(22.81375 26.497266)scale(0.11 -0.11)\">\n       <use xlink:href=\"#DejaVuSans-49\"/>\n       <use x=\"63.623047\" xlink:href=\"#DejaVuSans-48\"/>\n       <use x=\"127.246094\" xlink:href=\"#DejaVuSans-48\"/>\n      </g>\n     </g>\n    </g>\n    <g id=\"text_35\">\n     <!-- Frekuensi [%] -->\n     <defs>\n      <path d=\"M 8.59375 75.984375 \nL 29.296875 75.984375 \nL 29.296875 69 \nL 17.578125 69 \nL 17.578125 -6.203125 \nL 29.296875 -6.203125 \nL 29.296875 -13.1875 \nL 8.59375 -13.1875 \nz\n\" id=\"DejaVuSans-91\"/>\n      <path d=\"M 30.421875 75.984375 \nL 30.421875 -13.1875 \nL 9.71875 -13.1875 \nL 9.71875 -6.203125 \nL 21.390625 -6.203125 \nL 21.390625 69 \nL 9.71875 69 \nL 9.71875 75.984375 \nz\n\" id=\"DejaVuSans-93\"/>\n     </defs>\n     <g style=\"fill:#262626;\" transform=\"translate(16.318125 280.463437)rotate(-90)scale(0.12 -0.12)\">\n      <use xlink:href=\"#DejaVuSans-70\"/>\n      <use x=\"50.269531\" xlink:href=\"#DejaVuSans-114\"/>\n      <use x=\"89.132812\" xlink:href=\"#DejaVuSans-101\"/>\n      <use x=\"150.65625\" xlink:href=\"#DejaVuSans-107\"/>\n      <use x=\"205.441406\" xlink:href=\"#DejaVuSans-117\"/>\n      <use x=\"268.820312\" xlink:href=\"#DejaVuSans-101\"/>\n      <use x=\"330.34375\" xlink:href=\"#DejaVuSans-110\"/>\n      <use x=\"393.722656\" xlink:href=\"#DejaVuSans-115\"/>\n      <use x=\"445.822266\" xlink:href=\"#DejaVuSans-105\"/>\n      <use x=\"473.605469\" xlink:href=\"#DejaVuSans-32\"/>\n      <use x=\"505.392578\" xlink:href=\"#DejaVuSans-91\"/>\n      <use x=\"544.40625\" xlink:href=\"#DejaVuSans-37\"/>\n      <use x=\"639.425781\" xlink:href=\"#DejaVuSans-93\"/>\n     </g>\n    </g>\n   </g>\n   <g id=\"patch_11\">\n    <path d=\"M 53.31 457.198125 \nL 53.31 22.318125 \n\" style=\"fill:none;stroke:#ffffff;stroke-linecap:square;stroke-linejoin:miter;stroke-width:1.25;\"/>\n   </g>\n   <g id=\"patch_12\">\n    <path d=\"M 639.21 457.198125 \nL 639.21 22.318125 \n\" style=\"fill:none;stroke:#ffffff;stroke-linecap:square;stroke-linejoin:miter;stroke-width:1.25;\"/>\n   </g>\n   <g id=\"patch_13\">\n    <path d=\"M 53.31 457.198125 \nL 639.21 457.198125 \n\" style=\"fill:none;stroke:#ffffff;stroke-linecap:square;stroke-linejoin:miter;stroke-width:1.25;\"/>\n   </g>\n   <g id=\"patch_14\">\n    <path d=\"M 53.31 22.318125 \nL 639.21 22.318125 \n\" style=\"fill:none;stroke:#ffffff;stroke-linecap:square;stroke-linejoin:miter;stroke-width:1.25;\"/>\n   </g>\n  </g>\n </g>\n <defs>\n  <clipPath id=\"p6b605d5967\">\n   <rect height=\"434.88\" width=\"585.9\" x=\"53.31\" y=\"22.318125\"/>\n  </clipPath>\n </defs>\n</svg>\n"
          },
          "metadata": {
            "needs_background": "light"
          }
        }
      ]
    },
    {
      "cell_type": "code",
      "metadata": {
        "colab": {
          "base_uri": "https://localhost:8080/",
          "height": 708
        },
        "id": "fR1MQ-dVQ8qk",
        "outputId": "4956adc4-9478-49c7-a2d7-3615b67e79ce"
      },
      "source": [
        "#Membuat diagram distribusi frekuensi Entitas Bernama selain 'O'\n",
        "ncount = len(dataset.loc[dataset['entitas bernama'] != 'O'])\n",
        "\n",
        "plt.figure(figsize=(10.5, 8))\n",
        "ax = sns.countplot(x = \"entitas bernama\", data = dataset.loc[dataset['entitas bernama'] != 'O'])\n",
        "plt.title('Distribusi Frekuensi Entitas Bernama Selain \\'O\\'')\n",
        "plt.xlabel('Entitas Bernama')\n",
        "\n",
        "# Membuat twin axis\n",
        "ax2 = ax.twinx()\n",
        "\n",
        "# Melakukan pertukaran agar count axis di kanan, frekuensi di kiri\n",
        "ax2.yaxis.tick_left()\n",
        "ax.yaxis.tick_right()\n",
        "\n",
        "# Melakukan pertukaran label\n",
        "ax.yaxis.set_label_position('right')\n",
        "ax2.yaxis.set_label_position('left')\n",
        "\n",
        "ax.set_ylabel('Jumlah')\n",
        "ax2.set_ylabel('Frekuensi [%]')\n",
        "\n",
        "for p in ax.patches:\n",
        "    x = p.get_bbox().get_points()[:,0]\n",
        "    y = p.get_bbox().get_points()[1, 1]\n",
        "    ax.annotate('{:.1f}%'.format(100.*y/ncount), (x.mean(), y), \n",
        "                ha = 'center', va = 'bottom') # Mengatur alignment teks\n",
        "\n",
        "# Menggunakan LinearLocator untuk memastikan jumlah tick yang benar\n",
        "ax.yaxis.set_major_locator(ticker.LinearLocator(11))\n",
        "\n",
        "# Melakukan perbaikan rentang frekuensi menjadi 0-100\n",
        "ax2.set_ylim(0, 100)\n",
        "ax.set_ylim(0, ncount)\n",
        "\n",
        "# Menggunakan MultipleLocator untuk memastikan spaci antar-tick yaitu 10\n",
        "ax2.yaxis.set_major_locator(ticker.MultipleLocator(10))\n",
        "\n",
        "# Atur sehingga grid pada ax2 off, supaya gridlines tidak ditampilkan pada bagian atas bar\n",
        "ax2.grid(None)"
      ],
      "execution_count": 26,
      "outputs": [
        {
          "output_type": "display_data",
          "data": {
            "text/plain": [
              "<Figure size 756x576 with 2 Axes>"
            ],
            "image/svg+xml": "<?xml version=\"1.0\" encoding=\"utf-8\" standalone=\"no\"?>\n<!DOCTYPE svg PUBLIC \"-//W3C//DTD SVG 1.1//EN\"\n  \"http://www.w3.org/Graphics/SVG/1.1/DTD/svg11.dtd\">\n<!-- Created with matplotlib (https://matplotlib.org/) -->\n<svg height=\"500.157812pt\" version=\"1.1\" viewBox=\"0 0 713.51625 500.157812\" width=\"713.51625pt\" xmlns=\"http://www.w3.org/2000/svg\" xmlns:xlink=\"http://www.w3.org/1999/xlink\">\n <defs>\n  <style type=\"text/css\">\n*{stroke-linecap:butt;stroke-linejoin:round;}\n  </style>\n </defs>\n <g id=\"figure_1\">\n  <g id=\"patch_1\">\n   <path d=\"M 0 500.157812 \nL 713.51625 500.157812 \nL 713.51625 0 \nL 0 0 \nz\n\" style=\"fill:none;\"/>\n  </g>\n  <g id=\"axes_1\">\n   <g id=\"patch_2\">\n    <path d=\"M 53.31 457.198125 \nL 639.21 457.198125 \nL 639.21 22.318125 \nL 53.31 22.318125 \nz\n\" style=\"fill:#eaeaf2;\"/>\n   </g>\n   <g id=\"matplotlib.axis_1\">\n    <g id=\"xtick_1\">\n     <g id=\"text_1\">\n      <!-- Place -->\n      <defs>\n       <path d=\"M 19.671875 64.796875 \nL 19.671875 37.40625 \nL 32.078125 37.40625 \nQ 38.96875 37.40625 42.71875 40.96875 \nQ 46.484375 44.53125 46.484375 51.125 \nQ 46.484375 57.671875 42.71875 61.234375 \nQ 38.96875 64.796875 32.078125 64.796875 \nz\nM 9.8125 72.90625 \nL 32.078125 72.90625 \nQ 44.34375 72.90625 50.609375 67.359375 \nQ 56.890625 61.8125 56.890625 51.125 \nQ 56.890625 40.328125 50.609375 34.8125 \nQ 44.34375 29.296875 32.078125 29.296875 \nL 19.671875 29.296875 \nL 19.671875 0 \nL 9.8125 0 \nz\n\" id=\"DejaVuSans-80\"/>\n       <path d=\"M 9.421875 75.984375 \nL 18.40625 75.984375 \nL 18.40625 0 \nL 9.421875 0 \nz\n\" id=\"DejaVuSans-108\"/>\n       <path d=\"M 34.28125 27.484375 \nQ 23.390625 27.484375 19.1875 25 \nQ 14.984375 22.515625 14.984375 16.5 \nQ 14.984375 11.71875 18.140625 8.90625 \nQ 21.296875 6.109375 26.703125 6.109375 \nQ 34.1875 6.109375 38.703125 11.40625 \nQ 43.21875 16.703125 43.21875 25.484375 \nL 43.21875 27.484375 \nz\nM 52.203125 31.203125 \nL 52.203125 0 \nL 43.21875 0 \nL 43.21875 8.296875 \nQ 40.140625 3.328125 35.546875 0.953125 \nQ 30.953125 -1.421875 24.3125 -1.421875 \nQ 15.921875 -1.421875 10.953125 3.296875 \nQ 6 8.015625 6 15.921875 \nQ 6 25.140625 12.171875 29.828125 \nQ 18.359375 34.515625 30.609375 34.515625 \nL 43.21875 34.515625 \nL 43.21875 35.40625 \nQ 43.21875 41.609375 39.140625 45 \nQ 35.0625 48.390625 27.6875 48.390625 \nQ 23 48.390625 18.546875 47.265625 \nQ 14.109375 46.140625 10.015625 43.890625 \nL 10.015625 52.203125 \nQ 14.9375 54.109375 19.578125 55.046875 \nQ 24.21875 56 28.609375 56 \nQ 40.484375 56 46.34375 49.84375 \nQ 52.203125 43.703125 52.203125 31.203125 \nz\n\" id=\"DejaVuSans-97\"/>\n       <path d=\"M 48.78125 52.59375 \nL 48.78125 44.1875 \nQ 44.96875 46.296875 41.140625 47.34375 \nQ 37.3125 48.390625 33.40625 48.390625 \nQ 24.65625 48.390625 19.8125 42.84375 \nQ 14.984375 37.3125 14.984375 27.296875 \nQ 14.984375 17.28125 19.8125 11.734375 \nQ 24.65625 6.203125 33.40625 6.203125 \nQ 37.3125 6.203125 41.140625 7.25 \nQ 44.96875 8.296875 48.78125 10.40625 \nL 48.78125 2.09375 \nQ 45.015625 0.34375 40.984375 -0.53125 \nQ 36.96875 -1.421875 32.421875 -1.421875 \nQ 20.0625 -1.421875 12.78125 6.34375 \nQ 5.515625 14.109375 5.515625 27.296875 \nQ 5.515625 40.671875 12.859375 48.328125 \nQ 20.21875 56 33.015625 56 \nQ 37.15625 56 41.109375 55.140625 \nQ 45.0625 54.296875 48.78125 52.59375 \nz\n\" id=\"DejaVuSans-99\"/>\n       <path d=\"M 56.203125 29.59375 \nL 56.203125 25.203125 \nL 14.890625 25.203125 \nQ 15.484375 15.921875 20.484375 11.0625 \nQ 25.484375 6.203125 34.421875 6.203125 \nQ 39.59375 6.203125 44.453125 7.46875 \nQ 49.3125 8.734375 54.109375 11.28125 \nL 54.109375 2.78125 \nQ 49.265625 0.734375 44.1875 -0.34375 \nQ 39.109375 -1.421875 33.890625 -1.421875 \nQ 20.796875 -1.421875 13.15625 6.1875 \nQ 5.515625 13.8125 5.515625 26.8125 \nQ 5.515625 40.234375 12.765625 48.109375 \nQ 20.015625 56 32.328125 56 \nQ 43.359375 56 49.78125 48.890625 \nQ 56.203125 41.796875 56.203125 29.59375 \nz\nM 47.21875 32.234375 \nQ 47.125 39.59375 43.09375 43.984375 \nQ 39.0625 48.390625 32.421875 48.390625 \nQ 24.90625 48.390625 20.390625 44.140625 \nQ 15.875 39.890625 15.1875 32.171875 \nz\n\" id=\"DejaVuSans-101\"/>\n      </defs>\n      <g style=\"fill:#262626;\" transform=\"translate(136.336875 475.056406)scale(0.11 -0.11)\">\n       <use xlink:href=\"#DejaVuSans-80\"/>\n       <use x=\"60.302734\" xlink:href=\"#DejaVuSans-108\"/>\n       <use x=\"88.085938\" xlink:href=\"#DejaVuSans-97\"/>\n       <use x=\"149.365234\" xlink:href=\"#DejaVuSans-99\"/>\n       <use x=\"204.345703\" xlink:href=\"#DejaVuSans-101\"/>\n      </g>\n     </g>\n    </g>\n    <g id=\"xtick_2\">\n     <g id=\"text_2\">\n      <!-- Person -->\n      <defs>\n       <path d=\"M 41.109375 46.296875 \nQ 39.59375 47.171875 37.8125 47.578125 \nQ 36.03125 48 33.890625 48 \nQ 26.265625 48 22.1875 43.046875 \nQ 18.109375 38.09375 18.109375 28.8125 \nL 18.109375 0 \nL 9.078125 0 \nL 9.078125 54.6875 \nL 18.109375 54.6875 \nL 18.109375 46.1875 \nQ 20.953125 51.171875 25.484375 53.578125 \nQ 30.03125 56 36.53125 56 \nQ 37.453125 56 38.578125 55.875 \nQ 39.703125 55.765625 41.0625 55.515625 \nz\n\" id=\"DejaVuSans-114\"/>\n       <path d=\"M 44.28125 53.078125 \nL 44.28125 44.578125 \nQ 40.484375 46.53125 36.375 47.5 \nQ 32.28125 48.484375 27.875 48.484375 \nQ 21.1875 48.484375 17.84375 46.4375 \nQ 14.5 44.390625 14.5 40.28125 \nQ 14.5 37.15625 16.890625 35.375 \nQ 19.28125 33.59375 26.515625 31.984375 \nL 29.59375 31.296875 \nQ 39.15625 29.25 43.1875 25.515625 \nQ 47.21875 21.78125 47.21875 15.09375 \nQ 47.21875 7.46875 41.1875 3.015625 \nQ 35.15625 -1.421875 24.609375 -1.421875 \nQ 20.21875 -1.421875 15.453125 -0.5625 \nQ 10.6875 0.296875 5.421875 2 \nL 5.421875 11.28125 \nQ 10.40625 8.6875 15.234375 7.390625 \nQ 20.0625 6.109375 24.8125 6.109375 \nQ 31.15625 6.109375 34.5625 8.28125 \nQ 37.984375 10.453125 37.984375 14.40625 \nQ 37.984375 18.0625 35.515625 20.015625 \nQ 33.0625 21.96875 24.703125 23.78125 \nL 21.578125 24.515625 \nQ 13.234375 26.265625 9.515625 29.90625 \nQ 5.8125 33.546875 5.8125 39.890625 \nQ 5.8125 47.609375 11.28125 51.796875 \nQ 16.75 56 26.8125 56 \nQ 31.78125 56 36.171875 55.265625 \nQ 40.578125 54.546875 44.28125 53.078125 \nz\n\" id=\"DejaVuSans-115\"/>\n       <path d=\"M 30.609375 48.390625 \nQ 23.390625 48.390625 19.1875 42.75 \nQ 14.984375 37.109375 14.984375 27.296875 \nQ 14.984375 17.484375 19.15625 11.84375 \nQ 23.34375 6.203125 30.609375 6.203125 \nQ 37.796875 6.203125 41.984375 11.859375 \nQ 46.1875 17.53125 46.1875 27.296875 \nQ 46.1875 37.015625 41.984375 42.703125 \nQ 37.796875 48.390625 30.609375 48.390625 \nz\nM 30.609375 56 \nQ 42.328125 56 49.015625 48.375 \nQ 55.71875 40.765625 55.71875 27.296875 \nQ 55.71875 13.875 49.015625 6.21875 \nQ 42.328125 -1.421875 30.609375 -1.421875 \nQ 18.84375 -1.421875 12.171875 6.21875 \nQ 5.515625 13.875 5.515625 27.296875 \nQ 5.515625 40.765625 12.171875 48.375 \nQ 18.84375 56 30.609375 56 \nz\n\" id=\"DejaVuSans-111\"/>\n       <path d=\"M 54.890625 33.015625 \nL 54.890625 0 \nL 45.90625 0 \nL 45.90625 32.71875 \nQ 45.90625 40.484375 42.875 44.328125 \nQ 39.84375 48.1875 33.796875 48.1875 \nQ 26.515625 48.1875 22.3125 43.546875 \nQ 18.109375 38.921875 18.109375 30.90625 \nL 18.109375 0 \nL 9.078125 0 \nL 9.078125 54.6875 \nL 18.109375 54.6875 \nL 18.109375 46.1875 \nQ 21.34375 51.125 25.703125 53.5625 \nQ 30.078125 56 35.796875 56 \nQ 45.21875 56 50.046875 50.171875 \nQ 54.890625 44.34375 54.890625 33.015625 \nz\n\" id=\"DejaVuSans-110\"/>\n      </defs>\n      <g style=\"fill:#262626;\" transform=\"translate(327.781719 475.056406)scale(0.11 -0.11)\">\n       <use xlink:href=\"#DejaVuSans-80\"/>\n       <use x=\"56.677734\" xlink:href=\"#DejaVuSans-101\"/>\n       <use x=\"118.201172\" xlink:href=\"#DejaVuSans-114\"/>\n       <use x=\"159.314453\" xlink:href=\"#DejaVuSans-115\"/>\n       <use x=\"211.414062\" xlink:href=\"#DejaVuSans-111\"/>\n       <use x=\"272.595703\" xlink:href=\"#DejaVuSans-110\"/>\n      </g>\n     </g>\n    </g>\n    <g id=\"xtick_3\">\n     <g id=\"text_3\">\n      <!-- Organisation -->\n      <defs>\n       <path d=\"M 39.40625 66.21875 \nQ 28.65625 66.21875 22.328125 58.203125 \nQ 16.015625 50.203125 16.015625 36.375 \nQ 16.015625 22.609375 22.328125 14.59375 \nQ 28.65625 6.59375 39.40625 6.59375 \nQ 50.140625 6.59375 56.421875 14.59375 \nQ 62.703125 22.609375 62.703125 36.375 \nQ 62.703125 50.203125 56.421875 58.203125 \nQ 50.140625 66.21875 39.40625 66.21875 \nz\nM 39.40625 74.21875 \nQ 54.734375 74.21875 63.90625 63.9375 \nQ 73.09375 53.65625 73.09375 36.375 \nQ 73.09375 19.140625 63.90625 8.859375 \nQ 54.734375 -1.421875 39.40625 -1.421875 \nQ 24.03125 -1.421875 14.8125 8.828125 \nQ 5.609375 19.09375 5.609375 36.375 \nQ 5.609375 53.65625 14.8125 63.9375 \nQ 24.03125 74.21875 39.40625 74.21875 \nz\n\" id=\"DejaVuSans-79\"/>\n       <path d=\"M 45.40625 27.984375 \nQ 45.40625 37.75 41.375 43.109375 \nQ 37.359375 48.484375 30.078125 48.484375 \nQ 22.859375 48.484375 18.828125 43.109375 \nQ 14.796875 37.75 14.796875 27.984375 \nQ 14.796875 18.265625 18.828125 12.890625 \nQ 22.859375 7.515625 30.078125 7.515625 \nQ 37.359375 7.515625 41.375 12.890625 \nQ 45.40625 18.265625 45.40625 27.984375 \nz\nM 54.390625 6.78125 \nQ 54.390625 -7.171875 48.1875 -13.984375 \nQ 42 -20.796875 29.203125 -20.796875 \nQ 24.46875 -20.796875 20.265625 -20.09375 \nQ 16.0625 -19.390625 12.109375 -17.921875 \nL 12.109375 -9.1875 \nQ 16.0625 -11.328125 19.921875 -12.34375 \nQ 23.78125 -13.375 27.78125 -13.375 \nQ 36.625 -13.375 41.015625 -8.765625 \nQ 45.40625 -4.15625 45.40625 5.171875 \nL 45.40625 9.625 \nQ 42.625 4.78125 38.28125 2.390625 \nQ 33.9375 0 27.875 0 \nQ 17.828125 0 11.671875 7.65625 \nQ 5.515625 15.328125 5.515625 27.984375 \nQ 5.515625 40.671875 11.671875 48.328125 \nQ 17.828125 56 27.875 56 \nQ 33.9375 56 38.28125 53.609375 \nQ 42.625 51.21875 45.40625 46.390625 \nL 45.40625 54.6875 \nL 54.390625 54.6875 \nz\n\" id=\"DejaVuSans-103\"/>\n       <path d=\"M 9.421875 54.6875 \nL 18.40625 54.6875 \nL 18.40625 0 \nL 9.421875 0 \nz\nM 9.421875 75.984375 \nL 18.40625 75.984375 \nL 18.40625 64.59375 \nL 9.421875 64.59375 \nz\n\" id=\"DejaVuSans-105\"/>\n       <path d=\"M 18.3125 70.21875 \nL 18.3125 54.6875 \nL 36.8125 54.6875 \nL 36.8125 47.703125 \nL 18.3125 47.703125 \nL 18.3125 18.015625 \nQ 18.3125 11.328125 20.140625 9.421875 \nQ 21.96875 7.515625 27.59375 7.515625 \nL 36.8125 7.515625 \nL 36.8125 0 \nL 27.59375 0 \nQ 17.1875 0 13.234375 3.875 \nQ 9.28125 7.765625 9.28125 18.015625 \nL 9.28125 47.703125 \nL 2.6875 47.703125 \nL 2.6875 54.6875 \nL 9.28125 54.6875 \nL 9.28125 70.21875 \nz\n\" id=\"DejaVuSans-116\"/>\n      </defs>\n      <g style=\"fill:#262626;\" transform=\"translate(506.419297 475.056406)scale(0.11 -0.11)\">\n       <use xlink:href=\"#DejaVuSans-79\"/>\n       <use x=\"78.710938\" xlink:href=\"#DejaVuSans-114\"/>\n       <use x=\"118.074219\" xlink:href=\"#DejaVuSans-103\"/>\n       <use x=\"181.550781\" xlink:href=\"#DejaVuSans-97\"/>\n       <use x=\"242.830078\" xlink:href=\"#DejaVuSans-110\"/>\n       <use x=\"306.208984\" xlink:href=\"#DejaVuSans-105\"/>\n       <use x=\"333.992188\" xlink:href=\"#DejaVuSans-115\"/>\n       <use x=\"386.091797\" xlink:href=\"#DejaVuSans-97\"/>\n       <use x=\"447.371094\" xlink:href=\"#DejaVuSans-116\"/>\n       <use x=\"486.580078\" xlink:href=\"#DejaVuSans-105\"/>\n       <use x=\"514.363281\" xlink:href=\"#DejaVuSans-111\"/>\n       <use x=\"575.544922\" xlink:href=\"#DejaVuSans-110\"/>\n      </g>\n     </g>\n    </g>\n    <g id=\"text_4\">\n     <!-- Entitas Bernama -->\n     <defs>\n      <path d=\"M 9.8125 72.90625 \nL 55.90625 72.90625 \nL 55.90625 64.59375 \nL 19.671875 64.59375 \nL 19.671875 43.015625 \nL 54.390625 43.015625 \nL 54.390625 34.71875 \nL 19.671875 34.71875 \nL 19.671875 8.296875 \nL 56.78125 8.296875 \nL 56.78125 0 \nL 9.8125 0 \nz\n\" id=\"DejaVuSans-69\"/>\n      <path id=\"DejaVuSans-32\"/>\n      <path d=\"M 19.671875 34.8125 \nL 19.671875 8.109375 \nL 35.5 8.109375 \nQ 43.453125 8.109375 47.28125 11.40625 \nQ 51.125 14.703125 51.125 21.484375 \nQ 51.125 28.328125 47.28125 31.5625 \nQ 43.453125 34.8125 35.5 34.8125 \nz\nM 19.671875 64.796875 \nL 19.671875 42.828125 \nL 34.28125 42.828125 \nQ 41.5 42.828125 45.03125 45.53125 \nQ 48.578125 48.25 48.578125 53.8125 \nQ 48.578125 59.328125 45.03125 62.0625 \nQ 41.5 64.796875 34.28125 64.796875 \nz\nM 9.8125 72.90625 \nL 35.015625 72.90625 \nQ 46.296875 72.90625 52.390625 68.21875 \nQ 58.5 63.53125 58.5 54.890625 \nQ 58.5 48.1875 55.375 44.234375 \nQ 52.25 40.28125 46.1875 39.3125 \nQ 53.46875 37.75 57.5 32.78125 \nQ 61.53125 27.828125 61.53125 20.40625 \nQ 61.53125 10.640625 54.890625 5.3125 \nQ 48.25 0 35.984375 0 \nL 9.8125 0 \nz\n\" id=\"DejaVuSans-66\"/>\n      <path d=\"M 52 44.1875 \nQ 55.375 50.25 60.0625 53.125 \nQ 64.75 56 71.09375 56 \nQ 79.640625 56 84.28125 50.015625 \nQ 88.921875 44.046875 88.921875 33.015625 \nL 88.921875 0 \nL 79.890625 0 \nL 79.890625 32.71875 \nQ 79.890625 40.578125 77.09375 44.375 \nQ 74.3125 48.1875 68.609375 48.1875 \nQ 61.625 48.1875 57.5625 43.546875 \nQ 53.515625 38.921875 53.515625 30.90625 \nL 53.515625 0 \nL 44.484375 0 \nL 44.484375 32.71875 \nQ 44.484375 40.625 41.703125 44.40625 \nQ 38.921875 48.1875 33.109375 48.1875 \nQ 26.21875 48.1875 22.15625 43.53125 \nQ 18.109375 38.875 18.109375 30.90625 \nL 18.109375 0 \nL 9.078125 0 \nL 9.078125 54.6875 \nL 18.109375 54.6875 \nL 18.109375 46.1875 \nQ 21.1875 51.21875 25.484375 53.609375 \nQ 29.78125 56 35.6875 56 \nQ 41.65625 56 45.828125 52.96875 \nQ 50 49.953125 52 44.1875 \nz\n\" id=\"DejaVuSans-109\"/>\n     </defs>\n     <g style=\"fill:#262626;\" transform=\"translate(296.415 490.462187)scale(0.12 -0.12)\">\n      <use xlink:href=\"#DejaVuSans-69\"/>\n      <use x=\"63.183594\" xlink:href=\"#DejaVuSans-110\"/>\n      <use x=\"126.5625\" xlink:href=\"#DejaVuSans-116\"/>\n      <use x=\"165.771484\" xlink:href=\"#DejaVuSans-105\"/>\n      <use x=\"193.554688\" xlink:href=\"#DejaVuSans-116\"/>\n      <use x=\"232.763672\" xlink:href=\"#DejaVuSans-97\"/>\n      <use x=\"294.042969\" xlink:href=\"#DejaVuSans-115\"/>\n      <use x=\"346.142578\" xlink:href=\"#DejaVuSans-32\"/>\n      <use x=\"377.929688\" xlink:href=\"#DejaVuSans-66\"/>\n      <use x=\"446.533203\" xlink:href=\"#DejaVuSans-101\"/>\n      <use x=\"508.056641\" xlink:href=\"#DejaVuSans-114\"/>\n      <use x=\"547.419922\" xlink:href=\"#DejaVuSans-110\"/>\n      <use x=\"610.798828\" xlink:href=\"#DejaVuSans-97\"/>\n      <use x=\"672.078125\" xlink:href=\"#DejaVuSans-109\"/>\n      <use x=\"769.490234\" xlink:href=\"#DejaVuSans-97\"/>\n     </g>\n    </g>\n   </g>\n   <g id=\"matplotlib.axis_2\">\n    <g id=\"ytick_1\">\n     <g id=\"line2d_1\">\n      <path clip-path=\"url(#p081134e5e8)\" d=\"M 53.31 457.198125 \nL 639.21 457.198125 \n\" style=\"fill:none;stroke:#ffffff;stroke-linecap:round;\"/>\n     </g>\n     <g id=\"line2d_2\">\n      <defs>\n       <path d=\"M 0 0 \nL 6 0 \n\" id=\"m281498c5df\" style=\"stroke:#262626;stroke-width:1.25;\"/>\n      </defs>\n      <g>\n       <use style=\"fill:#262626;stroke:#262626;stroke-width:1.25;\" x=\"639.21\" xlink:href=\"#m281498c5df\" y=\"457.198125\"/>\n      </g>\n     </g>\n     <g id=\"text_5\">\n      <!-- 0 -->\n      <defs>\n       <path d=\"M 31.78125 66.40625 \nQ 24.171875 66.40625 20.328125 58.90625 \nQ 16.5 51.421875 16.5 36.375 \nQ 16.5 21.390625 20.328125 13.890625 \nQ 24.171875 6.390625 31.78125 6.390625 \nQ 39.453125 6.390625 43.28125 13.890625 \nQ 47.125 21.390625 47.125 36.375 \nQ 47.125 51.421875 43.28125 58.90625 \nQ 39.453125 66.40625 31.78125 66.40625 \nz\nM 31.78125 74.21875 \nQ 44.046875 74.21875 50.515625 64.515625 \nQ 56.984375 54.828125 56.984375 36.375 \nQ 56.984375 17.96875 50.515625 8.265625 \nQ 44.046875 -1.421875 31.78125 -1.421875 \nQ 19.53125 -1.421875 13.0625 8.265625 \nQ 6.59375 17.96875 6.59375 36.375 \nQ 6.59375 54.828125 13.0625 64.515625 \nQ 19.53125 74.21875 31.78125 74.21875 \nz\n\" id=\"DejaVuSans-48\"/>\n      </defs>\n      <g style=\"fill:#262626;\" transform=\"translate(648.71 461.377266)scale(0.11 -0.11)\">\n       <use xlink:href=\"#DejaVuSans-48\"/>\n      </g>\n     </g>\n    </g>\n    <g id=\"ytick_2\">\n     <g id=\"line2d_3\">\n      <path clip-path=\"url(#p081134e5e8)\" d=\"M 53.31 413.710125 \nL 639.21 413.710125 \n\" style=\"fill:none;stroke:#ffffff;stroke-linecap:round;\"/>\n     </g>\n     <g id=\"line2d_4\">\n      <g>\n       <use style=\"fill:#262626;stroke:#262626;stroke-width:1.25;\" x=\"639.21\" xlink:href=\"#m281498c5df\" y=\"413.710125\"/>\n      </g>\n     </g>\n     <g id=\"text_6\">\n      <!-- 13824 -->\n      <defs>\n       <path d=\"M 12.40625 8.296875 \nL 28.515625 8.296875 \nL 28.515625 63.921875 \nL 10.984375 60.40625 \nL 10.984375 69.390625 \nL 28.421875 72.90625 \nL 38.28125 72.90625 \nL 38.28125 8.296875 \nL 54.390625 8.296875 \nL 54.390625 0 \nL 12.40625 0 \nz\n\" id=\"DejaVuSans-49\"/>\n       <path d=\"M 40.578125 39.3125 \nQ 47.65625 37.796875 51.625 33 \nQ 55.609375 28.21875 55.609375 21.1875 \nQ 55.609375 10.40625 48.1875 4.484375 \nQ 40.765625 -1.421875 27.09375 -1.421875 \nQ 22.515625 -1.421875 17.65625 -0.515625 \nQ 12.796875 0.390625 7.625 2.203125 \nL 7.625 11.71875 \nQ 11.71875 9.328125 16.59375 8.109375 \nQ 21.484375 6.890625 26.8125 6.890625 \nQ 36.078125 6.890625 40.9375 10.546875 \nQ 45.796875 14.203125 45.796875 21.1875 \nQ 45.796875 27.640625 41.28125 31.265625 \nQ 36.765625 34.90625 28.71875 34.90625 \nL 20.21875 34.90625 \nL 20.21875 43.015625 \nL 29.109375 43.015625 \nQ 36.375 43.015625 40.234375 45.921875 \nQ 44.09375 48.828125 44.09375 54.296875 \nQ 44.09375 59.90625 40.109375 62.90625 \nQ 36.140625 65.921875 28.71875 65.921875 \nQ 24.65625 65.921875 20.015625 65.03125 \nQ 15.375 64.15625 9.8125 62.3125 \nL 9.8125 71.09375 \nQ 15.4375 72.65625 20.34375 73.4375 \nQ 25.25 74.21875 29.59375 74.21875 \nQ 40.828125 74.21875 47.359375 69.109375 \nQ 53.90625 64.015625 53.90625 55.328125 \nQ 53.90625 49.265625 50.4375 45.09375 \nQ 46.96875 40.921875 40.578125 39.3125 \nz\n\" id=\"DejaVuSans-51\"/>\n       <path d=\"M 31.78125 34.625 \nQ 24.75 34.625 20.71875 30.859375 \nQ 16.703125 27.09375 16.703125 20.515625 \nQ 16.703125 13.921875 20.71875 10.15625 \nQ 24.75 6.390625 31.78125 6.390625 \nQ 38.8125 6.390625 42.859375 10.171875 \nQ 46.921875 13.96875 46.921875 20.515625 \nQ 46.921875 27.09375 42.890625 30.859375 \nQ 38.875 34.625 31.78125 34.625 \nz\nM 21.921875 38.8125 \nQ 15.578125 40.375 12.03125 44.71875 \nQ 8.5 49.078125 8.5 55.328125 \nQ 8.5 64.0625 14.71875 69.140625 \nQ 20.953125 74.21875 31.78125 74.21875 \nQ 42.671875 74.21875 48.875 69.140625 \nQ 55.078125 64.0625 55.078125 55.328125 \nQ 55.078125 49.078125 51.53125 44.71875 \nQ 48 40.375 41.703125 38.8125 \nQ 48.828125 37.15625 52.796875 32.3125 \nQ 56.78125 27.484375 56.78125 20.515625 \nQ 56.78125 9.90625 50.3125 4.234375 \nQ 43.84375 -1.421875 31.78125 -1.421875 \nQ 19.734375 -1.421875 13.25 4.234375 \nQ 6.78125 9.90625 6.78125 20.515625 \nQ 6.78125 27.484375 10.78125 32.3125 \nQ 14.796875 37.15625 21.921875 38.8125 \nz\nM 18.3125 54.390625 \nQ 18.3125 48.734375 21.84375 45.5625 \nQ 25.390625 42.390625 31.78125 42.390625 \nQ 38.140625 42.390625 41.71875 45.5625 \nQ 45.3125 48.734375 45.3125 54.390625 \nQ 45.3125 60.0625 41.71875 63.234375 \nQ 38.140625 66.40625 31.78125 66.40625 \nQ 25.390625 66.40625 21.84375 63.234375 \nQ 18.3125 60.0625 18.3125 54.390625 \nz\n\" id=\"DejaVuSans-56\"/>\n       <path d=\"M 19.1875 8.296875 \nL 53.609375 8.296875 \nL 53.609375 0 \nL 7.328125 0 \nL 7.328125 8.296875 \nQ 12.9375 14.109375 22.625 23.890625 \nQ 32.328125 33.6875 34.8125 36.53125 \nQ 39.546875 41.84375 41.421875 45.53125 \nQ 43.3125 49.21875 43.3125 52.78125 \nQ 43.3125 58.59375 39.234375 62.25 \nQ 35.15625 65.921875 28.609375 65.921875 \nQ 23.96875 65.921875 18.8125 64.3125 \nQ 13.671875 62.703125 7.8125 59.421875 \nL 7.8125 69.390625 \nQ 13.765625 71.78125 18.9375 73 \nQ 24.125 74.21875 28.421875 74.21875 \nQ 39.75 74.21875 46.484375 68.546875 \nQ 53.21875 62.890625 53.21875 53.421875 \nQ 53.21875 48.921875 51.53125 44.890625 \nQ 49.859375 40.875 45.40625 35.40625 \nQ 44.1875 33.984375 37.640625 27.21875 \nQ 31.109375 20.453125 19.1875 8.296875 \nz\n\" id=\"DejaVuSans-50\"/>\n       <path d=\"M 37.796875 64.3125 \nL 12.890625 25.390625 \nL 37.796875 25.390625 \nz\nM 35.203125 72.90625 \nL 47.609375 72.90625 \nL 47.609375 25.390625 \nL 58.015625 25.390625 \nL 58.015625 17.1875 \nL 47.609375 17.1875 \nL 47.609375 0 \nL 37.796875 0 \nL 37.796875 17.1875 \nL 4.890625 17.1875 \nL 4.890625 26.703125 \nz\n\" id=\"DejaVuSans-52\"/>\n      </defs>\n      <g style=\"fill:#262626;\" transform=\"translate(648.71 417.889266)scale(0.11 -0.11)\">\n       <use xlink:href=\"#DejaVuSans-49\"/>\n       <use x=\"63.623047\" xlink:href=\"#DejaVuSans-51\"/>\n       <use x=\"127.246094\" xlink:href=\"#DejaVuSans-56\"/>\n       <use x=\"190.869141\" xlink:href=\"#DejaVuSans-50\"/>\n       <use x=\"254.492188\" xlink:href=\"#DejaVuSans-52\"/>\n      </g>\n     </g>\n    </g>\n    <g id=\"ytick_3\">\n     <g id=\"line2d_5\">\n      <path clip-path=\"url(#p081134e5e8)\" d=\"M 53.31 370.222125 \nL 639.21 370.222125 \n\" style=\"fill:none;stroke:#ffffff;stroke-linecap:round;\"/>\n     </g>\n     <g id=\"line2d_6\">\n      <g>\n       <use style=\"fill:#262626;stroke:#262626;stroke-width:1.25;\" x=\"639.21\" xlink:href=\"#m281498c5df\" y=\"370.222125\"/>\n      </g>\n     </g>\n     <g id=\"text_7\">\n      <!-- 27649 -->\n      <defs>\n       <path d=\"M 8.203125 72.90625 \nL 55.078125 72.90625 \nL 55.078125 68.703125 \nL 28.609375 0 \nL 18.3125 0 \nL 43.21875 64.59375 \nL 8.203125 64.59375 \nz\n\" id=\"DejaVuSans-55\"/>\n       <path d=\"M 33.015625 40.375 \nQ 26.375 40.375 22.484375 35.828125 \nQ 18.609375 31.296875 18.609375 23.390625 \nQ 18.609375 15.53125 22.484375 10.953125 \nQ 26.375 6.390625 33.015625 6.390625 \nQ 39.65625 6.390625 43.53125 10.953125 \nQ 47.40625 15.53125 47.40625 23.390625 \nQ 47.40625 31.296875 43.53125 35.828125 \nQ 39.65625 40.375 33.015625 40.375 \nz\nM 52.59375 71.296875 \nL 52.59375 62.3125 \nQ 48.875 64.0625 45.09375 64.984375 \nQ 41.3125 65.921875 37.59375 65.921875 \nQ 27.828125 65.921875 22.671875 59.328125 \nQ 17.53125 52.734375 16.796875 39.40625 \nQ 19.671875 43.65625 24.015625 45.921875 \nQ 28.375 48.1875 33.59375 48.1875 \nQ 44.578125 48.1875 50.953125 41.515625 \nQ 57.328125 34.859375 57.328125 23.390625 \nQ 57.328125 12.15625 50.6875 5.359375 \nQ 44.046875 -1.421875 33.015625 -1.421875 \nQ 20.359375 -1.421875 13.671875 8.265625 \nQ 6.984375 17.96875 6.984375 36.375 \nQ 6.984375 53.65625 15.1875 63.9375 \nQ 23.390625 74.21875 37.203125 74.21875 \nQ 40.921875 74.21875 44.703125 73.484375 \nQ 48.484375 72.75 52.59375 71.296875 \nz\n\" id=\"DejaVuSans-54\"/>\n       <path d=\"M 10.984375 1.515625 \nL 10.984375 10.5 \nQ 14.703125 8.734375 18.5 7.8125 \nQ 22.3125 6.890625 25.984375 6.890625 \nQ 35.75 6.890625 40.890625 13.453125 \nQ 46.046875 20.015625 46.78125 33.40625 \nQ 43.953125 29.203125 39.59375 26.953125 \nQ 35.25 24.703125 29.984375 24.703125 \nQ 19.046875 24.703125 12.671875 31.3125 \nQ 6.296875 37.9375 6.296875 49.421875 \nQ 6.296875 60.640625 12.9375 67.421875 \nQ 19.578125 74.21875 30.609375 74.21875 \nQ 43.265625 74.21875 49.921875 64.515625 \nQ 56.59375 54.828125 56.59375 36.375 \nQ 56.59375 19.140625 48.40625 8.859375 \nQ 40.234375 -1.421875 26.421875 -1.421875 \nQ 22.703125 -1.421875 18.890625 -0.6875 \nQ 15.09375 0.046875 10.984375 1.515625 \nz\nM 30.609375 32.421875 \nQ 37.25 32.421875 41.125 36.953125 \nQ 45.015625 41.5 45.015625 49.421875 \nQ 45.015625 57.28125 41.125 61.84375 \nQ 37.25 66.40625 30.609375 66.40625 \nQ 23.96875 66.40625 20.09375 61.84375 \nQ 16.21875 57.28125 16.21875 49.421875 \nQ 16.21875 41.5 20.09375 36.953125 \nQ 23.96875 32.421875 30.609375 32.421875 \nz\n\" id=\"DejaVuSans-57\"/>\n      </defs>\n      <g style=\"fill:#262626;\" transform=\"translate(648.71 374.401266)scale(0.11 -0.11)\">\n       <use xlink:href=\"#DejaVuSans-50\"/>\n       <use x=\"63.623047\" xlink:href=\"#DejaVuSans-55\"/>\n       <use x=\"127.246094\" xlink:href=\"#DejaVuSans-54\"/>\n       <use x=\"190.869141\" xlink:href=\"#DejaVuSans-52\"/>\n       <use x=\"254.492188\" xlink:href=\"#DejaVuSans-57\"/>\n      </g>\n     </g>\n    </g>\n    <g id=\"ytick_4\">\n     <g id=\"line2d_7\">\n      <path clip-path=\"url(#p081134e5e8)\" d=\"M 53.31 326.734125 \nL 639.21 326.734125 \n\" style=\"fill:none;stroke:#ffffff;stroke-linecap:round;\"/>\n     </g>\n     <g id=\"line2d_8\">\n      <g>\n       <use style=\"fill:#262626;stroke:#262626;stroke-width:1.25;\" x=\"639.21\" xlink:href=\"#m281498c5df\" y=\"326.734125\"/>\n      </g>\n     </g>\n     <g id=\"text_8\">\n      <!-- 41474 -->\n      <g style=\"fill:#262626;\" transform=\"translate(648.71 330.913266)scale(0.11 -0.11)\">\n       <use xlink:href=\"#DejaVuSans-52\"/>\n       <use x=\"63.623047\" xlink:href=\"#DejaVuSans-49\"/>\n       <use x=\"127.246094\" xlink:href=\"#DejaVuSans-52\"/>\n       <use x=\"190.869141\" xlink:href=\"#DejaVuSans-55\"/>\n       <use x=\"254.492188\" xlink:href=\"#DejaVuSans-52\"/>\n      </g>\n     </g>\n    </g>\n    <g id=\"ytick_5\">\n     <g id=\"line2d_9\">\n      <path clip-path=\"url(#p081134e5e8)\" d=\"M 53.31 283.246125 \nL 639.21 283.246125 \n\" style=\"fill:none;stroke:#ffffff;stroke-linecap:round;\"/>\n     </g>\n     <g id=\"line2d_10\">\n      <g>\n       <use style=\"fill:#262626;stroke:#262626;stroke-width:1.25;\" x=\"639.21\" xlink:href=\"#m281498c5df\" y=\"283.246125\"/>\n      </g>\n     </g>\n     <g id=\"text_9\">\n      <!-- 55298 -->\n      <defs>\n       <path d=\"M 10.796875 72.90625 \nL 49.515625 72.90625 \nL 49.515625 64.59375 \nL 19.828125 64.59375 \nL 19.828125 46.734375 \nQ 21.96875 47.46875 24.109375 47.828125 \nQ 26.265625 48.1875 28.421875 48.1875 \nQ 40.625 48.1875 47.75 41.5 \nQ 54.890625 34.8125 54.890625 23.390625 \nQ 54.890625 11.625 47.5625 5.09375 \nQ 40.234375 -1.421875 26.90625 -1.421875 \nQ 22.3125 -1.421875 17.546875 -0.640625 \nQ 12.796875 0.140625 7.71875 1.703125 \nL 7.71875 11.625 \nQ 12.109375 9.234375 16.796875 8.0625 \nQ 21.484375 6.890625 26.703125 6.890625 \nQ 35.15625 6.890625 40.078125 11.328125 \nQ 45.015625 15.765625 45.015625 23.390625 \nQ 45.015625 31 40.078125 35.4375 \nQ 35.15625 39.890625 26.703125 39.890625 \nQ 22.75 39.890625 18.8125 39.015625 \nQ 14.890625 38.140625 10.796875 36.28125 \nz\n\" id=\"DejaVuSans-53\"/>\n      </defs>\n      <g style=\"fill:#262626;\" transform=\"translate(648.71 287.425266)scale(0.11 -0.11)\">\n       <use xlink:href=\"#DejaVuSans-53\"/>\n       <use x=\"63.623047\" xlink:href=\"#DejaVuSans-53\"/>\n       <use x=\"127.246094\" xlink:href=\"#DejaVuSans-50\"/>\n       <use x=\"190.869141\" xlink:href=\"#DejaVuSans-57\"/>\n       <use x=\"254.492188\" xlink:href=\"#DejaVuSans-56\"/>\n      </g>\n     </g>\n    </g>\n    <g id=\"ytick_6\">\n     <g id=\"line2d_11\">\n      <path clip-path=\"url(#p081134e5e8)\" d=\"M 53.31 239.758125 \nL 639.21 239.758125 \n\" style=\"fill:none;stroke:#ffffff;stroke-linecap:round;\"/>\n     </g>\n     <g id=\"line2d_12\">\n      <g>\n       <use style=\"fill:#262626;stroke:#262626;stroke-width:1.25;\" x=\"639.21\" xlink:href=\"#m281498c5df\" y=\"239.758125\"/>\n      </g>\n     </g>\n     <g id=\"text_10\">\n      <!-- 69122 -->\n      <g style=\"fill:#262626;\" transform=\"translate(648.71 243.937266)scale(0.11 -0.11)\">\n       <use xlink:href=\"#DejaVuSans-54\"/>\n       <use x=\"63.623047\" xlink:href=\"#DejaVuSans-57\"/>\n       <use x=\"127.246094\" xlink:href=\"#DejaVuSans-49\"/>\n       <use x=\"190.869141\" xlink:href=\"#DejaVuSans-50\"/>\n       <use x=\"254.492188\" xlink:href=\"#DejaVuSans-50\"/>\n      </g>\n     </g>\n    </g>\n    <g id=\"ytick_7\">\n     <g id=\"line2d_13\">\n      <path clip-path=\"url(#p081134e5e8)\" d=\"M 53.31 196.270125 \nL 639.21 196.270125 \n\" style=\"fill:none;stroke:#ffffff;stroke-linecap:round;\"/>\n     </g>\n     <g id=\"line2d_14\">\n      <g>\n       <use style=\"fill:#262626;stroke:#262626;stroke-width:1.25;\" x=\"639.21\" xlink:href=\"#m281498c5df\" y=\"196.270125\"/>\n      </g>\n     </g>\n     <g id=\"text_11\">\n      <!-- 82947 -->\n      <g style=\"fill:#262626;\" transform=\"translate(648.71 200.449266)scale(0.11 -0.11)\">\n       <use xlink:href=\"#DejaVuSans-56\"/>\n       <use x=\"63.623047\" xlink:href=\"#DejaVuSans-50\"/>\n       <use x=\"127.246094\" xlink:href=\"#DejaVuSans-57\"/>\n       <use x=\"190.869141\" xlink:href=\"#DejaVuSans-52\"/>\n       <use x=\"254.492188\" xlink:href=\"#DejaVuSans-55\"/>\n      </g>\n     </g>\n    </g>\n    <g id=\"ytick_8\">\n     <g id=\"line2d_15\">\n      <path clip-path=\"url(#p081134e5e8)\" d=\"M 53.31 152.782125 \nL 639.21 152.782125 \n\" style=\"fill:none;stroke:#ffffff;stroke-linecap:round;\"/>\n     </g>\n     <g id=\"line2d_16\">\n      <g>\n       <use style=\"fill:#262626;stroke:#262626;stroke-width:1.25;\" x=\"639.21\" xlink:href=\"#m281498c5df\" y=\"152.782125\"/>\n      </g>\n     </g>\n     <g id=\"text_12\">\n      <!-- 96772 -->\n      <g style=\"fill:#262626;\" transform=\"translate(648.71 156.961266)scale(0.11 -0.11)\">\n       <use xlink:href=\"#DejaVuSans-57\"/>\n       <use x=\"63.623047\" xlink:href=\"#DejaVuSans-54\"/>\n       <use x=\"127.246094\" xlink:href=\"#DejaVuSans-55\"/>\n       <use x=\"190.869141\" xlink:href=\"#DejaVuSans-55\"/>\n       <use x=\"254.492188\" xlink:href=\"#DejaVuSans-50\"/>\n      </g>\n     </g>\n    </g>\n    <g id=\"ytick_9\">\n     <g id=\"line2d_17\">\n      <path clip-path=\"url(#p081134e5e8)\" d=\"M 53.31 109.294125 \nL 639.21 109.294125 \n\" style=\"fill:none;stroke:#ffffff;stroke-linecap:round;\"/>\n     </g>\n     <g id=\"line2d_18\">\n      <g>\n       <use style=\"fill:#262626;stroke:#262626;stroke-width:1.25;\" x=\"639.21\" xlink:href=\"#m281498c5df\" y=\"109.294125\"/>\n      </g>\n     </g>\n     <g id=\"text_13\">\n      <!-- 110596 -->\n      <g style=\"fill:#262626;\" transform=\"translate(648.71 113.473266)scale(0.11 -0.11)\">\n       <use xlink:href=\"#DejaVuSans-49\"/>\n       <use x=\"63.623047\" xlink:href=\"#DejaVuSans-49\"/>\n       <use x=\"127.246094\" xlink:href=\"#DejaVuSans-48\"/>\n       <use x=\"190.869141\" xlink:href=\"#DejaVuSans-53\"/>\n       <use x=\"254.492188\" xlink:href=\"#DejaVuSans-57\"/>\n       <use x=\"318.115234\" xlink:href=\"#DejaVuSans-54\"/>\n      </g>\n     </g>\n    </g>\n    <g id=\"ytick_10\">\n     <g id=\"line2d_19\">\n      <path clip-path=\"url(#p081134e5e8)\" d=\"M 53.31 65.806125 \nL 639.21 65.806125 \n\" style=\"fill:none;stroke:#ffffff;stroke-linecap:round;\"/>\n     </g>\n     <g id=\"line2d_20\">\n      <g>\n       <use style=\"fill:#262626;stroke:#262626;stroke-width:1.25;\" x=\"639.21\" xlink:href=\"#m281498c5df\" y=\"65.806125\"/>\n      </g>\n     </g>\n     <g id=\"text_14\">\n      <!-- 124420 -->\n      <g style=\"fill:#262626;\" transform=\"translate(648.71 69.985266)scale(0.11 -0.11)\">\n       <use xlink:href=\"#DejaVuSans-49\"/>\n       <use x=\"63.623047\" xlink:href=\"#DejaVuSans-50\"/>\n       <use x=\"127.246094\" xlink:href=\"#DejaVuSans-52\"/>\n       <use x=\"190.869141\" xlink:href=\"#DejaVuSans-52\"/>\n       <use x=\"254.492188\" xlink:href=\"#DejaVuSans-50\"/>\n       <use x=\"318.115234\" xlink:href=\"#DejaVuSans-48\"/>\n      </g>\n     </g>\n    </g>\n    <g id=\"ytick_11\">\n     <g id=\"line2d_21\">\n      <path clip-path=\"url(#p081134e5e8)\" d=\"M 53.31 22.318125 \nL 639.21 22.318125 \n\" style=\"fill:none;stroke:#ffffff;stroke-linecap:round;\"/>\n     </g>\n     <g id=\"line2d_22\">\n      <g>\n       <use style=\"fill:#262626;stroke:#262626;stroke-width:1.25;\" x=\"639.21\" xlink:href=\"#m281498c5df\" y=\"22.318125\"/>\n      </g>\n     </g>\n     <g id=\"text_15\">\n      <!-- 138245 -->\n      <g style=\"fill:#262626;\" transform=\"translate(648.71 26.497266)scale(0.11 -0.11)\">\n       <use xlink:href=\"#DejaVuSans-49\"/>\n       <use x=\"63.623047\" xlink:href=\"#DejaVuSans-51\"/>\n       <use x=\"127.246094\" xlink:href=\"#DejaVuSans-56\"/>\n       <use x=\"190.869141\" xlink:href=\"#DejaVuSans-50\"/>\n       <use x=\"254.492188\" xlink:href=\"#DejaVuSans-52\"/>\n       <use x=\"318.115234\" xlink:href=\"#DejaVuSans-53\"/>\n      </g>\n     </g>\n    </g>\n    <g id=\"text_16\">\n     <!-- Jumlah -->\n     <defs>\n      <path d=\"M 9.8125 72.90625 \nL 19.671875 72.90625 \nL 19.671875 5.078125 \nQ 19.671875 -8.109375 14.671875 -14.0625 \nQ 9.671875 -20.015625 -1.421875 -20.015625 \nL -5.171875 -20.015625 \nL -5.171875 -11.71875 \nL -2.09375 -11.71875 \nQ 4.4375 -11.71875 7.125 -8.046875 \nQ 9.8125 -4.390625 9.8125 5.078125 \nz\n\" id=\"DejaVuSans-74\"/>\n      <path d=\"M 8.5 21.578125 \nL 8.5 54.6875 \nL 17.484375 54.6875 \nL 17.484375 21.921875 \nQ 17.484375 14.15625 20.5 10.265625 \nQ 23.53125 6.390625 29.59375 6.390625 \nQ 36.859375 6.390625 41.078125 11.03125 \nQ 45.3125 15.671875 45.3125 23.6875 \nL 45.3125 54.6875 \nL 54.296875 54.6875 \nL 54.296875 0 \nL 45.3125 0 \nL 45.3125 8.40625 \nQ 42.046875 3.421875 37.71875 1 \nQ 33.40625 -1.421875 27.6875 -1.421875 \nQ 18.265625 -1.421875 13.375 4.4375 \nQ 8.5 10.296875 8.5 21.578125 \nz\nM 31.109375 56 \nz\n\" id=\"DejaVuSans-117\"/>\n      <path d=\"M 54.890625 33.015625 \nL 54.890625 0 \nL 45.90625 0 \nL 45.90625 32.71875 \nQ 45.90625 40.484375 42.875 44.328125 \nQ 39.84375 48.1875 33.796875 48.1875 \nQ 26.515625 48.1875 22.3125 43.546875 \nQ 18.109375 38.921875 18.109375 30.90625 \nL 18.109375 0 \nL 9.078125 0 \nL 9.078125 75.984375 \nL 18.109375 75.984375 \nL 18.109375 46.1875 \nQ 21.34375 51.125 25.703125 53.5625 \nQ 30.078125 56 35.796875 56 \nQ 45.21875 56 50.046875 50.171875 \nQ 54.890625 44.34375 54.890625 33.015625 \nz\n\" id=\"DejaVuSans-104\"/>\n     </defs>\n     <g style=\"fill:#262626;\" transform=\"translate(703.820625 260.32125)rotate(-90)scale(0.12 -0.12)\">\n      <use xlink:href=\"#DejaVuSans-74\"/>\n      <use x=\"29.492188\" xlink:href=\"#DejaVuSans-117\"/>\n      <use x=\"92.871094\" xlink:href=\"#DejaVuSans-109\"/>\n      <use x=\"190.283203\" xlink:href=\"#DejaVuSans-108\"/>\n      <use x=\"218.066406\" xlink:href=\"#DejaVuSans-97\"/>\n      <use x=\"279.345703\" xlink:href=\"#DejaVuSans-104\"/>\n     </g>\n    </g>\n   </g>\n   <g id=\"patch_3\">\n    <path clip-path=\"url(#p081134e5e8)\" d=\"M 72.84 457.198125 \nL 229.08 457.198125 \nL 229.08 198.689183 \nL 72.84 198.689183 \nz\n\" style=\"fill:#5875a4;stroke:#ffffff;stroke-linejoin:miter;\"/>\n   </g>\n   <g id=\"patch_4\">\n    <path clip-path=\"url(#p081134e5e8)\" d=\"M 268.14 457.198125 \nL 424.38 457.198125 \nL 424.38 327.289345 \nL 268.14 327.289345 \nz\n\" style=\"fill:#cc8963;stroke:#ffffff;stroke-linejoin:miter;\"/>\n   </g>\n   <g id=\"patch_5\">\n    <path clip-path=\"url(#p081134e5e8)\" d=\"M 463.44 457.198125 \nL 619.68 457.198125 \nL 619.68 410.735847 \nL 463.44 410.735847 \nz\n\" style=\"fill:#5f9e6e;stroke:#ffffff;stroke-linejoin:miter;\"/>\n   </g>\n   <g id=\"patch_6\">\n    <path d=\"M 53.31 457.198125 \nL 53.31 22.318125 \n\" style=\"fill:none;stroke:#ffffff;stroke-linecap:square;stroke-linejoin:miter;stroke-width:1.25;\"/>\n   </g>\n   <g id=\"patch_7\">\n    <path d=\"M 639.21 457.198125 \nL 639.21 22.318125 \n\" style=\"fill:none;stroke:#ffffff;stroke-linecap:square;stroke-linejoin:miter;stroke-width:1.25;\"/>\n   </g>\n   <g id=\"patch_8\">\n    <path d=\"M 53.31 457.198125 \nL 639.21 457.198125 \n\" style=\"fill:none;stroke:#ffffff;stroke-linecap:square;stroke-linejoin:miter;stroke-width:1.25;\"/>\n   </g>\n   <g id=\"patch_9\">\n    <path d=\"M 53.31 22.318125 \nL 639.21 22.318125 \n\" style=\"fill:none;stroke:#ffffff;stroke-linecap:square;stroke-linejoin:miter;stroke-width:1.25;\"/>\n   </g>\n   <g id=\"text_17\">\n    <!-- 59.4% -->\n    <defs>\n     <path d=\"M 10.6875 12.40625 \nL 21 12.40625 \nL 21 0 \nL 10.6875 0 \nz\n\" id=\"DejaVuSans-46\"/>\n     <path d=\"M 72.703125 32.078125 \nQ 68.453125 32.078125 66.03125 28.46875 \nQ 63.625 24.859375 63.625 18.40625 \nQ 63.625 12.0625 66.03125 8.421875 \nQ 68.453125 4.78125 72.703125 4.78125 \nQ 76.859375 4.78125 79.265625 8.421875 \nQ 81.6875 12.0625 81.6875 18.40625 \nQ 81.6875 24.8125 79.265625 28.4375 \nQ 76.859375 32.078125 72.703125 32.078125 \nz\nM 72.703125 38.28125 \nQ 80.421875 38.28125 84.953125 32.90625 \nQ 89.5 27.546875 89.5 18.40625 \nQ 89.5 9.28125 84.9375 3.921875 \nQ 80.375 -1.421875 72.703125 -1.421875 \nQ 64.890625 -1.421875 60.34375 3.921875 \nQ 55.8125 9.28125 55.8125 18.40625 \nQ 55.8125 27.59375 60.375 32.9375 \nQ 64.9375 38.28125 72.703125 38.28125 \nz\nM 22.3125 68.015625 \nQ 18.109375 68.015625 15.6875 64.375 \nQ 13.28125 60.75 13.28125 54.390625 \nQ 13.28125 47.953125 15.671875 44.328125 \nQ 18.0625 40.71875 22.3125 40.71875 \nQ 26.5625 40.71875 28.96875 44.328125 \nQ 31.390625 47.953125 31.390625 54.390625 \nQ 31.390625 60.6875 28.953125 64.34375 \nQ 26.515625 68.015625 22.3125 68.015625 \nz\nM 66.40625 74.21875 \nL 74.21875 74.21875 \nL 28.609375 -1.421875 \nL 20.796875 -1.421875 \nz\nM 22.3125 74.21875 \nQ 30.03125 74.21875 34.609375 68.875 \nQ 39.203125 63.53125 39.203125 54.390625 \nQ 39.203125 45.171875 34.640625 39.84375 \nQ 30.078125 34.515625 22.3125 34.515625 \nQ 14.546875 34.515625 10.03125 39.859375 \nQ 5.515625 45.21875 5.515625 54.390625 \nQ 5.515625 63.484375 10.046875 68.84375 \nQ 14.59375 74.21875 22.3125 74.21875 \nz\n\" id=\"DejaVuSans-37\"/>\n    </defs>\n    <g style=\"fill:#262626;\" transform=\"translate(135.076406 196.609496)scale(0.1 -0.1)\">\n     <use xlink:href=\"#DejaVuSans-53\"/>\n     <use x=\"63.623047\" xlink:href=\"#DejaVuSans-57\"/>\n     <use x=\"127.246094\" xlink:href=\"#DejaVuSans-46\"/>\n     <use x=\"159.033203\" xlink:href=\"#DejaVuSans-52\"/>\n     <use x=\"222.65625\" xlink:href=\"#DejaVuSans-37\"/>\n    </g>\n   </g>\n   <g id=\"text_18\">\n    <!-- 29.9% -->\n    <g style=\"fill:#262626;\" transform=\"translate(330.376406 325.209657)scale(0.1 -0.1)\">\n     <use xlink:href=\"#DejaVuSans-50\"/>\n     <use x=\"63.623047\" xlink:href=\"#DejaVuSans-57\"/>\n     <use x=\"127.246094\" xlink:href=\"#DejaVuSans-46\"/>\n     <use x=\"159.033203\" xlink:href=\"#DejaVuSans-57\"/>\n     <use x=\"222.65625\" xlink:href=\"#DejaVuSans-37\"/>\n    </g>\n   </g>\n   <g id=\"text_19\">\n    <!-- 10.7% -->\n    <g style=\"fill:#262626;\" transform=\"translate(525.676406 408.65616)scale(0.1 -0.1)\">\n     <use xlink:href=\"#DejaVuSans-49\"/>\n     <use x=\"63.623047\" xlink:href=\"#DejaVuSans-48\"/>\n     <use x=\"127.246094\" xlink:href=\"#DejaVuSans-46\"/>\n     <use x=\"159.033203\" xlink:href=\"#DejaVuSans-55\"/>\n     <use x=\"222.65625\" xlink:href=\"#DejaVuSans-37\"/>\n    </g>\n   </g>\n   <g id=\"text_20\">\n    <!-- Distribusi Frekuensi Entitas Bernama Selain 'O' -->\n    <defs>\n     <path d=\"M 19.671875 64.796875 \nL 19.671875 8.109375 \nL 31.59375 8.109375 \nQ 46.6875 8.109375 53.6875 14.9375 \nQ 60.6875 21.78125 60.6875 36.53125 \nQ 60.6875 51.171875 53.6875 57.984375 \nQ 46.6875 64.796875 31.59375 64.796875 \nz\nM 9.8125 72.90625 \nL 30.078125 72.90625 \nQ 51.265625 72.90625 61.171875 64.09375 \nQ 71.09375 55.28125 71.09375 36.53125 \nQ 71.09375 17.671875 61.125 8.828125 \nQ 51.171875 0 30.078125 0 \nL 9.8125 0 \nz\n\" id=\"DejaVuSans-68\"/>\n     <path d=\"M 48.6875 27.296875 \nQ 48.6875 37.203125 44.609375 42.84375 \nQ 40.53125 48.484375 33.40625 48.484375 \nQ 26.265625 48.484375 22.1875 42.84375 \nQ 18.109375 37.203125 18.109375 27.296875 \nQ 18.109375 17.390625 22.1875 11.75 \nQ 26.265625 6.109375 33.40625 6.109375 \nQ 40.53125 6.109375 44.609375 11.75 \nQ 48.6875 17.390625 48.6875 27.296875 \nz\nM 18.109375 46.390625 \nQ 20.953125 51.265625 25.265625 53.625 \nQ 29.59375 56 35.59375 56 \nQ 45.5625 56 51.78125 48.09375 \nQ 58.015625 40.1875 58.015625 27.296875 \nQ 58.015625 14.40625 51.78125 6.484375 \nQ 45.5625 -1.421875 35.59375 -1.421875 \nQ 29.59375 -1.421875 25.265625 0.953125 \nQ 20.953125 3.328125 18.109375 8.203125 \nL 18.109375 0 \nL 9.078125 0 \nL 9.078125 75.984375 \nL 18.109375 75.984375 \nz\n\" id=\"DejaVuSans-98\"/>\n     <path d=\"M 9.8125 72.90625 \nL 51.703125 72.90625 \nL 51.703125 64.59375 \nL 19.671875 64.59375 \nL 19.671875 43.109375 \nL 48.578125 43.109375 \nL 48.578125 34.8125 \nL 19.671875 34.8125 \nL 19.671875 0 \nL 9.8125 0 \nz\n\" id=\"DejaVuSans-70\"/>\n     <path d=\"M 9.078125 75.984375 \nL 18.109375 75.984375 \nL 18.109375 31.109375 \nL 44.921875 54.6875 \nL 56.390625 54.6875 \nL 27.390625 29.109375 \nL 57.625 0 \nL 45.90625 0 \nL 18.109375 26.703125 \nL 18.109375 0 \nL 9.078125 0 \nz\n\" id=\"DejaVuSans-107\"/>\n     <path d=\"M 53.515625 70.515625 \nL 53.515625 60.890625 \nQ 47.90625 63.578125 42.921875 64.890625 \nQ 37.9375 66.21875 33.296875 66.21875 \nQ 25.25 66.21875 20.875 63.09375 \nQ 16.5 59.96875 16.5 54.203125 \nQ 16.5 49.359375 19.40625 46.890625 \nQ 22.3125 44.4375 30.421875 42.921875 \nL 36.375 41.703125 \nQ 47.40625 39.59375 52.65625 34.296875 \nQ 57.90625 29 57.90625 20.125 \nQ 57.90625 9.515625 50.796875 4.046875 \nQ 43.703125 -1.421875 29.984375 -1.421875 \nQ 24.8125 -1.421875 18.96875 -0.25 \nQ 13.140625 0.921875 6.890625 3.21875 \nL 6.890625 13.375 \nQ 12.890625 10.015625 18.65625 8.296875 \nQ 24.421875 6.59375 29.984375 6.59375 \nQ 38.421875 6.59375 43.015625 9.90625 \nQ 47.609375 13.234375 47.609375 19.390625 \nQ 47.609375 24.75 44.3125 27.78125 \nQ 41.015625 30.8125 33.5 32.328125 \nL 27.484375 33.5 \nQ 16.453125 35.6875 11.515625 40.375 \nQ 6.59375 45.0625 6.59375 53.421875 \nQ 6.59375 63.09375 13.40625 68.65625 \nQ 20.21875 74.21875 32.171875 74.21875 \nQ 37.3125 74.21875 42.625 73.28125 \nQ 47.953125 72.359375 53.515625 70.515625 \nz\n\" id=\"DejaVuSans-83\"/>\n     <path d=\"M 17.921875 72.90625 \nL 17.921875 45.796875 \nL 9.625 45.796875 \nL 9.625 72.90625 \nz\n\" id=\"DejaVuSans-39\"/>\n    </defs>\n    <g style=\"fill:#262626;\" transform=\"translate(205.734375 16.318125)scale(0.12 -0.12)\">\n     <use xlink:href=\"#DejaVuSans-68\"/>\n     <use x=\"77.001953\" xlink:href=\"#DejaVuSans-105\"/>\n     <use x=\"104.785156\" xlink:href=\"#DejaVuSans-115\"/>\n     <use x=\"156.884766\" xlink:href=\"#DejaVuSans-116\"/>\n     <use x=\"196.09375\" xlink:href=\"#DejaVuSans-114\"/>\n     <use x=\"237.207031\" xlink:href=\"#DejaVuSans-105\"/>\n     <use x=\"264.990234\" xlink:href=\"#DejaVuSans-98\"/>\n     <use x=\"328.466797\" xlink:href=\"#DejaVuSans-117\"/>\n     <use x=\"391.845703\" xlink:href=\"#DejaVuSans-115\"/>\n     <use x=\"443.945312\" xlink:href=\"#DejaVuSans-105\"/>\n     <use x=\"471.728516\" xlink:href=\"#DejaVuSans-32\"/>\n     <use x=\"503.515625\" xlink:href=\"#DejaVuSans-70\"/>\n     <use x=\"553.785156\" xlink:href=\"#DejaVuSans-114\"/>\n     <use x=\"592.648438\" xlink:href=\"#DejaVuSans-101\"/>\n     <use x=\"654.171875\" xlink:href=\"#DejaVuSans-107\"/>\n     <use x=\"708.957031\" xlink:href=\"#DejaVuSans-117\"/>\n     <use x=\"772.335938\" xlink:href=\"#DejaVuSans-101\"/>\n     <use x=\"833.859375\" xlink:href=\"#DejaVuSans-110\"/>\n     <use x=\"897.238281\" xlink:href=\"#DejaVuSans-115\"/>\n     <use x=\"949.337891\" xlink:href=\"#DejaVuSans-105\"/>\n     <use x=\"977.121094\" xlink:href=\"#DejaVuSans-32\"/>\n     <use x=\"1008.908203\" xlink:href=\"#DejaVuSans-69\"/>\n     <use x=\"1072.091797\" xlink:href=\"#DejaVuSans-110\"/>\n     <use x=\"1135.470703\" xlink:href=\"#DejaVuSans-116\"/>\n     <use x=\"1174.679688\" xlink:href=\"#DejaVuSans-105\"/>\n     <use x=\"1202.462891\" xlink:href=\"#DejaVuSans-116\"/>\n     <use x=\"1241.671875\" xlink:href=\"#DejaVuSans-97\"/>\n     <use x=\"1302.951172\" xlink:href=\"#DejaVuSans-115\"/>\n     <use x=\"1355.050781\" xlink:href=\"#DejaVuSans-32\"/>\n     <use x=\"1386.837891\" xlink:href=\"#DejaVuSans-66\"/>\n     <use x=\"1455.441406\" xlink:href=\"#DejaVuSans-101\"/>\n     <use x=\"1516.964844\" xlink:href=\"#DejaVuSans-114\"/>\n     <use x=\"1556.328125\" xlink:href=\"#DejaVuSans-110\"/>\n     <use x=\"1619.707031\" xlink:href=\"#DejaVuSans-97\"/>\n     <use x=\"1680.986328\" xlink:href=\"#DejaVuSans-109\"/>\n     <use x=\"1778.398438\" xlink:href=\"#DejaVuSans-97\"/>\n     <use x=\"1839.677734\" xlink:href=\"#DejaVuSans-32\"/>\n     <use x=\"1871.464844\" xlink:href=\"#DejaVuSans-83\"/>\n     <use x=\"1934.941406\" xlink:href=\"#DejaVuSans-101\"/>\n     <use x=\"1996.464844\" xlink:href=\"#DejaVuSans-108\"/>\n     <use x=\"2024.248047\" xlink:href=\"#DejaVuSans-97\"/>\n     <use x=\"2085.527344\" xlink:href=\"#DejaVuSans-105\"/>\n     <use x=\"2113.310547\" xlink:href=\"#DejaVuSans-110\"/>\n     <use x=\"2176.689453\" xlink:href=\"#DejaVuSans-32\"/>\n     <use x=\"2208.476562\" xlink:href=\"#DejaVuSans-39\"/>\n     <use x=\"2235.966797\" xlink:href=\"#DejaVuSans-79\"/>\n     <use x=\"2314.677734\" xlink:href=\"#DejaVuSans-39\"/>\n    </g>\n   </g>\n  </g>\n  <g id=\"axes_2\">\n   <g id=\"matplotlib.axis_3\">\n    <g id=\"ytick_12\">\n     <g id=\"line2d_23\">\n      <defs>\n       <path d=\"M 0 0 \nL -6 0 \n\" id=\"m883f47f118\" style=\"stroke:#262626;stroke-width:1.25;\"/>\n      </defs>\n      <g>\n       <use style=\"fill:#262626;stroke:#262626;stroke-width:1.25;\" x=\"53.31\" xlink:href=\"#m883f47f118\" y=\"457.198125\"/>\n      </g>\n     </g>\n     <g id=\"text_21\">\n      <!-- 0 -->\n      <g style=\"fill:#262626;\" transform=\"translate(36.81125 461.377266)scale(0.11 -0.11)\">\n       <use xlink:href=\"#DejaVuSans-48\"/>\n      </g>\n     </g>\n    </g>\n    <g id=\"ytick_13\">\n     <g id=\"line2d_24\">\n      <g>\n       <use style=\"fill:#262626;stroke:#262626;stroke-width:1.25;\" x=\"53.31\" xlink:href=\"#m883f47f118\" y=\"413.710125\"/>\n      </g>\n     </g>\n     <g id=\"text_22\">\n      <!-- 10 -->\n      <g style=\"fill:#262626;\" transform=\"translate(29.8125 417.889266)scale(0.11 -0.11)\">\n       <use xlink:href=\"#DejaVuSans-49\"/>\n       <use x=\"63.623047\" xlink:href=\"#DejaVuSans-48\"/>\n      </g>\n     </g>\n    </g>\n    <g id=\"ytick_14\">\n     <g id=\"line2d_25\">\n      <g>\n       <use style=\"fill:#262626;stroke:#262626;stroke-width:1.25;\" x=\"53.31\" xlink:href=\"#m883f47f118\" y=\"370.222125\"/>\n      </g>\n     </g>\n     <g id=\"text_23\">\n      <!-- 20 -->\n      <g style=\"fill:#262626;\" transform=\"translate(29.8125 374.401266)scale(0.11 -0.11)\">\n       <use xlink:href=\"#DejaVuSans-50\"/>\n       <use x=\"63.623047\" xlink:href=\"#DejaVuSans-48\"/>\n      </g>\n     </g>\n    </g>\n    <g id=\"ytick_15\">\n     <g id=\"line2d_26\">\n      <g>\n       <use style=\"fill:#262626;stroke:#262626;stroke-width:1.25;\" x=\"53.31\" xlink:href=\"#m883f47f118\" y=\"326.734125\"/>\n      </g>\n     </g>\n     <g id=\"text_24\">\n      <!-- 30 -->\n      <g style=\"fill:#262626;\" transform=\"translate(29.8125 330.913266)scale(0.11 -0.11)\">\n       <use xlink:href=\"#DejaVuSans-51\"/>\n       <use x=\"63.623047\" xlink:href=\"#DejaVuSans-48\"/>\n      </g>\n     </g>\n    </g>\n    <g id=\"ytick_16\">\n     <g id=\"line2d_27\">\n      <g>\n       <use style=\"fill:#262626;stroke:#262626;stroke-width:1.25;\" x=\"53.31\" xlink:href=\"#m883f47f118\" y=\"283.246125\"/>\n      </g>\n     </g>\n     <g id=\"text_25\">\n      <!-- 40 -->\n      <g style=\"fill:#262626;\" transform=\"translate(29.8125 287.425266)scale(0.11 -0.11)\">\n       <use xlink:href=\"#DejaVuSans-52\"/>\n       <use x=\"63.623047\" xlink:href=\"#DejaVuSans-48\"/>\n      </g>\n     </g>\n    </g>\n    <g id=\"ytick_17\">\n     <g id=\"line2d_28\">\n      <g>\n       <use style=\"fill:#262626;stroke:#262626;stroke-width:1.25;\" x=\"53.31\" xlink:href=\"#m883f47f118\" y=\"239.758125\"/>\n      </g>\n     </g>\n     <g id=\"text_26\">\n      <!-- 50 -->\n      <g style=\"fill:#262626;\" transform=\"translate(29.8125 243.937266)scale(0.11 -0.11)\">\n       <use xlink:href=\"#DejaVuSans-53\"/>\n       <use x=\"63.623047\" xlink:href=\"#DejaVuSans-48\"/>\n      </g>\n     </g>\n    </g>\n    <g id=\"ytick_18\">\n     <g id=\"line2d_29\">\n      <g>\n       <use style=\"fill:#262626;stroke:#262626;stroke-width:1.25;\" x=\"53.31\" xlink:href=\"#m883f47f118\" y=\"196.270125\"/>\n      </g>\n     </g>\n     <g id=\"text_27\">\n      <!-- 60 -->\n      <g style=\"fill:#262626;\" transform=\"translate(29.8125 200.449266)scale(0.11 -0.11)\">\n       <use xlink:href=\"#DejaVuSans-54\"/>\n       <use x=\"63.623047\" xlink:href=\"#DejaVuSans-48\"/>\n      </g>\n     </g>\n    </g>\n    <g id=\"ytick_19\">\n     <g id=\"line2d_30\">\n      <g>\n       <use style=\"fill:#262626;stroke:#262626;stroke-width:1.25;\" x=\"53.31\" xlink:href=\"#m883f47f118\" y=\"152.782125\"/>\n      </g>\n     </g>\n     <g id=\"text_28\">\n      <!-- 70 -->\n      <g style=\"fill:#262626;\" transform=\"translate(29.8125 156.961266)scale(0.11 -0.11)\">\n       <use xlink:href=\"#DejaVuSans-55\"/>\n       <use x=\"63.623047\" xlink:href=\"#DejaVuSans-48\"/>\n      </g>\n     </g>\n    </g>\n    <g id=\"ytick_20\">\n     <g id=\"line2d_31\">\n      <g>\n       <use style=\"fill:#262626;stroke:#262626;stroke-width:1.25;\" x=\"53.31\" xlink:href=\"#m883f47f118\" y=\"109.294125\"/>\n      </g>\n     </g>\n     <g id=\"text_29\">\n      <!-- 80 -->\n      <g style=\"fill:#262626;\" transform=\"translate(29.8125 113.473266)scale(0.11 -0.11)\">\n       <use xlink:href=\"#DejaVuSans-56\"/>\n       <use x=\"63.623047\" xlink:href=\"#DejaVuSans-48\"/>\n      </g>\n     </g>\n    </g>\n    <g id=\"ytick_21\">\n     <g id=\"line2d_32\">\n      <g>\n       <use style=\"fill:#262626;stroke:#262626;stroke-width:1.25;\" x=\"53.31\" xlink:href=\"#m883f47f118\" y=\"65.806125\"/>\n      </g>\n     </g>\n     <g id=\"text_30\">\n      <!-- 90 -->\n      <g style=\"fill:#262626;\" transform=\"translate(29.8125 69.985266)scale(0.11 -0.11)\">\n       <use xlink:href=\"#DejaVuSans-57\"/>\n       <use x=\"63.623047\" xlink:href=\"#DejaVuSans-48\"/>\n      </g>\n     </g>\n    </g>\n    <g id=\"ytick_22\">\n     <g id=\"line2d_33\">\n      <g>\n       <use style=\"fill:#262626;stroke:#262626;stroke-width:1.25;\" x=\"53.31\" xlink:href=\"#m883f47f118\" y=\"22.318125\"/>\n      </g>\n     </g>\n     <g id=\"text_31\">\n      <!-- 100 -->\n      <g style=\"fill:#262626;\" transform=\"translate(22.81375 26.497266)scale(0.11 -0.11)\">\n       <use xlink:href=\"#DejaVuSans-49\"/>\n       <use x=\"63.623047\" xlink:href=\"#DejaVuSans-48\"/>\n       <use x=\"127.246094\" xlink:href=\"#DejaVuSans-48\"/>\n      </g>\n     </g>\n    </g>\n    <g id=\"text_32\">\n     <!-- Frekuensi [%] -->\n     <defs>\n      <path d=\"M 8.59375 75.984375 \nL 29.296875 75.984375 \nL 29.296875 69 \nL 17.578125 69 \nL 17.578125 -6.203125 \nL 29.296875 -6.203125 \nL 29.296875 -13.1875 \nL 8.59375 -13.1875 \nz\n\" id=\"DejaVuSans-91\"/>\n      <path d=\"M 30.421875 75.984375 \nL 30.421875 -13.1875 \nL 9.71875 -13.1875 \nL 9.71875 -6.203125 \nL 21.390625 -6.203125 \nL 21.390625 69 \nL 9.71875 69 \nL 9.71875 75.984375 \nz\n\" id=\"DejaVuSans-93\"/>\n     </defs>\n     <g style=\"fill:#262626;\" transform=\"translate(16.318125 280.463437)rotate(-90)scale(0.12 -0.12)\">\n      <use xlink:href=\"#DejaVuSans-70\"/>\n      <use x=\"50.269531\" xlink:href=\"#DejaVuSans-114\"/>\n      <use x=\"89.132812\" xlink:href=\"#DejaVuSans-101\"/>\n      <use x=\"150.65625\" xlink:href=\"#DejaVuSans-107\"/>\n      <use x=\"205.441406\" xlink:href=\"#DejaVuSans-117\"/>\n      <use x=\"268.820312\" xlink:href=\"#DejaVuSans-101\"/>\n      <use x=\"330.34375\" xlink:href=\"#DejaVuSans-110\"/>\n      <use x=\"393.722656\" xlink:href=\"#DejaVuSans-115\"/>\n      <use x=\"445.822266\" xlink:href=\"#DejaVuSans-105\"/>\n      <use x=\"473.605469\" xlink:href=\"#DejaVuSans-32\"/>\n      <use x=\"505.392578\" xlink:href=\"#DejaVuSans-91\"/>\n      <use x=\"544.40625\" xlink:href=\"#DejaVuSans-37\"/>\n      <use x=\"639.425781\" xlink:href=\"#DejaVuSans-93\"/>\n     </g>\n    </g>\n   </g>\n   <g id=\"patch_10\">\n    <path d=\"M 53.31 457.198125 \nL 53.31 22.318125 \n\" style=\"fill:none;stroke:#ffffff;stroke-linecap:square;stroke-linejoin:miter;stroke-width:1.25;\"/>\n   </g>\n   <g id=\"patch_11\">\n    <path d=\"M 639.21 457.198125 \nL 639.21 22.318125 \n\" style=\"fill:none;stroke:#ffffff;stroke-linecap:square;stroke-linejoin:miter;stroke-width:1.25;\"/>\n   </g>\n   <g id=\"patch_12\">\n    <path d=\"M 53.31 457.198125 \nL 639.21 457.198125 \n\" style=\"fill:none;stroke:#ffffff;stroke-linecap:square;stroke-linejoin:miter;stroke-width:1.25;\"/>\n   </g>\n   <g id=\"patch_13\">\n    <path d=\"M 53.31 22.318125 \nL 639.21 22.318125 \n\" style=\"fill:none;stroke:#ffffff;stroke-linecap:square;stroke-linejoin:miter;stroke-width:1.25;\"/>\n   </g>\n  </g>\n </g>\n <defs>\n  <clipPath id=\"p081134e5e8\">\n   <rect height=\"434.88\" width=\"585.9\" x=\"53.31\" y=\"22.318125\"/>\n  </clipPath>\n </defs>\n</svg>\n"
          },
          "metadata": {
            "needs_background": "light"
          }
        }
      ]
    },
    {
      "cell_type": "code",
      "metadata": {
        "colab": {
          "base_uri": "https://localhost:8080/"
        },
        "id": "KMTVDEOVTAox",
        "outputId": "c1183ece-4c15-48c8-bed4-69c6e1fb37ba"
      },
      "source": [
        "# Menampilkan 20 token pertama yang paling banyak muncul \n",
        "dataset['token'].value_counts()[:20]"
      ],
      "execution_count": 27,
      "outputs": [
        {
          "output_type": "execute_result",
          "data": {
            "text/plain": [
              ",          88144\n",
              ".          49109\n",
              "dan        37283\n",
              "di         33701\n",
              "yang       29353\n",
              "-LRB-      19843\n",
              "-RRB-      19736\n",
              "''         15906\n",
              "``         15232\n",
              "dengan     15231\n",
              "pada       15021\n",
              "dari       14900\n",
              "tahun      13079\n",
              "sebagai     9038\n",
              "ini         8371\n",
              "untuk       8297\n",
              "dalam       8266\n",
              "adalah      7950\n",
              "menjadi     7414\n",
              "oleh        5974\n",
              "Name: token, dtype: int64"
            ]
          },
          "metadata": {},
          "execution_count": 27
        }
      ]
    },
    {
      "cell_type": "code",
      "metadata": {
        "colab": {
          "base_uri": "https://localhost:8080/",
          "height": 376
        },
        "id": "-MhVoFaSTChl",
        "outputId": "f766171c-1aae-468f-9c7f-18975fbce566"
      },
      "source": [
        "# Melakukan visualisasi terhadap data 20 token yang paling banyak muncul\n",
        "dataset['token'].value_counts()[:20].plot(kind='barh')"
      ],
      "execution_count": 28,
      "outputs": [
        {
          "output_type": "execute_result",
          "data": {
            "text/plain": [
              "<matplotlib.axes._subplots.AxesSubplot at 0x7f3ce4458f50>"
            ]
          },
          "metadata": {},
          "execution_count": 28
        },
        {
          "output_type": "display_data",
          "data": {
            "text/plain": [
              "<Figure size 432x288 with 1 Axes>"
            ],
            "image/svg+xml": "<?xml version=\"1.0\" encoding=\"utf-8\" standalone=\"no\"?>\n<!DOCTYPE svg PUBLIC \"-//W3C//DTD SVG 1.1//EN\"\n  \"http://www.w3.org/Graphics/SVG/1.1/DTD/svg11.dtd\">\n<!-- Created with matplotlib (https://matplotlib.org/) -->\n<svg height=\"251.985937pt\" version=\"1.1\" viewBox=\"0 0 402.990469 251.985937\" width=\"402.990469pt\" xmlns=\"http://www.w3.org/2000/svg\" xmlns:xlink=\"http://www.w3.org/1999/xlink\">\n <defs>\n  <style type=\"text/css\">\n*{stroke-linecap:butt;stroke-linejoin:round;}\n  </style>\n </defs>\n <g id=\"figure_1\">\n  <g id=\"patch_1\">\n   <path d=\"M 0 251.985937 \nL 402.990469 251.985937 \nL 402.990469 0 \nL 0 0 \nz\n\" style=\"fill:none;\"/>\n  </g>\n  <g id=\"axes_1\">\n   <g id=\"patch_2\">\n    <path d=\"M 60.990469 224.64 \nL 395.790469 224.64 \nL 395.790469 7.2 \nL 60.990469 7.2 \nz\n\" style=\"fill:#eaeaf2;\"/>\n   </g>\n   <g id=\"matplotlib.axis_1\">\n    <g id=\"xtick_1\">\n     <g id=\"line2d_1\">\n      <path clip-path=\"url(#p33ed169798)\" d=\"M 60.990469 224.64 \nL 60.990469 7.2 \n\" style=\"fill:none;stroke:#ffffff;stroke-linecap:round;\"/>\n     </g>\n     <g id=\"text_1\">\n      <!-- 0 -->\n      <defs>\n       <path d=\"M 31.78125 66.40625 \nQ 24.171875 66.40625 20.328125 58.90625 \nQ 16.5 51.421875 16.5 36.375 \nQ 16.5 21.390625 20.328125 13.890625 \nQ 24.171875 6.390625 31.78125 6.390625 \nQ 39.453125 6.390625 43.28125 13.890625 \nQ 47.125 21.390625 47.125 36.375 \nQ 47.125 51.421875 43.28125 58.90625 \nQ 39.453125 66.40625 31.78125 66.40625 \nz\nM 31.78125 74.21875 \nQ 44.046875 74.21875 50.515625 64.515625 \nQ 56.984375 54.828125 56.984375 36.375 \nQ 56.984375 17.96875 50.515625 8.265625 \nQ 44.046875 -1.421875 31.78125 -1.421875 \nQ 19.53125 -1.421875 13.0625 8.265625 \nQ 6.59375 17.96875 6.59375 36.375 \nQ 6.59375 54.828125 13.0625 64.515625 \nQ 19.53125 74.21875 31.78125 74.21875 \nz\n\" id=\"DejaVuSans-48\"/>\n      </defs>\n      <g style=\"fill:#262626;\" transform=\"translate(57.491094 242.498281)scale(0.11 -0.11)\">\n       <use xlink:href=\"#DejaVuSans-48\"/>\n      </g>\n     </g>\n    </g>\n    <g id=\"xtick_2\">\n     <g id=\"line2d_2\">\n      <path clip-path=\"url(#p33ed169798)\" d=\"M 133.339612 224.64 \nL 133.339612 7.2 \n\" style=\"fill:none;stroke:#ffffff;stroke-linecap:round;\"/>\n     </g>\n     <g id=\"text_2\">\n      <!-- 20000 -->\n      <defs>\n       <path d=\"M 19.1875 8.296875 \nL 53.609375 8.296875 \nL 53.609375 0 \nL 7.328125 0 \nL 7.328125 8.296875 \nQ 12.9375 14.109375 22.625 23.890625 \nQ 32.328125 33.6875 34.8125 36.53125 \nQ 39.546875 41.84375 41.421875 45.53125 \nQ 43.3125 49.21875 43.3125 52.78125 \nQ 43.3125 58.59375 39.234375 62.25 \nQ 35.15625 65.921875 28.609375 65.921875 \nQ 23.96875 65.921875 18.8125 64.3125 \nQ 13.671875 62.703125 7.8125 59.421875 \nL 7.8125 69.390625 \nQ 13.765625 71.78125 18.9375 73 \nQ 24.125 74.21875 28.421875 74.21875 \nQ 39.75 74.21875 46.484375 68.546875 \nQ 53.21875 62.890625 53.21875 53.421875 \nQ 53.21875 48.921875 51.53125 44.890625 \nQ 49.859375 40.875 45.40625 35.40625 \nQ 44.1875 33.984375 37.640625 27.21875 \nQ 31.109375 20.453125 19.1875 8.296875 \nz\n\" id=\"DejaVuSans-50\"/>\n      </defs>\n      <g style=\"fill:#262626;\" transform=\"translate(115.842737 242.498281)scale(0.11 -0.11)\">\n       <use xlink:href=\"#DejaVuSans-50\"/>\n       <use x=\"63.623047\" xlink:href=\"#DejaVuSans-48\"/>\n       <use x=\"127.246094\" xlink:href=\"#DejaVuSans-48\"/>\n       <use x=\"190.869141\" xlink:href=\"#DejaVuSans-48\"/>\n       <use x=\"254.492188\" xlink:href=\"#DejaVuSans-48\"/>\n      </g>\n     </g>\n    </g>\n    <g id=\"xtick_3\">\n     <g id=\"line2d_3\">\n      <path clip-path=\"url(#p33ed169798)\" d=\"M 205.688755 224.64 \nL 205.688755 7.2 \n\" style=\"fill:none;stroke:#ffffff;stroke-linecap:round;\"/>\n     </g>\n     <g id=\"text_3\">\n      <!-- 40000 -->\n      <defs>\n       <path d=\"M 37.796875 64.3125 \nL 12.890625 25.390625 \nL 37.796875 25.390625 \nz\nM 35.203125 72.90625 \nL 47.609375 72.90625 \nL 47.609375 25.390625 \nL 58.015625 25.390625 \nL 58.015625 17.1875 \nL 47.609375 17.1875 \nL 47.609375 0 \nL 37.796875 0 \nL 37.796875 17.1875 \nL 4.890625 17.1875 \nL 4.890625 26.703125 \nz\n\" id=\"DejaVuSans-52\"/>\n      </defs>\n      <g style=\"fill:#262626;\" transform=\"translate(188.19188 242.498281)scale(0.11 -0.11)\">\n       <use xlink:href=\"#DejaVuSans-52\"/>\n       <use x=\"63.623047\" xlink:href=\"#DejaVuSans-48\"/>\n       <use x=\"127.246094\" xlink:href=\"#DejaVuSans-48\"/>\n       <use x=\"190.869141\" xlink:href=\"#DejaVuSans-48\"/>\n       <use x=\"254.492188\" xlink:href=\"#DejaVuSans-48\"/>\n      </g>\n     </g>\n    </g>\n    <g id=\"xtick_4\">\n     <g id=\"line2d_4\">\n      <path clip-path=\"url(#p33ed169798)\" d=\"M 278.037898 224.64 \nL 278.037898 7.2 \n\" style=\"fill:none;stroke:#ffffff;stroke-linecap:round;\"/>\n     </g>\n     <g id=\"text_4\">\n      <!-- 60000 -->\n      <defs>\n       <path d=\"M 33.015625 40.375 \nQ 26.375 40.375 22.484375 35.828125 \nQ 18.609375 31.296875 18.609375 23.390625 \nQ 18.609375 15.53125 22.484375 10.953125 \nQ 26.375 6.390625 33.015625 6.390625 \nQ 39.65625 6.390625 43.53125 10.953125 \nQ 47.40625 15.53125 47.40625 23.390625 \nQ 47.40625 31.296875 43.53125 35.828125 \nQ 39.65625 40.375 33.015625 40.375 \nz\nM 52.59375 71.296875 \nL 52.59375 62.3125 \nQ 48.875 64.0625 45.09375 64.984375 \nQ 41.3125 65.921875 37.59375 65.921875 \nQ 27.828125 65.921875 22.671875 59.328125 \nQ 17.53125 52.734375 16.796875 39.40625 \nQ 19.671875 43.65625 24.015625 45.921875 \nQ 28.375 48.1875 33.59375 48.1875 \nQ 44.578125 48.1875 50.953125 41.515625 \nQ 57.328125 34.859375 57.328125 23.390625 \nQ 57.328125 12.15625 50.6875 5.359375 \nQ 44.046875 -1.421875 33.015625 -1.421875 \nQ 20.359375 -1.421875 13.671875 8.265625 \nQ 6.984375 17.96875 6.984375 36.375 \nQ 6.984375 53.65625 15.1875 63.9375 \nQ 23.390625 74.21875 37.203125 74.21875 \nQ 40.921875 74.21875 44.703125 73.484375 \nQ 48.484375 72.75 52.59375 71.296875 \nz\n\" id=\"DejaVuSans-54\"/>\n      </defs>\n      <g style=\"fill:#262626;\" transform=\"translate(260.541023 242.498281)scale(0.11 -0.11)\">\n       <use xlink:href=\"#DejaVuSans-54\"/>\n       <use x=\"63.623047\" xlink:href=\"#DejaVuSans-48\"/>\n       <use x=\"127.246094\" xlink:href=\"#DejaVuSans-48\"/>\n       <use x=\"190.869141\" xlink:href=\"#DejaVuSans-48\"/>\n       <use x=\"254.492188\" xlink:href=\"#DejaVuSans-48\"/>\n      </g>\n     </g>\n    </g>\n    <g id=\"xtick_5\">\n     <g id=\"line2d_5\">\n      <path clip-path=\"url(#p33ed169798)\" d=\"M 350.387041 224.64 \nL 350.387041 7.2 \n\" style=\"fill:none;stroke:#ffffff;stroke-linecap:round;\"/>\n     </g>\n     <g id=\"text_5\">\n      <!-- 80000 -->\n      <defs>\n       <path d=\"M 31.78125 34.625 \nQ 24.75 34.625 20.71875 30.859375 \nQ 16.703125 27.09375 16.703125 20.515625 \nQ 16.703125 13.921875 20.71875 10.15625 \nQ 24.75 6.390625 31.78125 6.390625 \nQ 38.8125 6.390625 42.859375 10.171875 \nQ 46.921875 13.96875 46.921875 20.515625 \nQ 46.921875 27.09375 42.890625 30.859375 \nQ 38.875 34.625 31.78125 34.625 \nz\nM 21.921875 38.8125 \nQ 15.578125 40.375 12.03125 44.71875 \nQ 8.5 49.078125 8.5 55.328125 \nQ 8.5 64.0625 14.71875 69.140625 \nQ 20.953125 74.21875 31.78125 74.21875 \nQ 42.671875 74.21875 48.875 69.140625 \nQ 55.078125 64.0625 55.078125 55.328125 \nQ 55.078125 49.078125 51.53125 44.71875 \nQ 48 40.375 41.703125 38.8125 \nQ 48.828125 37.15625 52.796875 32.3125 \nQ 56.78125 27.484375 56.78125 20.515625 \nQ 56.78125 9.90625 50.3125 4.234375 \nQ 43.84375 -1.421875 31.78125 -1.421875 \nQ 19.734375 -1.421875 13.25 4.234375 \nQ 6.78125 9.90625 6.78125 20.515625 \nQ 6.78125 27.484375 10.78125 32.3125 \nQ 14.796875 37.15625 21.921875 38.8125 \nz\nM 18.3125 54.390625 \nQ 18.3125 48.734375 21.84375 45.5625 \nQ 25.390625 42.390625 31.78125 42.390625 \nQ 38.140625 42.390625 41.71875 45.5625 \nQ 45.3125 48.734375 45.3125 54.390625 \nQ 45.3125 60.0625 41.71875 63.234375 \nQ 38.140625 66.40625 31.78125 66.40625 \nQ 25.390625 66.40625 21.84375 63.234375 \nQ 18.3125 60.0625 18.3125 54.390625 \nz\n\" id=\"DejaVuSans-56\"/>\n      </defs>\n      <g style=\"fill:#262626;\" transform=\"translate(332.890166 242.498281)scale(0.11 -0.11)\">\n       <use xlink:href=\"#DejaVuSans-56\"/>\n       <use x=\"63.623047\" xlink:href=\"#DejaVuSans-48\"/>\n       <use x=\"127.246094\" xlink:href=\"#DejaVuSans-48\"/>\n       <use x=\"190.869141\" xlink:href=\"#DejaVuSans-48\"/>\n       <use x=\"254.492188\" xlink:href=\"#DejaVuSans-48\"/>\n      </g>\n     </g>\n    </g>\n   </g>\n   <g id=\"matplotlib.axis_2\">\n    <g id=\"ytick_1\">\n     <g id=\"line2d_6\">\n      <path clip-path=\"url(#p33ed169798)\" d=\"M 60.990469 219.204 \nL 395.790469 219.204 \n\" style=\"fill:none;stroke:#ffffff;stroke-linecap:round;\"/>\n     </g>\n     <g id=\"text_6\">\n      <!-- , -->\n      <defs>\n       <path d=\"M 11.71875 12.40625 \nL 22.015625 12.40625 \nL 22.015625 4 \nL 14.015625 -11.625 \nL 7.71875 -11.625 \nL 11.71875 4 \nz\n\" id=\"DejaVuSans-44\"/>\n      </defs>\n      <g style=\"fill:#262626;\" transform=\"translate(47.994531 223.383141)scale(0.11 -0.11)\">\n       <use xlink:href=\"#DejaVuSans-44\"/>\n      </g>\n     </g>\n    </g>\n    <g id=\"ytick_2\">\n     <g id=\"line2d_7\">\n      <path clip-path=\"url(#p33ed169798)\" d=\"M 60.990469 208.332 \nL 395.790469 208.332 \n\" style=\"fill:none;stroke:#ffffff;stroke-linecap:round;\"/>\n     </g>\n     <g id=\"text_7\">\n      <!-- . -->\n      <defs>\n       <path d=\"M 10.6875 12.40625 \nL 21 12.40625 \nL 21 0 \nL 10.6875 0 \nz\n\" id=\"DejaVuSans-46\"/>\n      </defs>\n      <g style=\"fill:#262626;\" transform=\"translate(47.994531 212.511141)scale(0.11 -0.11)\">\n       <use xlink:href=\"#DejaVuSans-46\"/>\n      </g>\n     </g>\n    </g>\n    <g id=\"ytick_3\">\n     <g id=\"line2d_8\">\n      <path clip-path=\"url(#p33ed169798)\" d=\"M 60.990469 197.46 \nL 395.790469 197.46 \n\" style=\"fill:none;stroke:#ffffff;stroke-linecap:round;\"/>\n     </g>\n     <g id=\"text_8\">\n      <!-- dan -->\n      <defs>\n       <path d=\"M 45.40625 46.390625 \nL 45.40625 75.984375 \nL 54.390625 75.984375 \nL 54.390625 0 \nL 45.40625 0 \nL 45.40625 8.203125 \nQ 42.578125 3.328125 38.25 0.953125 \nQ 33.9375 -1.421875 27.875 -1.421875 \nQ 17.96875 -1.421875 11.734375 6.484375 \nQ 5.515625 14.40625 5.515625 27.296875 \nQ 5.515625 40.1875 11.734375 48.09375 \nQ 17.96875 56 27.875 56 \nQ 33.9375 56 38.25 53.625 \nQ 42.578125 51.265625 45.40625 46.390625 \nz\nM 14.796875 27.296875 \nQ 14.796875 17.390625 18.875 11.75 \nQ 22.953125 6.109375 30.078125 6.109375 \nQ 37.203125 6.109375 41.296875 11.75 \nQ 45.40625 17.390625 45.40625 27.296875 \nQ 45.40625 37.203125 41.296875 42.84375 \nQ 37.203125 48.484375 30.078125 48.484375 \nQ 22.953125 48.484375 18.875 42.84375 \nQ 14.796875 37.203125 14.796875 27.296875 \nz\n\" id=\"DejaVuSans-100\"/>\n       <path d=\"M 34.28125 27.484375 \nQ 23.390625 27.484375 19.1875 25 \nQ 14.984375 22.515625 14.984375 16.5 \nQ 14.984375 11.71875 18.140625 8.90625 \nQ 21.296875 6.109375 26.703125 6.109375 \nQ 34.1875 6.109375 38.703125 11.40625 \nQ 43.21875 16.703125 43.21875 25.484375 \nL 43.21875 27.484375 \nz\nM 52.203125 31.203125 \nL 52.203125 0 \nL 43.21875 0 \nL 43.21875 8.296875 \nQ 40.140625 3.328125 35.546875 0.953125 \nQ 30.953125 -1.421875 24.3125 -1.421875 \nQ 15.921875 -1.421875 10.953125 3.296875 \nQ 6 8.015625 6 15.921875 \nQ 6 25.140625 12.171875 29.828125 \nQ 18.359375 34.515625 30.609375 34.515625 \nL 43.21875 34.515625 \nL 43.21875 35.40625 \nQ 43.21875 41.609375 39.140625 45 \nQ 35.0625 48.390625 27.6875 48.390625 \nQ 23 48.390625 18.546875 47.265625 \nQ 14.109375 46.140625 10.015625 43.890625 \nL 10.015625 52.203125 \nQ 14.9375 54.109375 19.578125 55.046875 \nQ 24.21875 56 28.609375 56 \nQ 40.484375 56 46.34375 49.84375 \nQ 52.203125 43.703125 52.203125 31.203125 \nz\n\" id=\"DejaVuSans-97\"/>\n       <path d=\"M 54.890625 33.015625 \nL 54.890625 0 \nL 45.90625 0 \nL 45.90625 32.71875 \nQ 45.90625 40.484375 42.875 44.328125 \nQ 39.84375 48.1875 33.796875 48.1875 \nQ 26.515625 48.1875 22.3125 43.546875 \nQ 18.109375 38.921875 18.109375 30.90625 \nL 18.109375 0 \nL 9.078125 0 \nL 9.078125 54.6875 \nL 18.109375 54.6875 \nL 18.109375 46.1875 \nQ 21.34375 51.125 25.703125 53.5625 \nQ 30.078125 56 35.796875 56 \nQ 45.21875 56 50.046875 50.171875 \nQ 54.890625 44.34375 54.890625 33.015625 \nz\n\" id=\"DejaVuSans-110\"/>\n      </defs>\n      <g style=\"fill:#262626;\" transform=\"translate(30.795 201.639141)scale(0.11 -0.11)\">\n       <use xlink:href=\"#DejaVuSans-100\"/>\n       <use x=\"63.476562\" xlink:href=\"#DejaVuSans-97\"/>\n       <use x=\"124.755859\" xlink:href=\"#DejaVuSans-110\"/>\n      </g>\n     </g>\n    </g>\n    <g id=\"ytick_4\">\n     <g id=\"line2d_9\">\n      <path clip-path=\"url(#p33ed169798)\" d=\"M 60.990469 186.588 \nL 395.790469 186.588 \n\" style=\"fill:none;stroke:#ffffff;stroke-linecap:round;\"/>\n     </g>\n     <g id=\"text_9\">\n      <!-- di -->\n      <defs>\n       <path d=\"M 9.421875 54.6875 \nL 18.40625 54.6875 \nL 18.40625 0 \nL 9.421875 0 \nz\nM 9.421875 75.984375 \nL 18.40625 75.984375 \nL 18.40625 64.59375 \nL 9.421875 64.59375 \nz\n\" id=\"DejaVuSans-105\"/>\n      </defs>\n      <g style=\"fill:#262626;\" transform=\"translate(41.45125 190.767141)scale(0.11 -0.11)\">\n       <use xlink:href=\"#DejaVuSans-100\"/>\n       <use x=\"63.476562\" xlink:href=\"#DejaVuSans-105\"/>\n      </g>\n     </g>\n    </g>\n    <g id=\"ytick_5\">\n     <g id=\"line2d_10\">\n      <path clip-path=\"url(#p33ed169798)\" d=\"M 60.990469 175.716 \nL 395.790469 175.716 \n\" style=\"fill:none;stroke:#ffffff;stroke-linecap:round;\"/>\n     </g>\n     <g id=\"text_10\">\n      <!-- yang -->\n      <defs>\n       <path d=\"M 32.171875 -5.078125 \nQ 28.375 -14.84375 24.75 -17.8125 \nQ 21.140625 -20.796875 15.09375 -20.796875 \nL 7.90625 -20.796875 \nL 7.90625 -13.28125 \nL 13.1875 -13.28125 \nQ 16.890625 -13.28125 18.9375 -11.515625 \nQ 21 -9.765625 23.484375 -3.21875 \nL 25.09375 0.875 \nL 2.984375 54.6875 \nL 12.5 54.6875 \nL 29.59375 11.921875 \nL 46.6875 54.6875 \nL 56.203125 54.6875 \nz\n\" id=\"DejaVuSans-121\"/>\n       <path d=\"M 45.40625 27.984375 \nQ 45.40625 37.75 41.375 43.109375 \nQ 37.359375 48.484375 30.078125 48.484375 \nQ 22.859375 48.484375 18.828125 43.109375 \nQ 14.796875 37.75 14.796875 27.984375 \nQ 14.796875 18.265625 18.828125 12.890625 \nQ 22.859375 7.515625 30.078125 7.515625 \nQ 37.359375 7.515625 41.375 12.890625 \nQ 45.40625 18.265625 45.40625 27.984375 \nz\nM 54.390625 6.78125 \nQ 54.390625 -7.171875 48.1875 -13.984375 \nQ 42 -20.796875 29.203125 -20.796875 \nQ 24.46875 -20.796875 20.265625 -20.09375 \nQ 16.0625 -19.390625 12.109375 -17.921875 \nL 12.109375 -9.1875 \nQ 16.0625 -11.328125 19.921875 -12.34375 \nQ 23.78125 -13.375 27.78125 -13.375 \nQ 36.625 -13.375 41.015625 -8.765625 \nQ 45.40625 -4.15625 45.40625 5.171875 \nL 45.40625 9.625 \nQ 42.625 4.78125 38.28125 2.390625 \nQ 33.9375 0 27.875 0 \nQ 17.828125 0 11.671875 7.65625 \nQ 5.515625 15.328125 5.515625 27.984375 \nQ 5.515625 40.671875 11.671875 48.328125 \nQ 17.828125 56 27.875 56 \nQ 33.9375 56 38.28125 53.609375 \nQ 42.625 51.21875 45.40625 46.390625 \nL 45.40625 54.6875 \nL 54.390625 54.6875 \nz\n\" id=\"DejaVuSans-103\"/>\n      </defs>\n      <g style=\"fill:#262626;\" transform=\"translate(24.284375 179.895141)scale(0.11 -0.11)\">\n       <use xlink:href=\"#DejaVuSans-121\"/>\n       <use x=\"59.179688\" xlink:href=\"#DejaVuSans-97\"/>\n       <use x=\"120.458984\" xlink:href=\"#DejaVuSans-110\"/>\n       <use x=\"183.837891\" xlink:href=\"#DejaVuSans-103\"/>\n      </g>\n     </g>\n    </g>\n    <g id=\"ytick_6\">\n     <g id=\"line2d_11\">\n      <path clip-path=\"url(#p33ed169798)\" d=\"M 60.990469 164.844 \nL 395.790469 164.844 \n\" style=\"fill:none;stroke:#ffffff;stroke-linecap:round;\"/>\n     </g>\n     <g id=\"text_11\">\n      <!-- -LRB- -->\n      <defs>\n       <path d=\"M 4.890625 31.390625 \nL 31.203125 31.390625 \nL 31.203125 23.390625 \nL 4.890625 23.390625 \nz\n\" id=\"DejaVuSans-45\"/>\n       <path d=\"M 9.8125 72.90625 \nL 19.671875 72.90625 \nL 19.671875 8.296875 \nL 55.171875 8.296875 \nL 55.171875 0 \nL 9.8125 0 \nz\n\" id=\"DejaVuSans-76\"/>\n       <path d=\"M 44.390625 34.1875 \nQ 47.5625 33.109375 50.5625 29.59375 \nQ 53.5625 26.078125 56.59375 19.921875 \nL 66.609375 0 \nL 56 0 \nL 46.6875 18.703125 \nQ 43.0625 26.03125 39.671875 28.421875 \nQ 36.28125 30.8125 30.421875 30.8125 \nL 19.671875 30.8125 \nL 19.671875 0 \nL 9.8125 0 \nL 9.8125 72.90625 \nL 32.078125 72.90625 \nQ 44.578125 72.90625 50.734375 67.671875 \nQ 56.890625 62.453125 56.890625 51.90625 \nQ 56.890625 45.015625 53.6875 40.46875 \nQ 50.484375 35.9375 44.390625 34.1875 \nz\nM 19.671875 64.796875 \nL 19.671875 38.921875 \nL 32.078125 38.921875 \nQ 39.203125 38.921875 42.84375 42.21875 \nQ 46.484375 45.515625 46.484375 51.90625 \nQ 46.484375 58.296875 42.84375 61.546875 \nQ 39.203125 64.796875 32.078125 64.796875 \nz\n\" id=\"DejaVuSans-82\"/>\n       <path d=\"M 19.671875 34.8125 \nL 19.671875 8.109375 \nL 35.5 8.109375 \nQ 43.453125 8.109375 47.28125 11.40625 \nQ 51.125 14.703125 51.125 21.484375 \nQ 51.125 28.328125 47.28125 31.5625 \nQ 43.453125 34.8125 35.5 34.8125 \nz\nM 19.671875 64.796875 \nL 19.671875 42.828125 \nL 34.28125 42.828125 \nQ 41.5 42.828125 45.03125 45.53125 \nQ 48.578125 48.25 48.578125 53.8125 \nQ 48.578125 59.328125 45.03125 62.0625 \nQ 41.5 64.796875 34.28125 64.796875 \nz\nM 9.8125 72.90625 \nL 35.015625 72.90625 \nQ 46.296875 72.90625 52.390625 68.21875 \nQ 58.5 63.53125 58.5 54.890625 \nQ 58.5 48.1875 55.375 44.234375 \nQ 52.25 40.28125 46.1875 39.3125 \nQ 53.46875 37.75 57.5 32.78125 \nQ 61.53125 27.828125 61.53125 20.40625 \nQ 61.53125 10.640625 54.890625 5.3125 \nQ 48.25 0 35.984375 0 \nL 9.8125 0 \nz\n\" id=\"DejaVuSans-66\"/>\n      </defs>\n      <g style=\"fill:#262626;\" transform=\"translate(22.233906 169.023141)scale(0.11 -0.11)\">\n       <use xlink:href=\"#DejaVuSans-45\"/>\n       <use x=\"36.083984\" xlink:href=\"#DejaVuSans-76\"/>\n       <use x=\"91.796875\" xlink:href=\"#DejaVuSans-82\"/>\n       <use x=\"161.279297\" xlink:href=\"#DejaVuSans-66\"/>\n       <use x=\"229.882812\" xlink:href=\"#DejaVuSans-45\"/>\n      </g>\n     </g>\n    </g>\n    <g id=\"ytick_7\">\n     <g id=\"line2d_12\">\n      <path clip-path=\"url(#p33ed169798)\" d=\"M 60.990469 153.972 \nL 395.790469 153.972 \n\" style=\"fill:none;stroke:#ffffff;stroke-linecap:round;\"/>\n     </g>\n     <g id=\"text_12\">\n      <!-- -RRB- -->\n      <g style=\"fill:#262626;\" transform=\"translate(20.719688 158.151141)scale(0.11 -0.11)\">\n       <use xlink:href=\"#DejaVuSans-45\"/>\n       <use x=\"36.083984\" xlink:href=\"#DejaVuSans-82\"/>\n       <use x=\"105.566406\" xlink:href=\"#DejaVuSans-82\"/>\n       <use x=\"175.048828\" xlink:href=\"#DejaVuSans-66\"/>\n       <use x=\"243.652344\" xlink:href=\"#DejaVuSans-45\"/>\n      </g>\n     </g>\n    </g>\n    <g id=\"ytick_8\">\n     <g id=\"line2d_13\">\n      <path clip-path=\"url(#p33ed169798)\" d=\"M 60.990469 143.1 \nL 395.790469 143.1 \n\" style=\"fill:none;stroke:#ffffff;stroke-linecap:round;\"/>\n     </g>\n     <g id=\"text_13\">\n      <!-- '' -->\n      <defs>\n       <path d=\"M 17.921875 72.90625 \nL 17.921875 45.796875 \nL 9.625 45.796875 \nL 9.625 72.90625 \nz\n\" id=\"DejaVuSans-39\"/>\n      </defs>\n      <g style=\"fill:#262626;\" transform=\"translate(45.443906 147.279141)scale(0.11 -0.11)\">\n       <use xlink:href=\"#DejaVuSans-39\"/>\n       <use x=\"27.490234\" xlink:href=\"#DejaVuSans-39\"/>\n      </g>\n     </g>\n    </g>\n    <g id=\"ytick_9\">\n     <g id=\"line2d_14\">\n      <path clip-path=\"url(#p33ed169798)\" d=\"M 60.990469 132.228 \nL 395.790469 132.228 \n\" style=\"fill:none;stroke:#ffffff;stroke-linecap:round;\"/>\n     </g>\n     <g id=\"text_14\">\n      <!-- `` -->\n      <defs>\n       <path d=\"M 17.921875 79.984375 \nL 31.6875 61.71875 \nL 24.21875 61.71875 \nL 8.296875 79.984375 \nz\n\" id=\"DejaVuSans-96\"/>\n      </defs>\n      <g style=\"fill:#262626;\" transform=\"translate(40.490469 136.407141)scale(0.11 -0.11)\">\n       <use xlink:href=\"#DejaVuSans-96\"/>\n       <use x=\"50\" xlink:href=\"#DejaVuSans-96\"/>\n      </g>\n     </g>\n    </g>\n    <g id=\"ytick_10\">\n     <g id=\"line2d_15\">\n      <path clip-path=\"url(#p33ed169798)\" d=\"M 60.990469 121.356 \nL 395.790469 121.356 \n\" style=\"fill:none;stroke:#ffffff;stroke-linecap:round;\"/>\n     </g>\n     <g id=\"text_15\">\n      <!-- dengan -->\n      <defs>\n       <path d=\"M 56.203125 29.59375 \nL 56.203125 25.203125 \nL 14.890625 25.203125 \nQ 15.484375 15.921875 20.484375 11.0625 \nQ 25.484375 6.203125 34.421875 6.203125 \nQ 39.59375 6.203125 44.453125 7.46875 \nQ 49.3125 8.734375 54.109375 11.28125 \nL 54.109375 2.78125 \nQ 49.265625 0.734375 44.1875 -0.34375 \nQ 39.109375 -1.421875 33.890625 -1.421875 \nQ 20.796875 -1.421875 13.15625 6.1875 \nQ 5.515625 13.8125 5.515625 26.8125 \nQ 5.515625 40.234375 12.765625 48.109375 \nQ 20.015625 56 32.328125 56 \nQ 43.359375 56 49.78125 48.890625 \nQ 56.203125 41.796875 56.203125 29.59375 \nz\nM 47.21875 32.234375 \nQ 47.125 39.59375 43.09375 43.984375 \nQ 39.0625 48.390625 32.421875 48.390625 \nQ 24.90625 48.390625 20.390625 44.140625 \nQ 15.875 39.890625 15.1875 32.171875 \nz\n\" id=\"DejaVuSans-101\"/>\n      </defs>\n      <g style=\"fill:#262626;\" transform=\"translate(10.072031 125.535141)scale(0.11 -0.11)\">\n       <use xlink:href=\"#DejaVuSans-100\"/>\n       <use x=\"63.476562\" xlink:href=\"#DejaVuSans-101\"/>\n       <use x=\"125\" xlink:href=\"#DejaVuSans-110\"/>\n       <use x=\"188.378906\" xlink:href=\"#DejaVuSans-103\"/>\n       <use x=\"251.855469\" xlink:href=\"#DejaVuSans-97\"/>\n       <use x=\"313.134766\" xlink:href=\"#DejaVuSans-110\"/>\n      </g>\n     </g>\n    </g>\n    <g id=\"ytick_11\">\n     <g id=\"line2d_16\">\n      <path clip-path=\"url(#p33ed169798)\" d=\"M 60.990469 110.484 \nL 395.790469 110.484 \n\" style=\"fill:none;stroke:#ffffff;stroke-linecap:round;\"/>\n     </g>\n     <g id=\"text_16\">\n      <!-- pada -->\n      <defs>\n       <path d=\"M 18.109375 8.203125 \nL 18.109375 -20.796875 \nL 9.078125 -20.796875 \nL 9.078125 54.6875 \nL 18.109375 54.6875 \nL 18.109375 46.390625 \nQ 20.953125 51.265625 25.265625 53.625 \nQ 29.59375 56 35.59375 56 \nQ 45.5625 56 51.78125 48.09375 \nQ 58.015625 40.1875 58.015625 27.296875 \nQ 58.015625 14.40625 51.78125 6.484375 \nQ 45.5625 -1.421875 35.59375 -1.421875 \nQ 29.59375 -1.421875 25.265625 0.953125 \nQ 20.953125 3.328125 18.109375 8.203125 \nz\nM 48.6875 27.296875 \nQ 48.6875 37.203125 44.609375 42.84375 \nQ 40.53125 48.484375 33.40625 48.484375 \nQ 26.265625 48.484375 22.1875 42.84375 \nQ 18.109375 37.203125 18.109375 27.296875 \nQ 18.109375 17.390625 22.1875 11.75 \nQ 26.265625 6.109375 33.40625 6.109375 \nQ 40.53125 6.109375 44.609375 11.75 \nQ 48.6875 17.390625 48.6875 27.296875 \nz\n\" id=\"DejaVuSans-112\"/>\n      </defs>\n      <g style=\"fill:#262626;\" transform=\"translate(24.042031 114.663141)scale(0.11 -0.11)\">\n       <use xlink:href=\"#DejaVuSans-112\"/>\n       <use x=\"63.476562\" xlink:href=\"#DejaVuSans-97\"/>\n       <use x=\"124.755859\" xlink:href=\"#DejaVuSans-100\"/>\n       <use x=\"188.232422\" xlink:href=\"#DejaVuSans-97\"/>\n      </g>\n     </g>\n    </g>\n    <g id=\"ytick_12\">\n     <g id=\"line2d_17\">\n      <path clip-path=\"url(#p33ed169798)\" d=\"M 60.990469 99.612 \nL 395.790469 99.612 \n\" style=\"fill:none;stroke:#ffffff;stroke-linecap:round;\"/>\n     </g>\n     <g id=\"text_17\">\n      <!-- dari -->\n      <defs>\n       <path d=\"M 41.109375 46.296875 \nQ 39.59375 47.171875 37.8125 47.578125 \nQ 36.03125 48 33.890625 48 \nQ 26.265625 48 22.1875 43.046875 \nQ 18.109375 38.09375 18.109375 28.8125 \nL 18.109375 0 \nL 9.078125 0 \nL 9.078125 54.6875 \nL 18.109375 54.6875 \nL 18.109375 46.1875 \nQ 20.953125 51.171875 25.484375 53.578125 \nQ 30.03125 56 36.53125 56 \nQ 37.453125 56 38.578125 55.875 \nQ 39.703125 55.765625 41.0625 55.515625 \nz\n\" id=\"DejaVuSans-114\"/>\n      </defs>\n      <g style=\"fill:#262626;\" transform=\"translate(30.188281 103.791141)scale(0.11 -0.11)\">\n       <use xlink:href=\"#DejaVuSans-100\"/>\n       <use x=\"63.476562\" xlink:href=\"#DejaVuSans-97\"/>\n       <use x=\"124.755859\" xlink:href=\"#DejaVuSans-114\"/>\n       <use x=\"165.869141\" xlink:href=\"#DejaVuSans-105\"/>\n      </g>\n     </g>\n    </g>\n    <g id=\"ytick_13\">\n     <g id=\"line2d_18\">\n      <path clip-path=\"url(#p33ed169798)\" d=\"M 60.990469 88.74 \nL 395.790469 88.74 \n\" style=\"fill:none;stroke:#ffffff;stroke-linecap:round;\"/>\n     </g>\n     <g id=\"text_18\">\n      <!-- tahun -->\n      <defs>\n       <path d=\"M 18.3125 70.21875 \nL 18.3125 54.6875 \nL 36.8125 54.6875 \nL 36.8125 47.703125 \nL 18.3125 47.703125 \nL 18.3125 18.015625 \nQ 18.3125 11.328125 20.140625 9.421875 \nQ 21.96875 7.515625 27.59375 7.515625 \nL 36.8125 7.515625 \nL 36.8125 0 \nL 27.59375 0 \nQ 17.1875 0 13.234375 3.875 \nQ 9.28125 7.765625 9.28125 18.015625 \nL 9.28125 47.703125 \nL 2.6875 47.703125 \nL 2.6875 54.6875 \nL 9.28125 54.6875 \nL 9.28125 70.21875 \nz\n\" id=\"DejaVuSans-116\"/>\n       <path d=\"M 54.890625 33.015625 \nL 54.890625 0 \nL 45.90625 0 \nL 45.90625 32.71875 \nQ 45.90625 40.484375 42.875 44.328125 \nQ 39.84375 48.1875 33.796875 48.1875 \nQ 26.515625 48.1875 22.3125 43.546875 \nQ 18.109375 38.921875 18.109375 30.90625 \nL 18.109375 0 \nL 9.078125 0 \nL 9.078125 75.984375 \nL 18.109375 75.984375 \nL 18.109375 46.1875 \nQ 21.34375 51.125 25.703125 53.5625 \nQ 30.078125 56 35.796875 56 \nQ 45.21875 56 50.046875 50.171875 \nQ 54.890625 44.34375 54.890625 33.015625 \nz\n\" id=\"DejaVuSans-104\"/>\n       <path d=\"M 8.5 21.578125 \nL 8.5 54.6875 \nL 17.484375 54.6875 \nL 17.484375 21.921875 \nQ 17.484375 14.15625 20.5 10.265625 \nQ 23.53125 6.390625 29.59375 6.390625 \nQ 36.859375 6.390625 41.078125 11.03125 \nQ 45.3125 15.671875 45.3125 23.6875 \nL 45.3125 54.6875 \nL 54.296875 54.6875 \nL 54.296875 0 \nL 45.3125 0 \nL 45.3125 8.40625 \nQ 42.046875 3.421875 37.71875 1 \nQ 33.40625 -1.421875 27.6875 -1.421875 \nQ 18.265625 -1.421875 13.375 4.4375 \nQ 8.5 10.296875 8.5 21.578125 \nz\nM 31.109375 56 \nz\n\" id=\"DejaVuSans-117\"/>\n      </defs>\n      <g style=\"fill:#262626;\" transform=\"translate(19.523438 92.919141)scale(0.11 -0.11)\">\n       <use xlink:href=\"#DejaVuSans-116\"/>\n       <use x=\"39.208984\" xlink:href=\"#DejaVuSans-97\"/>\n       <use x=\"100.488281\" xlink:href=\"#DejaVuSans-104\"/>\n       <use x=\"163.867188\" xlink:href=\"#DejaVuSans-117\"/>\n       <use x=\"227.246094\" xlink:href=\"#DejaVuSans-110\"/>\n      </g>\n     </g>\n    </g>\n    <g id=\"ytick_14\">\n     <g id=\"line2d_19\">\n      <path clip-path=\"url(#p33ed169798)\" d=\"M 60.990469 77.868 \nL 395.790469 77.868 \n\" style=\"fill:none;stroke:#ffffff;stroke-linecap:round;\"/>\n     </g>\n     <g id=\"text_19\">\n      <!-- sebagai -->\n      <defs>\n       <path d=\"M 44.28125 53.078125 \nL 44.28125 44.578125 \nQ 40.484375 46.53125 36.375 47.5 \nQ 32.28125 48.484375 27.875 48.484375 \nQ 21.1875 48.484375 17.84375 46.4375 \nQ 14.5 44.390625 14.5 40.28125 \nQ 14.5 37.15625 16.890625 35.375 \nQ 19.28125 33.59375 26.515625 31.984375 \nL 29.59375 31.296875 \nQ 39.15625 29.25 43.1875 25.515625 \nQ 47.21875 21.78125 47.21875 15.09375 \nQ 47.21875 7.46875 41.1875 3.015625 \nQ 35.15625 -1.421875 24.609375 -1.421875 \nQ 20.21875 -1.421875 15.453125 -0.5625 \nQ 10.6875 0.296875 5.421875 2 \nL 5.421875 11.28125 \nQ 10.40625 8.6875 15.234375 7.390625 \nQ 20.0625 6.109375 24.8125 6.109375 \nQ 31.15625 6.109375 34.5625 8.28125 \nQ 37.984375 10.453125 37.984375 14.40625 \nQ 37.984375 18.0625 35.515625 20.015625 \nQ 33.0625 21.96875 24.703125 23.78125 \nL 21.578125 24.515625 \nQ 13.234375 26.265625 9.515625 29.90625 \nQ 5.8125 33.546875 5.8125 39.890625 \nQ 5.8125 47.609375 11.28125 51.796875 \nQ 16.75 56 26.8125 56 \nQ 31.78125 56 36.171875 55.265625 \nQ 40.578125 54.546875 44.28125 53.078125 \nz\n\" id=\"DejaVuSans-115\"/>\n       <path d=\"M 48.6875 27.296875 \nQ 48.6875 37.203125 44.609375 42.84375 \nQ 40.53125 48.484375 33.40625 48.484375 \nQ 26.265625 48.484375 22.1875 42.84375 \nQ 18.109375 37.203125 18.109375 27.296875 \nQ 18.109375 17.390625 22.1875 11.75 \nQ 26.265625 6.109375 33.40625 6.109375 \nQ 40.53125 6.109375 44.609375 11.75 \nQ 48.6875 17.390625 48.6875 27.296875 \nz\nM 18.109375 46.390625 \nQ 20.953125 51.265625 25.265625 53.625 \nQ 29.59375 56 35.59375 56 \nQ 45.5625 56 51.78125 48.09375 \nQ 58.015625 40.1875 58.015625 27.296875 \nQ 58.015625 14.40625 51.78125 6.484375 \nQ 45.5625 -1.421875 35.59375 -1.421875 \nQ 29.59375 -1.421875 25.265625 0.953125 \nQ 20.953125 3.328125 18.109375 8.203125 \nL 18.109375 0 \nL 9.078125 0 \nL 9.078125 75.984375 \nL 18.109375 75.984375 \nz\n\" id=\"DejaVuSans-98\"/>\n      </defs>\n      <g style=\"fill:#262626;\" transform=\"translate(8.487344 82.047141)scale(0.11 -0.11)\">\n       <use xlink:href=\"#DejaVuSans-115\"/>\n       <use x=\"52.099609\" xlink:href=\"#DejaVuSans-101\"/>\n       <use x=\"113.623047\" xlink:href=\"#DejaVuSans-98\"/>\n       <use x=\"177.099609\" xlink:href=\"#DejaVuSans-97\"/>\n       <use x=\"238.378906\" xlink:href=\"#DejaVuSans-103\"/>\n       <use x=\"301.855469\" xlink:href=\"#DejaVuSans-97\"/>\n       <use x=\"363.134766\" xlink:href=\"#DejaVuSans-105\"/>\n      </g>\n     </g>\n    </g>\n    <g id=\"ytick_15\">\n     <g id=\"line2d_20\">\n      <path clip-path=\"url(#p33ed169798)\" d=\"M 60.990469 66.996 \nL 395.790469 66.996 \n\" style=\"fill:none;stroke:#ffffff;stroke-linecap:round;\"/>\n     </g>\n     <g id=\"text_20\">\n      <!-- ini -->\n      <g style=\"fill:#262626;\" transform=\"translate(38.407344 71.175141)scale(0.11 -0.11)\">\n       <use xlink:href=\"#DejaVuSans-105\"/>\n       <use x=\"27.783203\" xlink:href=\"#DejaVuSans-110\"/>\n       <use x=\"91.162109\" xlink:href=\"#DejaVuSans-105\"/>\n      </g>\n     </g>\n    </g>\n    <g id=\"ytick_16\">\n     <g id=\"line2d_21\">\n      <path clip-path=\"url(#p33ed169798)\" d=\"M 60.990469 56.124 \nL 395.790469 56.124 \n\" style=\"fill:none;stroke:#ffffff;stroke-linecap:round;\"/>\n     </g>\n     <g id=\"text_21\">\n      <!-- untuk -->\n      <defs>\n       <path d=\"M 9.078125 75.984375 \nL 18.109375 75.984375 \nL 18.109375 31.109375 \nL 44.921875 54.6875 \nL 56.390625 54.6875 \nL 27.390625 29.109375 \nL 57.625 0 \nL 45.90625 0 \nL 18.109375 26.703125 \nL 18.109375 0 \nL 9.078125 0 \nz\n\" id=\"DejaVuSans-107\"/>\n      </defs>\n      <g style=\"fill:#262626;\" transform=\"translate(19.894688 60.303141)scale(0.11 -0.11)\">\n       <use xlink:href=\"#DejaVuSans-117\"/>\n       <use x=\"63.378906\" xlink:href=\"#DejaVuSans-110\"/>\n       <use x=\"126.757812\" xlink:href=\"#DejaVuSans-116\"/>\n       <use x=\"165.966797\" xlink:href=\"#DejaVuSans-117\"/>\n       <use x=\"229.345703\" xlink:href=\"#DejaVuSans-107\"/>\n      </g>\n     </g>\n    </g>\n    <g id=\"ytick_17\">\n     <g id=\"line2d_22\">\n      <path clip-path=\"url(#p33ed169798)\" d=\"M 60.990469 45.252 \nL 395.790469 45.252 \n\" style=\"fill:none;stroke:#ffffff;stroke-linecap:round;\"/>\n     </g>\n     <g id=\"text_22\">\n      <!-- dalam -->\n      <defs>\n       <path d=\"M 9.421875 75.984375 \nL 18.40625 75.984375 \nL 18.40625 0 \nL 9.421875 0 \nz\n\" id=\"DejaVuSans-108\"/>\n       <path d=\"M 52 44.1875 \nQ 55.375 50.25 60.0625 53.125 \nQ 64.75 56 71.09375 56 \nQ 79.640625 56 84.28125 50.015625 \nQ 88.921875 44.046875 88.921875 33.015625 \nL 88.921875 0 \nL 79.890625 0 \nL 79.890625 32.71875 \nQ 79.890625 40.578125 77.09375 44.375 \nQ 74.3125 48.1875 68.609375 48.1875 \nQ 61.625 48.1875 57.5625 43.546875 \nQ 53.515625 38.921875 53.515625 30.90625 \nL 53.515625 0 \nL 44.484375 0 \nL 44.484375 32.71875 \nQ 44.484375 40.625 41.703125 44.40625 \nQ 38.921875 48.1875 33.109375 48.1875 \nQ 26.21875 48.1875 22.15625 43.53125 \nQ 18.109375 38.875 18.109375 30.90625 \nL 18.109375 0 \nL 9.078125 0 \nL 9.078125 54.6875 \nL 18.109375 54.6875 \nL 18.109375 46.1875 \nQ 21.1875 51.21875 25.484375 53.609375 \nQ 29.78125 56 35.6875 56 \nQ 41.65625 56 45.828125 52.96875 \nQ 50 49.953125 52 44.1875 \nz\n\" id=\"DejaVuSans-109\"/>\n      </defs>\n      <g style=\"fill:#262626;\" transform=\"translate(17.254688 49.431141)scale(0.11 -0.11)\">\n       <use xlink:href=\"#DejaVuSans-100\"/>\n       <use x=\"63.476562\" xlink:href=\"#DejaVuSans-97\"/>\n       <use x=\"124.755859\" xlink:href=\"#DejaVuSans-108\"/>\n       <use x=\"152.539062\" xlink:href=\"#DejaVuSans-97\"/>\n       <use x=\"213.818359\" xlink:href=\"#DejaVuSans-109\"/>\n      </g>\n     </g>\n    </g>\n    <g id=\"ytick_18\">\n     <g id=\"line2d_23\">\n      <path clip-path=\"url(#p33ed169798)\" d=\"M 60.990469 34.38 \nL 395.790469 34.38 \n\" style=\"fill:none;stroke:#ffffff;stroke-linecap:round;\"/>\n     </g>\n     <g id=\"text_23\">\n      <!-- adalah -->\n      <g style=\"fill:#262626;\" transform=\"translate(14.257188 38.559141)scale(0.11 -0.11)\">\n       <use xlink:href=\"#DejaVuSans-97\"/>\n       <use x=\"61.279297\" xlink:href=\"#DejaVuSans-100\"/>\n       <use x=\"124.755859\" xlink:href=\"#DejaVuSans-97\"/>\n       <use x=\"186.035156\" xlink:href=\"#DejaVuSans-108\"/>\n       <use x=\"213.818359\" xlink:href=\"#DejaVuSans-97\"/>\n       <use x=\"275.097656\" xlink:href=\"#DejaVuSans-104\"/>\n      </g>\n     </g>\n    </g>\n    <g id=\"ytick_19\">\n     <g id=\"line2d_24\">\n      <path clip-path=\"url(#p33ed169798)\" d=\"M 60.990469 23.508 \nL 395.790469 23.508 \n\" style=\"fill:none;stroke:#ffffff;stroke-linecap:round;\"/>\n     </g>\n     <g id=\"text_24\">\n      <!-- menjadi -->\n      <defs>\n       <path d=\"M 9.421875 54.6875 \nL 18.40625 54.6875 \nL 18.40625 -0.984375 \nQ 18.40625 -11.421875 14.421875 -16.109375 \nQ 10.453125 -20.796875 1.609375 -20.796875 \nL -1.8125 -20.796875 \nL -1.8125 -13.1875 \nL 0.59375 -13.1875 \nQ 5.71875 -13.1875 7.5625 -10.8125 \nQ 9.421875 -8.453125 9.421875 -0.984375 \nz\nM 9.421875 75.984375 \nL 18.40625 75.984375 \nL 18.40625 64.59375 \nL 9.421875 64.59375 \nz\n\" id=\"DejaVuSans-106\"/>\n      </defs>\n      <g style=\"fill:#262626;\" transform=\"translate(7.2 27.687141)scale(0.11 -0.11)\">\n       <use xlink:href=\"#DejaVuSans-109\"/>\n       <use x=\"97.412109\" xlink:href=\"#DejaVuSans-101\"/>\n       <use x=\"158.935547\" xlink:href=\"#DejaVuSans-110\"/>\n       <use x=\"222.314453\" xlink:href=\"#DejaVuSans-106\"/>\n       <use x=\"250.097656\" xlink:href=\"#DejaVuSans-97\"/>\n       <use x=\"311.376953\" xlink:href=\"#DejaVuSans-100\"/>\n       <use x=\"374.853516\" xlink:href=\"#DejaVuSans-105\"/>\n      </g>\n     </g>\n    </g>\n    <g id=\"ytick_20\">\n     <g id=\"line2d_25\">\n      <path clip-path=\"url(#p33ed169798)\" d=\"M 60.990469 12.636 \nL 395.790469 12.636 \n\" style=\"fill:none;stroke:#ffffff;stroke-linecap:round;\"/>\n     </g>\n     <g id=\"text_25\">\n      <!-- oleh -->\n      <defs>\n       <path d=\"M 30.609375 48.390625 \nQ 23.390625 48.390625 19.1875 42.75 \nQ 14.984375 37.109375 14.984375 27.296875 \nQ 14.984375 17.484375 19.15625 11.84375 \nQ 23.34375 6.203125 30.609375 6.203125 \nQ 37.796875 6.203125 41.984375 11.859375 \nQ 46.1875 17.53125 46.1875 27.296875 \nQ 46.1875 37.015625 41.984375 42.703125 \nQ 37.796875 48.390625 30.609375 48.390625 \nz\nM 30.609375 56 \nQ 42.328125 56 49.015625 48.375 \nQ 55.71875 40.765625 55.71875 27.296875 \nQ 55.71875 13.875 49.015625 6.21875 \nQ 42.328125 -1.421875 30.609375 -1.421875 \nQ 18.84375 -1.421875 12.171875 6.21875 \nQ 5.515625 13.875 5.515625 27.296875 \nQ 5.515625 40.765625 12.171875 48.375 \nQ 18.84375 56 30.609375 56 \nz\n\" id=\"DejaVuSans-111\"/>\n      </defs>\n      <g style=\"fill:#262626;\" transform=\"translate(27.964219 16.815141)scale(0.11 -0.11)\">\n       <use xlink:href=\"#DejaVuSans-111\"/>\n       <use x=\"61.181641\" xlink:href=\"#DejaVuSans-108\"/>\n       <use x=\"88.964844\" xlink:href=\"#DejaVuSans-101\"/>\n       <use x=\"150.488281\" xlink:href=\"#DejaVuSans-104\"/>\n      </g>\n     </g>\n    </g>\n   </g>\n   <g id=\"patch_3\">\n    <path clip-path=\"url(#p33ed169798)\" d=\"M 60.990469 221.922 \nL 379.847612 221.922 \nL 379.847612 216.486 \nL 60.990469 216.486 \nz\n\" style=\"fill:#4c72b0;stroke:#ffffff;stroke-linejoin:miter;\"/>\n   </g>\n   <g id=\"patch_4\">\n    <path clip-path=\"url(#p33ed169798)\" d=\"M 60.990469 211.05 \nL 238.640172 211.05 \nL 238.640172 205.614 \nL 60.990469 205.614 \nz\n\" style=\"fill:#4c72b0;stroke:#ffffff;stroke-linejoin:miter;\"/>\n   </g>\n   <g id=\"patch_5\">\n    <path clip-path=\"url(#p33ed169798)\" d=\"M 60.990469 200.178 \nL 195.860124 200.178 \nL 195.860124 194.742 \nL 60.990469 194.742 \nz\n\" style=\"fill:#4c72b0;stroke:#ffffff;stroke-linejoin:miter;\"/>\n   </g>\n   <g id=\"patch_6\">\n    <path clip-path=\"url(#p33ed169798)\" d=\"M 60.990469 189.306 \nL 182.902392 189.306 \nL 182.902392 183.87 \nL 60.990469 183.87 \nz\n\" style=\"fill:#4c72b0;stroke:#ffffff;stroke-linejoin:miter;\"/>\n   </g>\n   <g id=\"patch_7\">\n    <path clip-path=\"url(#p33ed169798)\" d=\"M 60.990469 178.434 \nL 167.173688 178.434 \nL 167.173688 172.998 \nL 60.990469 172.998 \nz\n\" style=\"fill:#4c72b0;stroke:#ffffff;stroke-linejoin:miter;\"/>\n   </g>\n   <g id=\"patch_8\">\n    <path clip-path=\"url(#p33ed169798)\" d=\"M 60.990469 167.562 \nL 132.771671 167.562 \nL 132.771671 162.126 \nL 60.990469 162.126 \nz\n\" style=\"fill:#4c72b0;stroke:#ffffff;stroke-linejoin:miter;\"/>\n   </g>\n   <g id=\"patch_9\">\n    <path clip-path=\"url(#p33ed169798)\" d=\"M 60.990469 156.69 \nL 132.384603 156.69 \nL 132.384603 151.254 \nL 60.990469 151.254 \nz\n\" style=\"fill:#4c72b0;stroke:#ffffff;stroke-linejoin:miter;\"/>\n   </g>\n   <g id=\"patch_10\">\n    <path clip-path=\"url(#p33ed169798)\" d=\"M 60.990469 145.818 \nL 118.529742 145.818 \nL 118.529742 140.382 \nL 60.990469 140.382 \nz\n\" style=\"fill:#4c72b0;stroke:#ffffff;stroke-linejoin:miter;\"/>\n   </g>\n   <g id=\"patch_11\">\n    <path clip-path=\"url(#p33ed169798)\" d=\"M 60.990469 134.946 \nL 116.091576 134.946 \nL 116.091576 129.51 \nL 60.990469 129.51 \nz\n\" style=\"fill:#4c72b0;stroke:#ffffff;stroke-linejoin:miter;\"/>\n   </g>\n   <g id=\"patch_12\">\n    <path clip-path=\"url(#p33ed169798)\" d=\"M 60.990469 124.074 \nL 116.087959 124.074 \nL 116.087959 118.638 \nL 60.990469 118.638 \nz\n\" style=\"fill:#4c72b0;stroke:#ffffff;stroke-linejoin:miter;\"/>\n   </g>\n   <g id=\"patch_13\">\n    <path clip-path=\"url(#p33ed169798)\" d=\"M 60.990469 113.202 \nL 115.328293 113.202 \nL 115.328293 107.766 \nL 60.990469 107.766 \nz\n\" style=\"fill:#4c72b0;stroke:#ffffff;stroke-linejoin:miter;\"/>\n   </g>\n   <g id=\"patch_14\">\n    <path clip-path=\"url(#p33ed169798)\" d=\"M 60.990469 102.33 \nL 114.89058 102.33 \nL 114.89058 96.894 \nL 60.990469 96.894 \nz\n\" style=\"fill:#4c72b0;stroke:#ffffff;stroke-linejoin:miter;\"/>\n   </g>\n   <g id=\"patch_15\">\n    <path clip-path=\"url(#p33ed169798)\" d=\"M 60.990469 91.458 \nL 108.303191 91.458 \nL 108.303191 86.022 \nL 60.990469 86.022 \nz\n\" style=\"fill:#4c72b0;stroke:#ffffff;stroke-linejoin:miter;\"/>\n   </g>\n   <g id=\"patch_16\">\n    <path clip-path=\"url(#p33ed169798)\" d=\"M 60.990469 80.586 \nL 93.685046 80.586 \nL 93.685046 75.15 \nL 60.990469 75.15 \nz\n\" style=\"fill:#4c72b0;stroke:#ffffff;stroke-linejoin:miter;\"/>\n   </g>\n   <g id=\"patch_17\">\n    <path clip-path=\"url(#p33ed169798)\" d=\"M 60.990469 69.714 \nL 91.272203 69.714 \nL 91.272203 64.278 \nL 60.990469 64.278 \nz\n\" style=\"fill:#4c72b0;stroke:#ffffff;stroke-linejoin:miter;\"/>\n   </g>\n   <g id=\"patch_18\">\n    <path clip-path=\"url(#p33ed169798)\" d=\"M 60.990469 58.842 \nL 91.004511 58.842 \nL 91.004511 53.406 \nL 60.990469 53.406 \nz\n\" style=\"fill:#4c72b0;stroke:#ffffff;stroke-linejoin:miter;\"/>\n   </g>\n   <g id=\"patch_19\">\n    <path clip-path=\"url(#p33ed169798)\" d=\"M 60.990469 47.97 \nL 90.89237 47.97 \nL 90.89237 42.534 \nL 60.990469 42.534 \nz\n\" style=\"fill:#4c72b0;stroke:#ffffff;stroke-linejoin:miter;\"/>\n   </g>\n   <g id=\"patch_20\">\n    <path clip-path=\"url(#p33ed169798)\" d=\"M 60.990469 37.098 \nL 89.749253 37.098 \nL 89.749253 31.662 \nL 60.990469 31.662 \nz\n\" style=\"fill:#4c72b0;stroke:#ffffff;stroke-linejoin:miter;\"/>\n   </g>\n   <g id=\"patch_21\">\n    <path clip-path=\"url(#p33ed169798)\" d=\"M 60.990469 26.226 \nL 87.810296 26.226 \nL 87.810296 20.79 \nL 60.990469 20.79 \nz\n\" style=\"fill:#4c72b0;stroke:#ffffff;stroke-linejoin:miter;\"/>\n   </g>\n   <g id=\"patch_22\">\n    <path clip-path=\"url(#p33ed169798)\" d=\"M 60.990469 15.354 \nL 82.601158 15.354 \nL 82.601158 9.918 \nL 60.990469 9.918 \nz\n\" style=\"fill:#4c72b0;stroke:#ffffff;stroke-linejoin:miter;\"/>\n   </g>\n   <g id=\"patch_23\">\n    <path d=\"M 60.990469 224.64 \nL 60.990469 7.2 \n\" style=\"fill:none;stroke:#ffffff;stroke-linecap:square;stroke-linejoin:miter;stroke-width:1.25;\"/>\n   </g>\n   <g id=\"patch_24\">\n    <path d=\"M 395.790469 224.64 \nL 395.790469 7.2 \n\" style=\"fill:none;stroke:#ffffff;stroke-linecap:square;stroke-linejoin:miter;stroke-width:1.25;\"/>\n   </g>\n   <g id=\"patch_25\">\n    <path d=\"M 60.990469 224.64 \nL 395.790469 224.64 \n\" style=\"fill:none;stroke:#ffffff;stroke-linecap:square;stroke-linejoin:miter;stroke-width:1.25;\"/>\n   </g>\n   <g id=\"patch_26\">\n    <path d=\"M 60.990469 7.2 \nL 395.790469 7.2 \n\" style=\"fill:none;stroke:#ffffff;stroke-linecap:square;stroke-linejoin:miter;stroke-width:1.25;\"/>\n   </g>\n  </g>\n </g>\n <defs>\n  <clipPath id=\"p33ed169798\">\n   <rect height=\"217.44\" width=\"334.8\" x=\"60.990469\" y=\"7.2\"/>\n  </clipPath>\n </defs>\n</svg>\n"
          },
          "metadata": {
            "needs_background": "light"
          }
        }
      ]
    },
    {
      "cell_type": "code",
      "metadata": {
        "colab": {
          "base_uri": "https://localhost:8080/"
        },
        "id": "XgjJDHu2TCnA",
        "outputId": "105a3742-079a-4812-b3bd-a655800472cc"
      },
      "source": [
        " #Melakukan import library untuk melihat url yang muncul pada dataset\n",
        " import re \n",
        "  \n",
        "def Find(string): \n",
        "  \n",
        "    # findall() has been used  \n",
        "    # with valid conditions for urls in string \n",
        "    regex = r\"(?i)\\b((?:https?://|www\\d{0,3}[.]|[a-z0-9.\\-]+[.][a-z]{2,4}/)(?:[^\\s()<>]+|\\(([^\\s()<>]+|(\\([^\\s()<>]+\\)))*\\))+(?:\\(([^\\s()<>]+|(\\([^\\s()<>]+\\)))*\\)|[^\\s`!()\\[\\]{};:'\\\".,<>?«»“”‘’]))\"\n",
        "    url = re.findall(regex,string)       \n",
        "    return [x[0] for x in url] \n",
        "      \n",
        "# Mendapatkan url dari dataset \n",
        "dataset_url = open('SINGGALANG.tsv').read()\n",
        "print(\"Urls: \", Find(dataset_url)) "
      ],
      "execution_count": 29,
      "outputs": [
        {
          "output_type": "stream",
          "name": "stdout",
          "text": [
            "Urls:  ['www.ultimatejlo.com', 'http://karyatani.webs.com', 'www.4icu.org/id/', 'http://www.cousteau.org', 'http://www.unigha.ac.id', 'http://www.garukgak.co.cc/', 'https://groups.yahoo.com/neo/groups/Dharmajala/conversations/topics/7355', 'www.lentera.org', 'www.beritasatu.tv', 'www.beritasatu.com', 'http://informasijambi.blogspot.co.id/2010/03/riwayat-hidup-h-zulkifli-nurdin.html', 'www.akuntansi.usm.ac.id', 'http://raisa.flagig.com', 'www.geocities.com/smanegeri3palembang']\n"
          ]
        }
      ]
    },
    {
      "cell_type": "code",
      "metadata": {
        "colab": {
          "base_uri": "https://localhost:8080/"
        },
        "id": "bg82krn6THlO",
        "outputId": "8a5e8c7d-7985-4d94-aaf7-a28670b66268"
      },
      "source": [
        " # Melakukan penghitungan jumlah punctuation\n",
        "dataset_punct = open('SINGGALANG.tsv').read()\n",
        "\n",
        "dataset_punct  = dataset_punct.replace(\"--\", \" \")\n",
        "\n",
        "for symbol in \"-'\":\n",
        "   dataset_punct  = dataset_punct.replace(symbol + \" \", \"\")\n",
        "   dataset_punct  = dataset_punct.replace(\" \" + symbol, \"\")\n",
        "\n",
        "for symbol in \".,/'-\":\n",
        "    print (symbol, dataset_punct.count(symbol)) "
      ],
      "execution_count": 30,
      "outputs": [
        {
          "output_type": "stream",
          "name": "stdout",
          "text": [
            ". 57483\n",
            ", 89240\n",
            "/ 3462\n",
            "' 33811\n",
            "- 96947\n"
          ]
        }
      ]
    },
    {
      "cell_type": "markdown",
      "metadata": {
        "id": "UEGOzDmyWVi3"
      },
      "source": [
        "**Data Preprocessing**"
      ]
    },
    {
      "cell_type": "markdown",
      "metadata": {
        "id": "jkRdWStBUb6p"
      },
      "source": [
        "### 1. Data Cleaning"
      ]
    },
    {
      "cell_type": "code",
      "metadata": {
        "colab": {
          "base_uri": "https://localhost:8080/",
          "height": 423
        },
        "id": "3dGCexGyUfLx",
        "outputId": "c9d7f802-ba85-4fb2-e714-b38d4a4d0588"
      },
      "source": [
        "#Melakukan pengecekan Missing Value dengan fungsi isna()\n",
        "df.isna()"
      ],
      "execution_count": 31,
      "outputs": [
        {
          "output_type": "execute_result",
          "data": {
            "text/html": [
              "<div>\n",
              "<style scoped>\n",
              "    .dataframe tbody tr th:only-of-type {\n",
              "        vertical-align: middle;\n",
              "    }\n",
              "\n",
              "    .dataframe tbody tr th {\n",
              "        vertical-align: top;\n",
              "    }\n",
              "\n",
              "    .dataframe thead th {\n",
              "        text-align: right;\n",
              "    }\n",
              "</style>\n",
              "<table border=\"1\" class=\"dataframe\">\n",
              "  <thead>\n",
              "    <tr style=\"text-align: right;\">\n",
              "      <th></th>\n",
              "      <th>0</th>\n",
              "      <th>1</th>\n",
              "    </tr>\n",
              "  </thead>\n",
              "  <tbody>\n",
              "    <tr>\n",
              "      <th>0</th>\n",
              "      <td>False</td>\n",
              "      <td>False</td>\n",
              "    </tr>\n",
              "    <tr>\n",
              "      <th>1</th>\n",
              "      <td>False</td>\n",
              "      <td>False</td>\n",
              "    </tr>\n",
              "    <tr>\n",
              "      <th>2</th>\n",
              "      <td>False</td>\n",
              "      <td>False</td>\n",
              "    </tr>\n",
              "    <tr>\n",
              "      <th>3</th>\n",
              "      <td>False</td>\n",
              "      <td>False</td>\n",
              "    </tr>\n",
              "    <tr>\n",
              "      <th>4</th>\n",
              "      <td>False</td>\n",
              "      <td>False</td>\n",
              "    </tr>\n",
              "    <tr>\n",
              "      <th>...</th>\n",
              "      <td>...</td>\n",
              "      <td>...</td>\n",
              "    </tr>\n",
              "    <tr>\n",
              "      <th>1478263</th>\n",
              "      <td>False</td>\n",
              "      <td>False</td>\n",
              "    </tr>\n",
              "    <tr>\n",
              "      <th>1478264</th>\n",
              "      <td>False</td>\n",
              "      <td>False</td>\n",
              "    </tr>\n",
              "    <tr>\n",
              "      <th>1478265</th>\n",
              "      <td>False</td>\n",
              "      <td>False</td>\n",
              "    </tr>\n",
              "    <tr>\n",
              "      <th>1478266</th>\n",
              "      <td>False</td>\n",
              "      <td>False</td>\n",
              "    </tr>\n",
              "    <tr>\n",
              "      <th>1478267</th>\n",
              "      <td>False</td>\n",
              "      <td>False</td>\n",
              "    </tr>\n",
              "  </tbody>\n",
              "</table>\n",
              "<p>1478268 rows × 2 columns</p>\n",
              "</div>"
            ],
            "text/plain": [
              "             0      1\n",
              "0        False  False\n",
              "1        False  False\n",
              "2        False  False\n",
              "3        False  False\n",
              "4        False  False\n",
              "...        ...    ...\n",
              "1478263  False  False\n",
              "1478264  False  False\n",
              "1478265  False  False\n",
              "1478266  False  False\n",
              "1478267  False  False\n",
              "\n",
              "[1478268 rows x 2 columns]"
            ]
          },
          "metadata": {},
          "execution_count": 31
        }
      ]
    },
    {
      "cell_type": "code",
      "metadata": {
        "colab": {
          "base_uri": "https://localhost:8080/"
        },
        "id": "LC8Rgnb8UfCv",
        "outputId": "b4082821-6738-40e3-cd73-dba6dd91bcb6"
      },
      "source": [
        "#Melakukan Perhitungan Jumlah Missing Value\n",
        "df.isna().sum()"
      ],
      "execution_count": 32,
      "outputs": [
        {
          "output_type": "execute_result",
          "data": {
            "text/plain": [
              "0    20\n",
              "1     0\n",
              "dtype: int64"
            ]
          },
          "metadata": {},
          "execution_count": 32
        }
      ]
    },
    {
      "cell_type": "code",
      "metadata": {
        "colab": {
          "base_uri": "https://localhost:8080/"
        },
        "id": "gq7vA1kxUe0c",
        "outputId": "610447ec-66b9-47e3-e132-e4b4b386d629"
      },
      "source": [
        "#Melakukan drop terhadap Missing Value\n",
        "df.dropna(inplace=True)\n",
        "df.isnull().sum()"
      ],
      "execution_count": 33,
      "outputs": [
        {
          "output_type": "execute_result",
          "data": {
            "text/plain": [
              "0    0\n",
              "1    0\n",
              "dtype: int64"
            ]
          },
          "metadata": {},
          "execution_count": 33
        }
      ]
    },
    {
      "cell_type": "code",
      "metadata": {
        "colab": {
          "base_uri": "https://localhost:8080/"
        },
        "id": "Srd9Lw7sUeHh",
        "outputId": "53fdae69-3b42-4196-8a0d-8a38890edd7f"
      },
      "source": [
        "#Mengecek data yang missing\n",
        "C = (df.dtypes =='object')\n",
        "CategoricalVariables = list(C[C].index)\n",
        "\n",
        "Integer = (df.dtypes =='int64')\n",
        "Float = (df.dtypes =='float64')\n",
        "NumbericVariables = list(Integer[Integer].index) + list(Float[Float].index)\n",
        "\n",
        "Missing_Percentage = (df.isnull().sum()).sum()/np.product(df.shape)*100\n",
        "print(\"The number of missing entries before cleaning: \" +str(round(Missing_Percentage,5)) + \" % \")"
      ],
      "execution_count": 34,
      "outputs": [
        {
          "output_type": "stream",
          "name": "stdout",
          "text": [
            "The number of missing entries before cleaning: 0.0 % \n"
          ]
        }
      ]
    },
    {
      "cell_type": "code",
      "metadata": {
        "colab": {
          "base_uri": "https://localhost:8080/",
          "height": 206
        },
        "id": "XkaZia18Vpp_",
        "outputId": "39f0065d-bd4a-4896-9d74-9a3391d8a5ce"
      },
      "source": [
        "#Melakukan pengambilan data untuk mendapatkan n baris terakhir dari data\n",
        "dataset.tail()"
      ],
      "execution_count": 35,
      "outputs": [
        {
          "output_type": "execute_result",
          "data": {
            "text/html": [
              "<div>\n",
              "<style scoped>\n",
              "    .dataframe tbody tr th:only-of-type {\n",
              "        vertical-align: middle;\n",
              "    }\n",
              "\n",
              "    .dataframe tbody tr th {\n",
              "        vertical-align: top;\n",
              "    }\n",
              "\n",
              "    .dataframe thead th {\n",
              "        text-align: right;\n",
              "    }\n",
              "</style>\n",
              "<table border=\"1\" class=\"dataframe\">\n",
              "  <thead>\n",
              "    <tr style=\"text-align: right;\">\n",
              "      <th></th>\n",
              "      <th>token</th>\n",
              "      <th>entitas bernama</th>\n",
              "      <th>kalimat</th>\n",
              "    </tr>\n",
              "  </thead>\n",
              "  <tbody>\n",
              "    <tr>\n",
              "      <th>1478263</th>\n",
              "      <td>di</td>\n",
              "      <td>O</td>\n",
              "      <td>48957</td>\n",
              "    </tr>\n",
              "    <tr>\n",
              "      <th>1478264</th>\n",
              "      <td>kalangan</td>\n",
              "      <td>O</td>\n",
              "      <td>48957</td>\n",
              "    </tr>\n",
              "    <tr>\n",
              "      <th>1478265</th>\n",
              "      <td>pelajar</td>\n",
              "      <td>O</td>\n",
              "      <td>48957</td>\n",
              "    </tr>\n",
              "    <tr>\n",
              "      <th>1478266</th>\n",
              "      <td>Muhammadiyah</td>\n",
              "      <td>Organisation</td>\n",
              "      <td>48957</td>\n",
              "    </tr>\n",
              "    <tr>\n",
              "      <th>1478267</th>\n",
              "      <td>.</td>\n",
              "      <td>O</td>\n",
              "      <td>48957</td>\n",
              "    </tr>\n",
              "  </tbody>\n",
              "</table>\n",
              "</div>"
            ],
            "text/plain": [
              "                token entitas bernama  kalimat\n",
              "1478263            di               O    48957\n",
              "1478264      kalangan               O    48957\n",
              "1478265       pelajar               O    48957\n",
              "1478266  Muhammadiyah    Organisation    48957\n",
              "1478267             .               O    48957"
            ]
          },
          "metadata": {},
          "execution_count": 35
        }
      ]
    },
    {
      "cell_type": "code",
      "metadata": {
        "colab": {
          "base_uri": "https://localhost:8080/"
        },
        "id": "DbXOVFfOVxZL",
        "outputId": "f32018fe-9b84-45c0-bf4e-2334982c6e37"
      },
      "source": [
        "#Melakukan pengecekan info dasar dari data\n",
        "dataset.info()"
      ],
      "execution_count": 36,
      "outputs": [
        {
          "output_type": "stream",
          "name": "stdout",
          "text": [
            "<class 'pandas.core.frame.DataFrame'>\n",
            "RangeIndex: 1478268 entries, 0 to 1478267\n",
            "Data columns (total 3 columns):\n",
            " #   Column           Non-Null Count    Dtype \n",
            "---  ------           --------------    ----- \n",
            " 0   token            1478268 non-null  object\n",
            " 1   entitas bernama  1478268 non-null  object\n",
            " 2   kalimat          1478268 non-null  int64 \n",
            "dtypes: int64(1), object(2)\n",
            "memory usage: 33.8+ MB\n"
          ]
        }
      ]
    },
    {
      "cell_type": "markdown",
      "metadata": {
        "id": "oWY79zClT8YE"
      },
      "source": [
        "### 2. Expand Contraction"
      ]
    },
    {
      "cell_type": "code",
      "metadata": {
        "id": "7pnVQ2-zT21z"
      },
      "source": [
        "dataset_prep = pd.DataFrame(list_kalimat, columns=['token', 'entitas bernama', 'kalimat'])"
      ],
      "execution_count": 37,
      "outputs": []
    },
    {
      "cell_type": "code",
      "metadata": {
        "colab": {
          "base_uri": "https://localhost:8080/",
          "height": 423
        },
        "id": "6Oxdp_j2UAnw",
        "outputId": "fc84ef3d-6c5e-426e-d715-0289bfd9d3e9"
      },
      "source": [
        "# Memperbaiki format penulisan \n",
        "# re.search = mencari pola itu di dalam string.\n",
        "def perbaikan_format_tanda_baca(dataset_prep):    \n",
        "    for i in dataset_prep.index:\n",
        "        token = re.sub('([.,!?()])', r'\\1 ', dataset_prep.at[i, 'token'])\n",
        "        dataset_prep.at[i, 'token'] = re.sub('\\s{2,}', ' ', token)\n",
        "    return dataset_prep\n",
        "perbaikan_format_tanda_baca(dataset_prep)"
      ],
      "execution_count": 38,
      "outputs": [
        {
          "output_type": "execute_result",
          "data": {
            "text/html": [
              "<div>\n",
              "<style scoped>\n",
              "    .dataframe tbody tr th:only-of-type {\n",
              "        vertical-align: middle;\n",
              "    }\n",
              "\n",
              "    .dataframe tbody tr th {\n",
              "        vertical-align: top;\n",
              "    }\n",
              "\n",
              "    .dataframe thead th {\n",
              "        text-align: right;\n",
              "    }\n",
              "</style>\n",
              "<table border=\"1\" class=\"dataframe\">\n",
              "  <thead>\n",
              "    <tr style=\"text-align: right;\">\n",
              "      <th></th>\n",
              "      <th>token</th>\n",
              "      <th>entitas bernama</th>\n",
              "      <th>kalimat</th>\n",
              "    </tr>\n",
              "  </thead>\n",
              "  <tbody>\n",
              "    <tr>\n",
              "      <th>0</th>\n",
              "      <td>Ia</td>\n",
              "      <td>O</td>\n",
              "      <td>1</td>\n",
              "    </tr>\n",
              "    <tr>\n",
              "      <th>1</th>\n",
              "      <td>menjabat</td>\n",
              "      <td>O</td>\n",
              "      <td>1</td>\n",
              "    </tr>\n",
              "    <tr>\n",
              "      <th>2</th>\n",
              "      <td>sebagai</td>\n",
              "      <td>O</td>\n",
              "      <td>1</td>\n",
              "    </tr>\n",
              "    <tr>\n",
              "      <th>3</th>\n",
              "      <td>Presiden</td>\n",
              "      <td>O</td>\n",
              "      <td>1</td>\n",
              "    </tr>\n",
              "    <tr>\n",
              "      <th>4</th>\n",
              "      <td>ketiga</td>\n",
              "      <td>O</td>\n",
              "      <td>1</td>\n",
              "    </tr>\n",
              "    <tr>\n",
              "      <th>...</th>\n",
              "      <td>...</td>\n",
              "      <td>...</td>\n",
              "      <td>...</td>\n",
              "    </tr>\n",
              "    <tr>\n",
              "      <th>1478263</th>\n",
              "      <td>di</td>\n",
              "      <td>O</td>\n",
              "      <td>48957</td>\n",
              "    </tr>\n",
              "    <tr>\n",
              "      <th>1478264</th>\n",
              "      <td>kalangan</td>\n",
              "      <td>O</td>\n",
              "      <td>48957</td>\n",
              "    </tr>\n",
              "    <tr>\n",
              "      <th>1478265</th>\n",
              "      <td>pelajar</td>\n",
              "      <td>O</td>\n",
              "      <td>48957</td>\n",
              "    </tr>\n",
              "    <tr>\n",
              "      <th>1478266</th>\n",
              "      <td>Muhammadiyah</td>\n",
              "      <td>Organisation</td>\n",
              "      <td>48957</td>\n",
              "    </tr>\n",
              "    <tr>\n",
              "      <th>1478267</th>\n",
              "      <td>.</td>\n",
              "      <td>O</td>\n",
              "      <td>48957</td>\n",
              "    </tr>\n",
              "  </tbody>\n",
              "</table>\n",
              "<p>1478268 rows × 3 columns</p>\n",
              "</div>"
            ],
            "text/plain": [
              "                token entitas bernama  kalimat\n",
              "0                  Ia               O        1\n",
              "1            menjabat               O        1\n",
              "2             sebagai               O        1\n",
              "3            Presiden               O        1\n",
              "4              ketiga               O        1\n",
              "...               ...             ...      ...\n",
              "1478263            di               O    48957\n",
              "1478264      kalangan               O    48957\n",
              "1478265       pelajar               O    48957\n",
              "1478266  Muhammadiyah    Organisation    48957\n",
              "1478267            .                O    48957\n",
              "\n",
              "[1478268 rows x 3 columns]"
            ]
          },
          "metadata": {},
          "execution_count": 38
        }
      ]
    },
    {
      "cell_type": "code",
      "metadata": {
        "colab": {
          "base_uri": "https://localhost:8080/"
        },
        "id": "hUjfx-VuUA11",
        "outputId": "061ce088-afe2-44ec-f339-60fa9720c4cc"
      },
      "source": [
        "dataset_prep.iloc[392707]"
      ],
      "execution_count": 39,
      "outputs": [
        {
          "output_type": "execute_result",
          "data": {
            "text/plain": [
              "token                 , \n",
              "entitas bernama        O\n",
              "kalimat            12975\n",
              "Name: 392707, dtype: object"
            ]
          },
          "metadata": {},
          "execution_count": 39
        }
      ]
    },
    {
      "cell_type": "code",
      "metadata": {
        "id": "1ytPGxEwUFZ2"
      },
      "source": [
        "# menambahkan dictionary singkatan\n",
        "import re\n",
        "contractions_dict = {\n",
        "\"a.l. \": \"antara lain\",\n",
        "\"A.M.v.B. \": \"Algemene Maatregel van Bestuur\",\n",
        "\"a.n. \": \"atas nama\",\n",
        "\"adm. \": \"administrasi\",\n",
        "\"UU \" : \"undang-undang\",\n",
        "\"art. \": \"artikel\",\n",
        "\"Ass. Supt. \":\"asisten superintenden\",\n",
        "\"B.A. \": \"Bachelor of Arts\",\n",
        "\"B.B.A. \": \"Bachelor of Business Administration\",\n",
        "\"B.Ch.E \": \"Bachelor of Chemical Engineering\",\n",
        "\"B.Sc. \": \"Bachelor of Science\",\n",
        "\"Bpk. \": \"Bapak\",\n",
        "\"BRAy. \": \"Bendara Raden Ayu\",\n",
        "\"CC \": \"carbon copy\",\n",
        "\"D.Sc. \": \"doctor of science\",\n",
        "\"dkk. \": \"dan kawan-kawan\",\n",
        "\"dll. \": \"dan lain-lain\",\n",
        "\"Dr.h.c \": \"Doctor Honoris Causa\",\n",
        "\"Dr.Phil. \": \"Doctor of Philosophy\",\n",
        "\"Dr.Th. \": \"Doctor Theologiae\",\n",
        "\"dr. \": \"dokter medis (profesi)\",\n",
        "\"Dr. \": \"Doktor (gelar akademik)\",\n",
        "\"Dra. \": \"Doktoranda\",\n",
        "\"Drg. \": \"Dokter Gigi\",\n",
        "\"drh. \": \"dokter hewan\",\n",
        "\"Drs. \": \"Doktorandus\",\n",
        "\"dsb. \": \"dan lain sebagainya\", \n",
        "\"dsb. \" : \"dan sebagainya\",\n",
        "\"dst. \": \"dan seterusnya\",\n",
        "\"E.Z. \": \"Economische Zaken\",\n",
        "\"ed. \": \"editor\", \n",
        "\"ed. \": \"edisi\",\n",
        "\"faks. \" : \"faksimile\",\n",
        "\"fol. \" : \"folio\",\n",
        "\"Fr. \" : \"frater\",\n",
        "\"Gg. \" : \"gang\",\n",
        "\"gg. \" : \"gang\",\n",
        "\"H. \" : \"Haji\",\n",
        "\"Hj. \" : \"Hajah\",\n",
        "\"hlm. \" : \"halaman\",\n",
        "\"Ir. \" : \"insinyur\",\n",
        "\"jln. \" :\"jalan \",\n",
        "\"jl. \" : \"jalan \",\n",
        "\"Jl. \" : \"jalan \",\n",
        "\"jo. \" : \"juncto\",\n",
        "\"Jr. \" : \"junior\",\n",
        "\"K.H. \" : \"kiai haji\",\n",
        "\"K. \" : \"kiai\",\n",
        "\"ka. \" : \"Kepala\",\n",
        "\"kab. \" : \"kabinet\", \n",
        "\"kab. \" : \"kabupaten\",\n",
        "\"kapt. \" : \"kapten\",\n",
        "\"kec. \" : \"kecamatan\",\n",
        "\"kel. \" : \"kelurahan\",  \n",
        "\"kel. \" : \"keluarga\",\n",
        "\"kep. \" : \"keputusan\",\n",
        "\"kp. \" : \"Kampung\",\n",
        "\"lamp. \" : \"lampiran\",\n",
        "\"LL.B \" : \"Legum Baccalaureus\",\n",
        "\"LL.D \" : \"Legum Doctor\",\n",
        "\"log. \" : \"logistik\",\n",
        "\"M.A. \" :\"master of arts\",\n",
        "\"M.Ag. \" : \"magister agama\",\n",
        "\"M.B.A. \" : \"master of business administration\",\n",
        "\"M.Hum. \" : \"Magister Humaniora\",\n",
        "\"M.Hum. \" : \"magister humaniora\",\n",
        "\"M.Kes. \" : \"magister kesehatan\",\n",
        "\"M.Kom. \" : \"magister komunikasi\",\n",
        "\"M.M. \" : \"magister manajemen\",\n",
        "\"M.P.A. \" : \"master of public administration\",\n",
        "\"M.P.H. \" : \"master of public health\",\n",
        "\"M.P. \" : \"magister pertanian\",\n",
        "\"M.Pd. \" : \"magister pendidikan\",\n",
        "\"M.Ph. \" : \"master of philosophy\",\n",
        "\"M.Sc. \" : \"master of science\",\n",
        "\"M.Si. \" : \"magister sains\",\n",
        "\"M.Sn. \" : \"magister seni\",\n",
        "\"M.T. \" : \"magister teknik\",\n",
        "\"Mgr. \" : \"monseignor\",\n",
        "\"Mr. \" : \"meester in de rechten\",\n",
        "\"Mrs. \" : \"Mistress\",\n",
        "\"Nb \" : \"Notabene\",\n",
        "\"Nn. \" : \"Nona\",\n",
        "\"no. \" : \"nomor\",\n",
        "\"No. \" : \"nomor\",\n",
        "\"Ny. \" : \"nyonya\",\n",
        "\"op cit. \" : \"opere citato\",\n",
        "\"org. \" : \"Orang\",\n",
        "\"p.p. \" : \"pulang pergi\",\n",
        "\"Ph.D. \" : \"philosophiae doctor\",\n",
        "\"pjs. \" : \"Pejabat sementara\",\n",
        "\"PPn. \" : \"pajak pendapatan\",\n",
        "\"PPN \" : \"pajak pertambahan nilai\",\n",
        "\"prof. \" : \"profesor\",\n",
        "\"Psi. \" : \"Psikologi\",\n",
        "\"psw. \" : \"Pesawat (telepon)\",\n",
        "\"R.A. \" : \"Raden Ajeng\",\n",
        "\"red. \" : \"redaksi\",\n",
        "\"reg. \" : \"register\",\n",
        "\"rhs. \" : \"Rahasia\",\n",
        "\"Rr. \" : \"Raden roro\",\n",
        "\"S.Ag. \": \"Sarjana Agama\",\n",
        "\"S.E. \": \"Sarjana Ekonomi\",\n",
        "\"S.H. \": \"Sarjana Hukum\",\n",
        "\"S.Hut. \": \"Sarjana Kehutanan\",\n",
        "\"S.I.Kom. \": \"Sarjana Ilmu Komunikasi\",\n",
        "\"S.K.M. \": \"Sarjana Kesehatan Masyarakat\",\n",
        "\"S.Kedg. \": \"Sarjana Kedokteran Gigi\",\n",
        "\"S.Kedh. \": \"Sarjana Kedokteran Hewan\",\n",
        "\"S.Kom. \": \"Sarjana Ilmu Komputer\",\n",
        "\"S.Pd. \": \"Sarjana Pendidikan\",\n",
        "\"S.Pd \": \"Sarjana Pendidikan\",\n",
        "\"S.Pol. \": \"Sarjana IImu Politik\",\n",
        "\"S.Psi. \": \"Sarjana Psikologi\",\n",
        "\"S.S. \": \"Sarjana Sastra\",\n",
        "\"S.Si. \": \"Sarjana Sains\",\n",
        "\"S.Sn. \": \"Sarjana Seni\",\n",
        "\"S.Sos. \": \"Sarjana Ilmu Sosial\",\n",
        "\"S.T. \": \"Sarjana Teknik\",\n",
        "\"S.Tekp. \" : \"Sarjana Teknologi Pertanian\",\n",
        "\"S.Th. \": \"Sarjana Theologi\",\n",
        "\"sbb. \": \"sebagai berikut\",\n",
        "\"ssk. \": \"satuan saham kolektif\", \n",
        "\"ssk. \":\"satuan setingkat kompi\",\n",
        "\"St. \": \"Sutan\",\n",
        "\"SY. \": \"Serikat Yesuit\",\n",
        "\"T. \" : \"teuku\",\n",
        "\"Tap. \": \"Ketetapan\",\n",
        "\"Tb. \": \"Tubagus\",\n",
        "\"tel. \":\" telepon\",\n",
        "\"vol. \": \"volume\",\n",
        "\"ybs. \": \"yang bersangkutan\",\n",
        "\"ytc. \": \"Yang Tercinta\",\n",
        "\"yth. \": \"Yang Terhormat\",\n",
        "}"
      ],
      "execution_count": 40,
      "outputs": []
    },
    {
      "cell_type": "code",
      "metadata": {
        "colab": {
          "base_uri": "https://localhost:8080/",
          "height": 423
        },
        "id": "TKrYQu6BUA9k",
        "outputId": "2109232c-492d-4098-dd1f-273bfc24c634"
      },
      "source": [
        "#show singkatan\n",
        "dataset_prep[dataset_prep.token.str.contains('|'.join(contractions_dict.keys()), regex=True)]"
      ],
      "execution_count": 41,
      "outputs": [
        {
          "output_type": "execute_result",
          "data": {
            "text/html": [
              "<div>\n",
              "<style scoped>\n",
              "    .dataframe tbody tr th:only-of-type {\n",
              "        vertical-align: middle;\n",
              "    }\n",
              "\n",
              "    .dataframe tbody tr th {\n",
              "        vertical-align: top;\n",
              "    }\n",
              "\n",
              "    .dataframe thead th {\n",
              "        text-align: right;\n",
              "    }\n",
              "</style>\n",
              "<table border=\"1\" class=\"dataframe\">\n",
              "  <thead>\n",
              "    <tr style=\"text-align: right;\">\n",
              "      <th></th>\n",
              "      <th>token</th>\n",
              "      <th>entitas bernama</th>\n",
              "      <th>kalimat</th>\n",
              "    </tr>\n",
              "  </thead>\n",
              "  <tbody>\n",
              "    <tr>\n",
              "      <th>412</th>\n",
              "      <td>W. H.</td>\n",
              "      <td>O</td>\n",
              "      <td>14</td>\n",
              "    </tr>\n",
              "    <tr>\n",
              "      <th>2716</th>\n",
              "      <td>Dr.</td>\n",
              "      <td>O</td>\n",
              "      <td>94</td>\n",
              "    </tr>\n",
              "    <tr>\n",
              "      <th>2862</th>\n",
              "      <td>Mr.</td>\n",
              "      <td>O</td>\n",
              "      <td>100</td>\n",
              "    </tr>\n",
              "    <tr>\n",
              "      <th>4737</th>\n",
              "      <td>H.</td>\n",
              "      <td>O</td>\n",
              "      <td>158</td>\n",
              "    </tr>\n",
              "    <tr>\n",
              "      <th>4885</th>\n",
              "      <td>H.</td>\n",
              "      <td>O</td>\n",
              "      <td>163</td>\n",
              "    </tr>\n",
              "    <tr>\n",
              "      <th>...</th>\n",
              "      <td>...</td>\n",
              "      <td>...</td>\n",
              "      <td>...</td>\n",
              "    </tr>\n",
              "    <tr>\n",
              "      <th>1472406</th>\n",
              "      <td>St.</td>\n",
              "      <td>O</td>\n",
              "      <td>48758</td>\n",
              "    </tr>\n",
              "    <tr>\n",
              "      <th>1474016</th>\n",
              "      <td>S. H.</td>\n",
              "      <td>O</td>\n",
              "      <td>48810</td>\n",
              "    </tr>\n",
              "    <tr>\n",
              "      <th>1474035</th>\n",
              "      <td>S. H.</td>\n",
              "      <td>O</td>\n",
              "      <td>48810</td>\n",
              "    </tr>\n",
              "    <tr>\n",
              "      <th>1474331</th>\n",
              "      <td>Dr.</td>\n",
              "      <td>O</td>\n",
              "      <td>48822</td>\n",
              "    </tr>\n",
              "    <tr>\n",
              "      <th>1475058</th>\n",
              "      <td>H.</td>\n",
              "      <td>O</td>\n",
              "      <td>48848</td>\n",
              "    </tr>\n",
              "  </tbody>\n",
              "</table>\n",
              "<p>1760 rows × 3 columns</p>\n",
              "</div>"
            ],
            "text/plain": [
              "          token entitas bernama  kalimat\n",
              "412      W. H.                O       14\n",
              "2716       Dr.                O       94\n",
              "2862       Mr.                O      100\n",
              "4737        H.                O      158\n",
              "4885        H.                O      163\n",
              "...         ...             ...      ...\n",
              "1472406    St.                O    48758\n",
              "1474016  S. H.                O    48810\n",
              "1474035  S. H.                O    48810\n",
              "1474331    Dr.                O    48822\n",
              "1475058     H.                O    48848\n",
              "\n",
              "[1760 rows x 3 columns]"
            ]
          },
          "metadata": {},
          "execution_count": 41
        }
      ]
    },
    {
      "cell_type": "code",
      "metadata": {
        "id": "_6LgRsKBUBFT"
      },
      "source": [
        "#untuk expand contraction\n",
        "dataset_prep.token.replace(to_replace=contractions_dict, inplace=True, value=None, method=None, regex=True)"
      ],
      "execution_count": 42,
      "outputs": []
    },
    {
      "cell_type": "code",
      "metadata": {
        "colab": {
          "base_uri": "https://localhost:8080/",
          "height": 143
        },
        "id": "FYiNcZTrUMEH",
        "outputId": "dbb4d067-58d4-4ad7-9df8-dcbe632111cf"
      },
      "source": [
        "#Membuat dataframe yang berisi token sebelum dan setelah di expand\n",
        "df_result = pd.concat([dataset, dataset_prep], axis=1, join='inner')# menggabungkan kedua dataframe\n",
        "df_result = df_result.drop(columns=['entitas bernama', 'kalimat']) #menghapus kolom kalimat dan entitas bernama\n",
        "df_result.columns.values[0] = \"before_expand\" # mengubah nama kolom\n",
        "df_result.columns.values[1] = \"after_expand\"\n",
        "display(df_result.loc[[4740,392707,1329234], :]) # menampilkan hasil akhir dataframe"
      ],
      "execution_count": 43,
      "outputs": [
        {
          "output_type": "display_data",
          "data": {
            "text/html": [
              "<div>\n",
              "<style scoped>\n",
              "    .dataframe tbody tr th:only-of-type {\n",
              "        vertical-align: middle;\n",
              "    }\n",
              "\n",
              "    .dataframe tbody tr th {\n",
              "        vertical-align: top;\n",
              "    }\n",
              "\n",
              "    .dataframe thead th {\n",
              "        text-align: right;\n",
              "    }\n",
              "</style>\n",
              "<table border=\"1\" class=\"dataframe\">\n",
              "  <thead>\n",
              "    <tr style=\"text-align: right;\">\n",
              "      <th></th>\n",
              "      <th>before_expand</th>\n",
              "      <th>after_expand</th>\n",
              "    </tr>\n",
              "  </thead>\n",
              "  <tbody>\n",
              "    <tr>\n",
              "      <th>4740</th>\n",
              "      <td>ER</td>\n",
              "      <td>ER</td>\n",
              "    </tr>\n",
              "    <tr>\n",
              "      <th>392707</th>\n",
              "      <td>,</td>\n",
              "      <td>,</td>\n",
              "    </tr>\n",
              "    <tr>\n",
              "      <th>1329234</th>\n",
              "      <td>diterbitkan</td>\n",
              "      <td>diterbitkan</td>\n",
              "    </tr>\n",
              "  </tbody>\n",
              "</table>\n",
              "</div>"
            ],
            "text/plain": [
              "        before_expand after_expand\n",
              "4740               ER           ER\n",
              "392707              ,           , \n",
              "1329234   diterbitkan  diterbitkan"
            ]
          },
          "metadata": {}
        }
      ]
    },
    {
      "cell_type": "markdown",
      "metadata": {
        "id": "308Urp42bGIA"
      },
      "source": [
        "### 3. Lowercasing\n"
      ]
    },
    {
      "cell_type": "code",
      "metadata": {
        "colab": {
          "base_uri": "https://localhost:8080/",
          "height": 206
        },
        "id": "TX9WFiUlbEuz",
        "outputId": "b9005555-b9e1-4624-ea37-c06f52599907"
      },
      "source": [
        "#Mengubah upper case menjadi lower case\n",
        "dataset_prep[\"token\"] = dataset_prep[\"token\"].str.lower()\n",
        "dataset_prep.head() "
      ],
      "execution_count": 44,
      "outputs": [
        {
          "output_type": "execute_result",
          "data": {
            "text/html": [
              "<div>\n",
              "<style scoped>\n",
              "    .dataframe tbody tr th:only-of-type {\n",
              "        vertical-align: middle;\n",
              "    }\n",
              "\n",
              "    .dataframe tbody tr th {\n",
              "        vertical-align: top;\n",
              "    }\n",
              "\n",
              "    .dataframe thead th {\n",
              "        text-align: right;\n",
              "    }\n",
              "</style>\n",
              "<table border=\"1\" class=\"dataframe\">\n",
              "  <thead>\n",
              "    <tr style=\"text-align: right;\">\n",
              "      <th></th>\n",
              "      <th>token</th>\n",
              "      <th>entitas bernama</th>\n",
              "      <th>kalimat</th>\n",
              "    </tr>\n",
              "  </thead>\n",
              "  <tbody>\n",
              "    <tr>\n",
              "      <th>0</th>\n",
              "      <td>ia</td>\n",
              "      <td>O</td>\n",
              "      <td>1</td>\n",
              "    </tr>\n",
              "    <tr>\n",
              "      <th>1</th>\n",
              "      <td>menjabat</td>\n",
              "      <td>O</td>\n",
              "      <td>1</td>\n",
              "    </tr>\n",
              "    <tr>\n",
              "      <th>2</th>\n",
              "      <td>sebagai</td>\n",
              "      <td>O</td>\n",
              "      <td>1</td>\n",
              "    </tr>\n",
              "    <tr>\n",
              "      <th>3</th>\n",
              "      <td>presiden</td>\n",
              "      <td>O</td>\n",
              "      <td>1</td>\n",
              "    </tr>\n",
              "    <tr>\n",
              "      <th>4</th>\n",
              "      <td>ketiga</td>\n",
              "      <td>O</td>\n",
              "      <td>1</td>\n",
              "    </tr>\n",
              "  </tbody>\n",
              "</table>\n",
              "</div>"
            ],
            "text/plain": [
              "      token entitas bernama  kalimat\n",
              "0        ia               O        1\n",
              "1  menjabat               O        1\n",
              "2   sebagai               O        1\n",
              "3  presiden               O        1\n",
              "4    ketiga               O        1"
            ]
          },
          "metadata": {},
          "execution_count": 44
        }
      ]
    },
    {
      "cell_type": "markdown",
      "metadata": {
        "id": "ftFUwkHLbXGv"
      },
      "source": [
        "### 4. Anotasi BIO"
      ]
    },
    {
      "cell_type": "code",
      "metadata": {
        "id": "lhU6Gy1TbMR1"
      },
      "source": [
        "bio_tag = []\n",
        "prev_tag = \"O\"\n",
        "for tag in dataset_prep['entitas bernama']:\n",
        "\t\tif tag == \"O\": #O\n",
        "\t\t\tbio_tag.append((tag))\n",
        "\t\t\tprev_tag = tag\n",
        "\t\t\tcontinue\n",
        "\t\tif tag != \"O\" and prev_tag == \"O\": # Begin NE\n",
        "\t\t\tbio_tag.append((\"B-\"+tag))\n",
        "\t\t\tprev_tag = tag\n",
        "\t\telif prev_tag != \"O\" and prev_tag == tag: # Inside NE\n",
        "\t\t\tbio_tag.append((\"I-\"+tag))\n",
        "\t\t\tprev_tag = tag\n",
        "\t\telif prev_tag != \"O\" and prev_tag != tag: # NE yang berdekatan\n",
        "\t\t\tbio_tag.append(( \"B-\"+tag))\n",
        "\t\t\tprev_tag = tag  "
      ],
      "execution_count": 45,
      "outputs": []
    },
    {
      "cell_type": "code",
      "metadata": {
        "colab": {
          "base_uri": "https://localhost:8080/",
          "height": 423
        },
        "id": "KF9KehntbWbQ",
        "outputId": "d4edbd24-6e08-4773-9ef5-8032885e5a25"
      },
      "source": [
        "#menambahkan bio ke dataset\n",
        "dataset_prep['bio_tag'] = bio_tag\n",
        "dataset_prep.iloc[:10279]"
      ],
      "execution_count": 46,
      "outputs": [
        {
          "output_type": "execute_result",
          "data": {
            "text/html": [
              "<div>\n",
              "<style scoped>\n",
              "    .dataframe tbody tr th:only-of-type {\n",
              "        vertical-align: middle;\n",
              "    }\n",
              "\n",
              "    .dataframe tbody tr th {\n",
              "        vertical-align: top;\n",
              "    }\n",
              "\n",
              "    .dataframe thead th {\n",
              "        text-align: right;\n",
              "    }\n",
              "</style>\n",
              "<table border=\"1\" class=\"dataframe\">\n",
              "  <thead>\n",
              "    <tr style=\"text-align: right;\">\n",
              "      <th></th>\n",
              "      <th>token</th>\n",
              "      <th>entitas bernama</th>\n",
              "      <th>kalimat</th>\n",
              "      <th>bio_tag</th>\n",
              "    </tr>\n",
              "  </thead>\n",
              "  <tbody>\n",
              "    <tr>\n",
              "      <th>0</th>\n",
              "      <td>ia</td>\n",
              "      <td>O</td>\n",
              "      <td>1</td>\n",
              "      <td>O</td>\n",
              "    </tr>\n",
              "    <tr>\n",
              "      <th>1</th>\n",
              "      <td>menjabat</td>\n",
              "      <td>O</td>\n",
              "      <td>1</td>\n",
              "      <td>O</td>\n",
              "    </tr>\n",
              "    <tr>\n",
              "      <th>2</th>\n",
              "      <td>sebagai</td>\n",
              "      <td>O</td>\n",
              "      <td>1</td>\n",
              "      <td>O</td>\n",
              "    </tr>\n",
              "    <tr>\n",
              "      <th>3</th>\n",
              "      <td>presiden</td>\n",
              "      <td>O</td>\n",
              "      <td>1</td>\n",
              "      <td>O</td>\n",
              "    </tr>\n",
              "    <tr>\n",
              "      <th>4</th>\n",
              "      <td>ketiga</td>\n",
              "      <td>O</td>\n",
              "      <td>1</td>\n",
              "      <td>O</td>\n",
              "    </tr>\n",
              "    <tr>\n",
              "      <th>...</th>\n",
              "      <td>...</td>\n",
              "      <td>...</td>\n",
              "      <td>...</td>\n",
              "      <td>...</td>\n",
              "    </tr>\n",
              "    <tr>\n",
              "      <th>10274</th>\n",
              "      <td>,</td>\n",
              "      <td>O</td>\n",
              "      <td>338</td>\n",
              "      <td>O</td>\n",
              "    </tr>\n",
              "    <tr>\n",
              "      <th>10275</th>\n",
              "      <td>binduriang</td>\n",
              "      <td>Place</td>\n",
              "      <td>338</td>\n",
              "      <td>B-Place</td>\n",
              "    </tr>\n",
              "    <tr>\n",
              "      <th>10276</th>\n",
              "      <td>,</td>\n",
              "      <td>O</td>\n",
              "      <td>338</td>\n",
              "      <td>O</td>\n",
              "    </tr>\n",
              "    <tr>\n",
              "      <th>10277</th>\n",
              "      <td>sindang</td>\n",
              "      <td>Place</td>\n",
              "      <td>338</td>\n",
              "      <td>B-Place</td>\n",
              "    </tr>\n",
              "    <tr>\n",
              "      <th>10278</th>\n",
              "      <td>dataran</td>\n",
              "      <td>Place</td>\n",
              "      <td>338</td>\n",
              "      <td>I-Place</td>\n",
              "    </tr>\n",
              "  </tbody>\n",
              "</table>\n",
              "<p>10279 rows × 4 columns</p>\n",
              "</div>"
            ],
            "text/plain": [
              "            token entitas bernama  kalimat  bio_tag\n",
              "0              ia               O        1        O\n",
              "1        menjabat               O        1        O\n",
              "2         sebagai               O        1        O\n",
              "3        presiden               O        1        O\n",
              "4          ketiga               O        1        O\n",
              "...           ...             ...      ...      ...\n",
              "10274          ,                O      338        O\n",
              "10275  binduriang           Place      338  B-Place\n",
              "10276          ,                O      338        O\n",
              "10277     sindang           Place      338  B-Place\n",
              "10278     dataran           Place      338  I-Place\n",
              "\n",
              "[10279 rows x 4 columns]"
            ]
          },
          "metadata": {},
          "execution_count": 46
        }
      ]
    },
    {
      "cell_type": "code",
      "metadata": {
        "colab": {
          "base_uri": "https://localhost:8080/",
          "height": 423
        },
        "id": "sPBz--hMbMN9",
        "outputId": "28595472-6057-4438-d134-f977b0731dae"
      },
      "source": [
        "dataset_prep.iloc[:8511]"
      ],
      "execution_count": 47,
      "outputs": [
        {
          "output_type": "execute_result",
          "data": {
            "text/html": [
              "<div>\n",
              "<style scoped>\n",
              "    .dataframe tbody tr th:only-of-type {\n",
              "        vertical-align: middle;\n",
              "    }\n",
              "\n",
              "    .dataframe tbody tr th {\n",
              "        vertical-align: top;\n",
              "    }\n",
              "\n",
              "    .dataframe thead th {\n",
              "        text-align: right;\n",
              "    }\n",
              "</style>\n",
              "<table border=\"1\" class=\"dataframe\">\n",
              "  <thead>\n",
              "    <tr style=\"text-align: right;\">\n",
              "      <th></th>\n",
              "      <th>token</th>\n",
              "      <th>entitas bernama</th>\n",
              "      <th>kalimat</th>\n",
              "      <th>bio_tag</th>\n",
              "    </tr>\n",
              "  </thead>\n",
              "  <tbody>\n",
              "    <tr>\n",
              "      <th>0</th>\n",
              "      <td>ia</td>\n",
              "      <td>O</td>\n",
              "      <td>1</td>\n",
              "      <td>O</td>\n",
              "    </tr>\n",
              "    <tr>\n",
              "      <th>1</th>\n",
              "      <td>menjabat</td>\n",
              "      <td>O</td>\n",
              "      <td>1</td>\n",
              "      <td>O</td>\n",
              "    </tr>\n",
              "    <tr>\n",
              "      <th>2</th>\n",
              "      <td>sebagai</td>\n",
              "      <td>O</td>\n",
              "      <td>1</td>\n",
              "      <td>O</td>\n",
              "    </tr>\n",
              "    <tr>\n",
              "      <th>3</th>\n",
              "      <td>presiden</td>\n",
              "      <td>O</td>\n",
              "      <td>1</td>\n",
              "      <td>O</td>\n",
              "    </tr>\n",
              "    <tr>\n",
              "      <th>4</th>\n",
              "      <td>ketiga</td>\n",
              "      <td>O</td>\n",
              "      <td>1</td>\n",
              "      <td>O</td>\n",
              "    </tr>\n",
              "    <tr>\n",
              "      <th>...</th>\n",
              "      <td>...</td>\n",
              "      <td>...</td>\n",
              "      <td>...</td>\n",
              "      <td>...</td>\n",
              "    </tr>\n",
              "    <tr>\n",
              "      <th>8506</th>\n",
              "      <td>deli</td>\n",
              "      <td>Person</td>\n",
              "      <td>285</td>\n",
              "      <td>B-Person</td>\n",
              "    </tr>\n",
              "    <tr>\n",
              "      <th>8507</th>\n",
              "      <td>san</td>\n",
              "      <td>O</td>\n",
              "      <td>285</td>\n",
              "      <td>O</td>\n",
              "    </tr>\n",
              "    <tr>\n",
              "      <th>8508</th>\n",
              "      <td>serdang</td>\n",
              "      <td>O</td>\n",
              "      <td>285</td>\n",
              "      <td>O</td>\n",
              "    </tr>\n",
              "    <tr>\n",
              "      <th>8509</th>\n",
              "      <td>suku</td>\n",
              "      <td>O</td>\n",
              "      <td>285</td>\n",
              "      <td>O</td>\n",
              "    </tr>\n",
              "    <tr>\n",
              "      <th>8510</th>\n",
              "      <td>karo</td>\n",
              "      <td>Place</td>\n",
              "      <td>285</td>\n",
              "      <td>B-Place</td>\n",
              "    </tr>\n",
              "  </tbody>\n",
              "</table>\n",
              "<p>8511 rows × 4 columns</p>\n",
              "</div>"
            ],
            "text/plain": [
              "         token entitas bernama  kalimat   bio_tag\n",
              "0           ia               O        1         O\n",
              "1     menjabat               O        1         O\n",
              "2      sebagai               O        1         O\n",
              "3     presiden               O        1         O\n",
              "4       ketiga               O        1         O\n",
              "...        ...             ...      ...       ...\n",
              "8506      deli          Person      285  B-Person\n",
              "8507       san               O      285         O\n",
              "8508   serdang               O      285         O\n",
              "8509      suku               O      285         O\n",
              "8510      karo           Place      285   B-Place\n",
              "\n",
              "[8511 rows x 4 columns]"
            ]
          },
          "metadata": {},
          "execution_count": 47
        }
      ]
    },
    {
      "cell_type": "code",
      "metadata": {
        "id": "7Bi7bL8zbMK4"
      },
      "source": [
        "#delete kolom entitas bernama\n",
        "del dataset_prep['entitas bernama']"
      ],
      "execution_count": 48,
      "outputs": []
    },
    {
      "cell_type": "code",
      "metadata": {
        "id": "bFX2KVcCblYX"
      },
      "source": [
        "#mengubah kolom bio_tag menjadi entitas bernama\n",
        "dataset_prep.rename(columns={'bio_tag':'entitas bernama'}, inplace=True)"
      ],
      "execution_count": 49,
      "outputs": []
    },
    {
      "cell_type": "code",
      "metadata": {
        "id": "NPG4q19yblhB"
      },
      "source": [
        "#Mengubah posisi kolom\n",
        "dataset_prep = dataset_prep[['token', 'entitas bernama', 'kalimat']]\n",
        "cols = list(dataset_prep.columns.values)"
      ],
      "execution_count": 50,
      "outputs": []
    },
    {
      "cell_type": "code",
      "metadata": {
        "id": "jFuBeIhsbljs"
      },
      "source": [
        "#dataset_prep.to_csv('ner_dataset.tsv') "
      ],
      "execution_count": 51,
      "outputs": []
    },
    {
      "cell_type": "markdown",
      "metadata": {
        "id": "NZt1oddZbtUX"
      },
      "source": [
        "Membaca dataset yang telah di preprocessing"
      ]
    },
    {
      "cell_type": "code",
      "metadata": {
        "id": "s-svn8b8blq4",
        "colab": {
          "base_uri": "https://localhost:8080/",
          "height": 206
        },
        "outputId": "93bd8feb-66db-44dc-f882-e21aafe797ac"
      },
      "source": [
        "#meload dataset baru\n",
        "ner_dataset = pd.read_csv('/content/ner_dataset.tsv')\n",
        "ner_dataset.head()"
      ],
      "execution_count": 52,
      "outputs": [
        {
          "output_type": "execute_result",
          "data": {
            "text/html": [
              "<div>\n",
              "<style scoped>\n",
              "    .dataframe tbody tr th:only-of-type {\n",
              "        vertical-align: middle;\n",
              "    }\n",
              "\n",
              "    .dataframe tbody tr th {\n",
              "        vertical-align: top;\n",
              "    }\n",
              "\n",
              "    .dataframe thead th {\n",
              "        text-align: right;\n",
              "    }\n",
              "</style>\n",
              "<table border=\"1\" class=\"dataframe\">\n",
              "  <thead>\n",
              "    <tr style=\"text-align: right;\">\n",
              "      <th></th>\n",
              "      <th>token</th>\n",
              "      <th>entitas bernama</th>\n",
              "      <th>no_kalimat</th>\n",
              "    </tr>\n",
              "  </thead>\n",
              "  <tbody>\n",
              "    <tr>\n",
              "      <th>0</th>\n",
              "      <td>ia</td>\n",
              "      <td>O</td>\n",
              "      <td>1</td>\n",
              "    </tr>\n",
              "    <tr>\n",
              "      <th>1</th>\n",
              "      <td>menjabat</td>\n",
              "      <td>O</td>\n",
              "      <td>1</td>\n",
              "    </tr>\n",
              "    <tr>\n",
              "      <th>2</th>\n",
              "      <td>sebagai</td>\n",
              "      <td>O</td>\n",
              "      <td>1</td>\n",
              "    </tr>\n",
              "    <tr>\n",
              "      <th>3</th>\n",
              "      <td>presiden</td>\n",
              "      <td>O</td>\n",
              "      <td>1</td>\n",
              "    </tr>\n",
              "    <tr>\n",
              "      <th>4</th>\n",
              "      <td>ketiga</td>\n",
              "      <td>O</td>\n",
              "      <td>1</td>\n",
              "    </tr>\n",
              "  </tbody>\n",
              "</table>\n",
              "</div>"
            ],
            "text/plain": [
              "      token entitas bernama  no_kalimat\n",
              "0        ia               O           1\n",
              "1  menjabat               O           1\n",
              "2   sebagai               O           1\n",
              "3  presiden               O           1\n",
              "4    ketiga               O           1"
            ]
          },
          "metadata": {},
          "execution_count": 52
        }
      ]
    },
    {
      "cell_type": "code",
      "metadata": {
        "colab": {
          "base_uri": "https://localhost:8080/"
        },
        "id": "56qntw4Xf4yT",
        "outputId": "d0370431-212b-4ce4-8a00-39cf9d74410e"
      },
      "source": [
        "#menampilkan label dari dataset\n",
        "master_count = ner_dataset[\"entitas bernama\"].value_counts() \n",
        "master_count"
      ],
      "execution_count": 53,
      "outputs": [
        {
          "output_type": "execute_result",
          "data": {
            "text/plain": [
              "O                 1209145\n",
              "B-Place             55189\n",
              "B-Person            25986\n",
              "I-Place             17714\n",
              "I-Person            11788\n",
              "I-Organisation       6700\n",
              "B-Organisation       6591\n",
              "Name: entitas bernama, dtype: int64"
            ]
          },
          "metadata": {},
          "execution_count": 53
        }
      ]
    },
    {
      "cell_type": "code",
      "metadata": {
        "colab": {
          "base_uri": "https://localhost:8080/"
        },
        "id": "vBaoPIELf46T",
        "outputId": "3dad00ae-1d9d-402d-d95a-7dc017c428c2"
      },
      "source": [
        "#menampilkan label yang unik\n",
        "words = set(list(ner_dataset['token'].values))\n",
        "n_words = len(words)\n",
        "n_words"
      ],
      "execution_count": 54,
      "outputs": [
        {
          "output_type": "execute_result",
          "data": {
            "text/plain": [
              "84023"
            ]
          },
          "metadata": {},
          "execution_count": 54
        }
      ]
    },
    {
      "cell_type": "code",
      "metadata": {
        "id": "iIq5BLzGf9VJ"
      },
      "source": [
        "# Mengubah tag menjadi tupel\n",
        "class SentenceGetter(object):\n",
        "    \n",
        "    def __init__(self, data):\n",
        "      self.n_sent = 1\n",
        "      self.ner_dataset = ner_dataset\n",
        "      self.empty = False\n",
        "      agg_func = lambda s: [(t, e) for t, e in zip(s[\"token\"].values.tolist(),\n",
        "                                                 s[\"entitas bernama\"].values.tolist())]                                           \n",
        "      self.grouped = self.ner_dataset.groupby(\"no_kalimat\").apply(agg_func)\n",
        "      self.sentences = [s for s in self.grouped]\n",
        "          \n",
        "    def get_next(self):\n",
        "        try:\n",
        "            s = self.grouped[\"Sentence: {}\".format(self.n_sent)]\n",
        "            self.n_sent += 1\n",
        "            return s\n",
        "        except:\n",
        "            return None"
      ],
      "execution_count": 55,
      "outputs": []
    },
    {
      "cell_type": "code",
      "metadata": {
        "colab": {
          "base_uri": "https://localhost:8080/"
        },
        "id": "G79lQGo0f9Fg",
        "outputId": "0c230914-2911-4d5f-c0fd-7da008bd1995"
      },
      "source": [
        "getter = SentenceGetter(ner_dataset)\n",
        "sent = getter.get_next()\n",
        "sentences = getter.sentences\n",
        "sentences[1]"
      ],
      "execution_count": 56,
      "outputs": [
        {
          "output_type": "execute_result",
          "data": {
            "text/plain": [
              "[('oleh', 'O'),\n",
              " ('dunia', 'O'),\n",
              " ('barat', 'O'),\n",
              " ('ia', 'O'),\n",
              " ('dianggap', 'O'),\n",
              " ('sebagai', 'O'),\n",
              " ('orang', 'O'),\n",
              " ('yang', 'O'),\n",
              " ('sangat', 'O'),\n",
              " ('berpengaruh', 'O'),\n",
              " ('di', 'O'),\n",
              " ('mesir', 'B-Place'),\n",
              " ('dan', 'O'),\n",
              " ('di', 'O'),\n",
              " ('timur', 'O'),\n",
              " ('tengah', 'O'),\n",
              " ('dalam', 'O'),\n",
              " ('sejarah', 'O'),\n",
              " ('modern', 'O'),\n",
              " ('. ', 'O')]"
            ]
          },
          "metadata": {},
          "execution_count": 56
        }
      ]
    },
    {
      "cell_type": "code",
      "metadata": {
        "colab": {
          "base_uri": "https://localhost:8080/"
        },
        "id": "ZQLGyF71gKqi",
        "outputId": "7c616b87-8b03-4001-cc67-68d7ca014d7e"
      },
      "source": [
        "#menampilkan jumlah kalimat\n",
        "sentences = getter.sentences\n",
        "print(len(sentences))"
      ],
      "execution_count": 57,
      "outputs": [
        {
          "output_type": "stream",
          "name": "stdout",
          "text": [
            "44433\n"
          ]
        }
      ]
    },
    {
      "cell_type": "code",
      "metadata": {
        "colab": {
          "base_uri": "https://localhost:8080/"
        },
        "id": "yKGkuwN8gMNx",
        "outputId": "41c0021b-3296-424e-c1fd-d05d9d69b2ea"
      },
      "source": [
        "# menampilkan tag \n",
        "tags = list(set(ner_dataset[\"entitas bernama\"].values))\n",
        "n_tags = len(tags); n_tags\n",
        "sorted(tags)"
      ],
      "execution_count": 58,
      "outputs": [
        {
          "output_type": "execute_result",
          "data": {
            "text/plain": [
              "['B-Organisation',\n",
              " 'B-Person',\n",
              " 'B-Place',\n",
              " 'I-Organisation',\n",
              " 'I-Person',\n",
              " 'I-Place',\n",
              " 'O']"
            ]
          },
          "metadata": {},
          "execution_count": 58
        }
      ]
    },
    {
      "cell_type": "code",
      "metadata": {
        "colab": {
          "base_uri": "https://localhost:8080/",
          "height": 350
        },
        "id": "dvkIDsJKgMSr",
        "outputId": "09bfec76-601b-44bd-8fd1-0a1cfc2c3d20"
      },
      "source": [
        "#Membuat mapping word-to-index dan index-to-word \n",
        "\n",
        "tags2index = {t:i for i,t in enumerate(tags)}\n",
        "ner_dataset['tag_idx'] = ner_dataset['entitas bernama'].map(tags2index)\n",
        "#Groupby and collect columns\n",
        "ner_dataset = ner_dataset.groupby(\n",
        "    ['no_kalimat'],as_index=False\n",
        ")['token', 'entitas bernama', 'tag_idx'].agg(lambda x: list(x))\n",
        "ner_dataset.head()"
      ],
      "execution_count": 59,
      "outputs": [
        {
          "output_type": "stream",
          "name": "stderr",
          "text": [
            "/usr/local/lib/python3.7/dist-packages/ipykernel_launcher.py:8: FutureWarning: Indexing with multiple keys (implicitly converted to a tuple of keys) will be deprecated, use a list instead.\n",
            "  \n"
          ]
        },
        {
          "output_type": "execute_result",
          "data": {
            "text/html": [
              "<div>\n",
              "<style scoped>\n",
              "    .dataframe tbody tr th:only-of-type {\n",
              "        vertical-align: middle;\n",
              "    }\n",
              "\n",
              "    .dataframe tbody tr th {\n",
              "        vertical-align: top;\n",
              "    }\n",
              "\n",
              "    .dataframe thead th {\n",
              "        text-align: right;\n",
              "    }\n",
              "</style>\n",
              "<table border=\"1\" class=\"dataframe\">\n",
              "  <thead>\n",
              "    <tr style=\"text-align: right;\">\n",
              "      <th></th>\n",
              "      <th>no_kalimat</th>\n",
              "      <th>token</th>\n",
              "      <th>entitas bernama</th>\n",
              "      <th>tag_idx</th>\n",
              "    </tr>\n",
              "  </thead>\n",
              "  <tbody>\n",
              "    <tr>\n",
              "      <th>0</th>\n",
              "      <td>1</td>\n",
              "      <td>[ia, menjabat, sebagai, presiden, ketiga, mesi...</td>\n",
              "      <td>[O, O, O, O, O, B-Place, O, O, O, O, O, O, O, ...</td>\n",
              "      <td>[5, 5, 5, 5, 5, 3, 5, 5, 5, 5, 5, 5, 5, 5, 5, ...</td>\n",
              "    </tr>\n",
              "    <tr>\n",
              "      <th>1</th>\n",
              "      <td>2</td>\n",
              "      <td>[oleh, dunia, barat, ia, dianggap, sebagai, or...</td>\n",
              "      <td>[O, O, O, O, O, O, O, O, O, O, O, B-Place, O, ...</td>\n",
              "      <td>[5, 5, 5, 5, 5, 5, 5, 5, 5, 5, 5, 3, 5, 5, 5, ...</td>\n",
              "    </tr>\n",
              "    <tr>\n",
              "      <th>2</th>\n",
              "      <td>3</td>\n",
              "      <td>[sadat, dilahirkan, di, mit, abu, al-kum, , , ...</td>\n",
              "      <td>[B-Person, O, O, O, O, O, O, O, O, B-Place, O,...</td>\n",
              "      <td>[1, 5, 5, 5, 5, 5, 5, 5, 5, 3, 5, 5, 5, 5, 5, ...</td>\n",
              "    </tr>\n",
              "    <tr>\n",
              "      <th>3</th>\n",
              "      <td>4</td>\n",
              "      <td>[ia, lulus, dari, akademi, militer, kerajaan, ...</td>\n",
              "      <td>[O, O, O, O, O, B-Place, O, B-Place, O, O, O, ...</td>\n",
              "      <td>[5, 5, 5, 5, 5, 3, 5, 3, 5, 5, 5, 5, 5, 5, 5, 5]</td>\n",
              "    </tr>\n",
              "    <tr>\n",
              "      <th>4</th>\n",
              "      <td>5</td>\n",
              "      <td>[ia, bergabung, dengan, gerakan, perwira, beba...</td>\n",
              "      <td>[O, O, O, O, O, O, O, O, O, O, O, B-Place, O, ...</td>\n",
              "      <td>[5, 5, 5, 5, 5, 5, 5, 5, 5, 5, 5, 3, 5, 5, 3, ...</td>\n",
              "    </tr>\n",
              "  </tbody>\n",
              "</table>\n",
              "</div>"
            ],
            "text/plain": [
              "   no_kalimat  ...                                            tag_idx\n",
              "0           1  ...  [5, 5, 5, 5, 5, 3, 5, 5, 5, 5, 5, 5, 5, 5, 5, ...\n",
              "1           2  ...  [5, 5, 5, 5, 5, 5, 5, 5, 5, 5, 5, 3, 5, 5, 5, ...\n",
              "2           3  ...  [1, 5, 5, 5, 5, 5, 5, 5, 5, 3, 5, 5, 5, 5, 5, ...\n",
              "3           4  ...   [5, 5, 5, 5, 5, 3, 5, 3, 5, 5, 5, 5, 5, 5, 5, 5]\n",
              "4           5  ...  [5, 5, 5, 5, 5, 5, 5, 5, 5, 5, 5, 3, 5, 5, 3, ...\n",
              "\n",
              "[5 rows x 4 columns]"
            ]
          },
          "metadata": {},
          "execution_count": 59
        }
      ]
    },
    {
      "cell_type": "code",
      "metadata": {
        "colab": {
          "base_uri": "https://localhost:8080/"
        },
        "id": "3lS06jHQgMXN",
        "outputId": "ab088a09-c9a8-4c5f-d6e8-a0a3477dff41"
      },
      "source": [
        "# Menampilkan kalimat terpanjang\n",
        "largest_sen = max(len(sen) for sen in sentences)\n",
        "print('biggest sentence has {} words'.format(largest_sen))"
      ],
      "execution_count": 60,
      "outputs": [
        {
          "output_type": "stream",
          "name": "stdout",
          "text": [
            "biggest sentence has 120 words\n"
          ]
        }
      ]
    },
    {
      "cell_type": "code",
      "metadata": {
        "colab": {
          "base_uri": "https://localhost:8080/"
        },
        "id": "Efe_x5VJgMcj",
        "outputId": "48d99f94-a89d-4d74-d226-b56f1d2f9dbf"
      },
      "source": [
        "#Kemudian melakukan padding  LSTM \n",
        "max_len = 50\n",
        "X = [[w[0] for w in s] for s in sentences]\n",
        "new_X = []\n",
        "for seq in X:\n",
        "    new_seq = []\n",
        "    for i in range(max_len):\n",
        "        try:\n",
        "            new_seq.append(seq[i])\n",
        "        except:\n",
        "            new_seq.append(\"PADword\")\n",
        "    new_X.append(new_seq)\n",
        "print(new_X[1])"
      ],
      "execution_count": 61,
      "outputs": [
        {
          "output_type": "stream",
          "name": "stdout",
          "text": [
            "['oleh', 'dunia', 'barat', 'ia', 'dianggap', 'sebagai', 'orang', 'yang', 'sangat', 'berpengaruh', 'di', 'mesir', 'dan', 'di', 'timur', 'tengah', 'dalam', 'sejarah', 'modern', '. ', 'PADword', 'PADword', 'PADword', 'PADword', 'PADword', 'PADword', 'PADword', 'PADword', 'PADword', 'PADword', 'PADword', 'PADword', 'PADword', 'PADword', 'PADword', 'PADword', 'PADword', 'PADword', 'PADword', 'PADword', 'PADword', 'PADword', 'PADword', 'PADword', 'PADword', 'PADword', 'PADword', 'PADword', 'PADword', 'PADword']\n"
          ]
        }
      ]
    },
    {
      "cell_type": "markdown",
      "metadata": {
        "id": "QEQJu9zYkBKf"
      },
      "source": [
        "**Feature Selection**"
      ]
    },
    {
      "cell_type": "code",
      "metadata": {
        "colab": {
          "base_uri": "https://localhost:8080/"
        },
        "id": "ABjAys5ShM0f",
        "outputId": "dc10b673-fda8-4d95-b893-e44206e920de"
      },
      "source": [
        "#import library keras\n",
        "#from tensorflow import keras\n",
        "from tensorflow.keras.preprocessing.sequence import pad_sequences\n",
        "y = [[tags2index[w[1]] for w in s] for s in sentences]\n",
        "y = pad_sequences(maxlen=max_len, sequences=y, padding=\"post\", value=tags2index[\"O\"])\n",
        "y[15]"
      ],
      "execution_count": 62,
      "outputs": [
        {
          "output_type": "execute_result",
          "data": {
            "text/plain": [
              "array([5, 5, 5, 5, 5, 5, 5, 5, 5, 5, 5, 5, 5, 1, 0, 0, 5, 5, 5, 5, 5, 5,\n",
              "       1, 0, 0, 5, 5, 5, 5, 3, 5, 5, 5, 5, 1, 0, 5, 5, 5, 5, 5, 5, 1, 0,\n",
              "       0, 5, 5, 5, 3, 5], dtype=int32)"
            ]
          },
          "metadata": {},
          "execution_count": 62
        }
      ]
    },
    {
      "cell_type": "code",
      "metadata": {
        "id": "rbe8QKIahYPs"
      },
      "source": [
        "#buat train dan test data\n",
        "from sklearn.model_selection import train_test_split\n",
        "X_tr, X_te, y_tr, y_te = train_test_split(new_X, y, test_size=0.2, random_state=2021)"
      ],
      "execution_count": 63,
      "outputs": []
    },
    {
      "cell_type": "code",
      "metadata": {
        "colab": {
          "base_uri": "https://localhost:8080/"
        },
        "id": "jkvdaopshaWI",
        "outputId": "474530e6-9f06-4a96-859c-acbad30fdfe3"
      },
      "source": [
        "import numpy as np\n",
        "print(np.asarray(X_tr).shape)\n",
        "print(np.asarray(X_te).shape)\n",
        "print(y_tr.shape)\n",
        "print(y_te.shape)"
      ],
      "execution_count": 64,
      "outputs": [
        {
          "output_type": "stream",
          "name": "stdout",
          "text": [
            "(35546, 50)\n",
            "(8887, 50)\n",
            "(35546, 50)\n",
            "(8887, 50)\n"
          ]
        }
      ]
    },
    {
      "cell_type": "code",
      "metadata": {
        "colab": {
          "base_uri": "https://localhost:8080/"
        },
        "id": "c2mt-3SUhaNE",
        "outputId": "ccb5bf33-f497-4936-d431-14419b5a7d0f"
      },
      "source": [
        "!pip install tensorflow==1.15\n",
        "!pip install \"tensorflow_hub>=0.6.0\"\n",
        "!pip3 install tensorflow_text==1.15"
      ],
      "execution_count": 65,
      "outputs": [
        {
          "output_type": "stream",
          "name": "stdout",
          "text": [
            "Requirement already satisfied: tensorflow==1.15 in /usr/local/lib/python3.7/dist-packages (1.15.0)\n",
            "Requirement already satisfied: gast==0.2.2 in /usr/local/lib/python3.7/dist-packages (from tensorflow==1.15) (0.2.2)\n",
            "Requirement already satisfied: google-pasta>=0.1.6 in /usr/local/lib/python3.7/dist-packages (from tensorflow==1.15) (0.2.0)\n",
            "Requirement already satisfied: astor>=0.6.0 in /usr/local/lib/python3.7/dist-packages (from tensorflow==1.15) (0.8.1)\n",
            "Requirement already satisfied: numpy<2.0,>=1.16.0 in /usr/local/lib/python3.7/dist-packages (from tensorflow==1.15) (1.19.5)\n",
            "Requirement already satisfied: six>=1.10.0 in /usr/local/lib/python3.7/dist-packages (from tensorflow==1.15) (1.15.0)\n",
            "Requirement already satisfied: termcolor>=1.1.0 in /usr/local/lib/python3.7/dist-packages (from tensorflow==1.15) (1.1.0)\n",
            "Requirement already satisfied: wrapt>=1.11.1 in /usr/local/lib/python3.7/dist-packages (from tensorflow==1.15) (1.13.3)\n",
            "Requirement already satisfied: wheel>=0.26 in /usr/local/lib/python3.7/dist-packages (from tensorflow==1.15) (0.37.0)\n",
            "Requirement already satisfied: tensorflow-estimator==1.15.1 in /usr/local/lib/python3.7/dist-packages (from tensorflow==1.15) (1.15.1)\n",
            "Requirement already satisfied: protobuf>=3.6.1 in /usr/local/lib/python3.7/dist-packages (from tensorflow==1.15) (3.17.3)\n",
            "Requirement already satisfied: grpcio>=1.8.6 in /usr/local/lib/python3.7/dist-packages (from tensorflow==1.15) (1.42.0)\n",
            "Requirement already satisfied: keras-applications>=1.0.8 in /usr/local/lib/python3.7/dist-packages (from tensorflow==1.15) (1.0.8)\n",
            "Requirement already satisfied: tensorboard<1.16.0,>=1.15.0 in /usr/local/lib/python3.7/dist-packages (from tensorflow==1.15) (1.15.0)\n",
            "Requirement already satisfied: keras-preprocessing>=1.0.5 in /usr/local/lib/python3.7/dist-packages (from tensorflow==1.15) (1.1.2)\n",
            "Requirement already satisfied: opt-einsum>=2.3.2 in /usr/local/lib/python3.7/dist-packages (from tensorflow==1.15) (3.3.0)\n",
            "Requirement already satisfied: absl-py>=0.7.0 in /usr/local/lib/python3.7/dist-packages (from tensorflow==1.15) (0.12.0)\n",
            "Requirement already satisfied: h5py in /usr/local/lib/python3.7/dist-packages (from keras-applications>=1.0.8->tensorflow==1.15) (3.1.0)\n",
            "Requirement already satisfied: setuptools>=41.0.0 in /usr/local/lib/python3.7/dist-packages (from tensorboard<1.16.0,>=1.15.0->tensorflow==1.15) (57.4.0)\n",
            "Requirement already satisfied: werkzeug>=0.11.15 in /usr/local/lib/python3.7/dist-packages (from tensorboard<1.16.0,>=1.15.0->tensorflow==1.15) (1.0.1)\n",
            "Requirement already satisfied: markdown>=2.6.8 in /usr/local/lib/python3.7/dist-packages (from tensorboard<1.16.0,>=1.15.0->tensorflow==1.15) (3.3.6)\n",
            "Requirement already satisfied: importlib-metadata>=4.4 in /usr/local/lib/python3.7/dist-packages (from markdown>=2.6.8->tensorboard<1.16.0,>=1.15.0->tensorflow==1.15) (4.8.2)\n",
            "Requirement already satisfied: typing-extensions>=3.6.4 in /usr/local/lib/python3.7/dist-packages (from importlib-metadata>=4.4->markdown>=2.6.8->tensorboard<1.16.0,>=1.15.0->tensorflow==1.15) (3.10.0.2)\n",
            "Requirement already satisfied: zipp>=0.5 in /usr/local/lib/python3.7/dist-packages (from importlib-metadata>=4.4->markdown>=2.6.8->tensorboard<1.16.0,>=1.15.0->tensorflow==1.15) (3.6.0)\n",
            "Requirement already satisfied: cached-property in /usr/local/lib/python3.7/dist-packages (from h5py->keras-applications>=1.0.8->tensorflow==1.15) (1.5.2)\n",
            "Requirement already satisfied: tensorflow_hub>=0.6.0 in /usr/local/lib/python3.7/dist-packages (0.12.0)\n",
            "Requirement already satisfied: numpy>=1.12.0 in /usr/local/lib/python3.7/dist-packages (from tensorflow_hub>=0.6.0) (1.19.5)\n",
            "Requirement already satisfied: protobuf>=3.8.0 in /usr/local/lib/python3.7/dist-packages (from tensorflow_hub>=0.6.0) (3.17.3)\n",
            "Requirement already satisfied: six>=1.9 in /usr/local/lib/python3.7/dist-packages (from protobuf>=3.8.0->tensorflow_hub>=0.6.0) (1.15.0)\n",
            "Requirement already satisfied: tensorflow_text==1.15 in /usr/local/lib/python3.7/dist-packages (1.15.0)\n",
            "Requirement already satisfied: tensorflow<1.16,>=1.15.0 in /usr/local/lib/python3.7/dist-packages (from tensorflow_text==1.15) (1.15.0)\n",
            "Requirement already satisfied: google-pasta>=0.1.6 in /usr/local/lib/python3.7/dist-packages (from tensorflow<1.16,>=1.15.0->tensorflow_text==1.15) (0.2.0)\n",
            "Requirement already satisfied: six>=1.10.0 in /usr/local/lib/python3.7/dist-packages (from tensorflow<1.16,>=1.15.0->tensorflow_text==1.15) (1.15.0)\n",
            "Requirement already satisfied: tensorflow-estimator==1.15.1 in /usr/local/lib/python3.7/dist-packages (from tensorflow<1.16,>=1.15.0->tensorflow_text==1.15) (1.15.1)\n",
            "Requirement already satisfied: termcolor>=1.1.0 in /usr/local/lib/python3.7/dist-packages (from tensorflow<1.16,>=1.15.0->tensorflow_text==1.15) (1.1.0)\n",
            "Requirement already satisfied: wheel>=0.26 in /usr/local/lib/python3.7/dist-packages (from tensorflow<1.16,>=1.15.0->tensorflow_text==1.15) (0.37.0)\n",
            "Requirement already satisfied: protobuf>=3.6.1 in /usr/local/lib/python3.7/dist-packages (from tensorflow<1.16,>=1.15.0->tensorflow_text==1.15) (3.17.3)\n",
            "Requirement already satisfied: wrapt>=1.11.1 in /usr/local/lib/python3.7/dist-packages (from tensorflow<1.16,>=1.15.0->tensorflow_text==1.15) (1.13.3)\n",
            "Requirement already satisfied: opt-einsum>=2.3.2 in /usr/local/lib/python3.7/dist-packages (from tensorflow<1.16,>=1.15.0->tensorflow_text==1.15) (3.3.0)\n",
            "Requirement already satisfied: absl-py>=0.7.0 in /usr/local/lib/python3.7/dist-packages (from tensorflow<1.16,>=1.15.0->tensorflow_text==1.15) (0.12.0)\n",
            "Requirement already satisfied: tensorboard<1.16.0,>=1.15.0 in /usr/local/lib/python3.7/dist-packages (from tensorflow<1.16,>=1.15.0->tensorflow_text==1.15) (1.15.0)\n",
            "Requirement already satisfied: numpy<2.0,>=1.16.0 in /usr/local/lib/python3.7/dist-packages (from tensorflow<1.16,>=1.15.0->tensorflow_text==1.15) (1.19.5)\n",
            "Requirement already satisfied: grpcio>=1.8.6 in /usr/local/lib/python3.7/dist-packages (from tensorflow<1.16,>=1.15.0->tensorflow_text==1.15) (1.42.0)\n",
            "Requirement already satisfied: keras-preprocessing>=1.0.5 in /usr/local/lib/python3.7/dist-packages (from tensorflow<1.16,>=1.15.0->tensorflow_text==1.15) (1.1.2)\n",
            "Requirement already satisfied: keras-applications>=1.0.8 in /usr/local/lib/python3.7/dist-packages (from tensorflow<1.16,>=1.15.0->tensorflow_text==1.15) (1.0.8)\n",
            "Requirement already satisfied: gast==0.2.2 in /usr/local/lib/python3.7/dist-packages (from tensorflow<1.16,>=1.15.0->tensorflow_text==1.15) (0.2.2)\n",
            "Requirement already satisfied: astor>=0.6.0 in /usr/local/lib/python3.7/dist-packages (from tensorflow<1.16,>=1.15.0->tensorflow_text==1.15) (0.8.1)\n",
            "Requirement already satisfied: h5py in /usr/local/lib/python3.7/dist-packages (from keras-applications>=1.0.8->tensorflow<1.16,>=1.15.0->tensorflow_text==1.15) (3.1.0)\n",
            "Requirement already satisfied: werkzeug>=0.11.15 in /usr/local/lib/python3.7/dist-packages (from tensorboard<1.16.0,>=1.15.0->tensorflow<1.16,>=1.15.0->tensorflow_text==1.15) (1.0.1)\n",
            "Requirement already satisfied: markdown>=2.6.8 in /usr/local/lib/python3.7/dist-packages (from tensorboard<1.16.0,>=1.15.0->tensorflow<1.16,>=1.15.0->tensorflow_text==1.15) (3.3.6)\n",
            "Requirement already satisfied: setuptools>=41.0.0 in /usr/local/lib/python3.7/dist-packages (from tensorboard<1.16.0,>=1.15.0->tensorflow<1.16,>=1.15.0->tensorflow_text==1.15) (57.4.0)\n",
            "Requirement already satisfied: importlib-metadata>=4.4 in /usr/local/lib/python3.7/dist-packages (from markdown>=2.6.8->tensorboard<1.16.0,>=1.15.0->tensorflow<1.16,>=1.15.0->tensorflow_text==1.15) (4.8.2)\n",
            "Requirement already satisfied: zipp>=0.5 in /usr/local/lib/python3.7/dist-packages (from importlib-metadata>=4.4->markdown>=2.6.8->tensorboard<1.16.0,>=1.15.0->tensorflow<1.16,>=1.15.0->tensorflow_text==1.15) (3.6.0)\n",
            "Requirement already satisfied: typing-extensions>=3.6.4 in /usr/local/lib/python3.7/dist-packages (from importlib-metadata>=4.4->markdown>=2.6.8->tensorboard<1.16.0,>=1.15.0->tensorflow<1.16,>=1.15.0->tensorflow_text==1.15) (3.10.0.2)\n",
            "Requirement already satisfied: cached-property in /usr/local/lib/python3.7/dist-packages (from h5py->keras-applications>=1.0.8->tensorflow<1.16,>=1.15.0->tensorflow_text==1.15) (1.5.2)\n"
          ]
        }
      ]
    },
    {
      "cell_type": "code",
      "metadata": {
        "colab": {
          "base_uri": "https://localhost:8080/"
        },
        "id": "xyRbFL3qhaCe",
        "outputId": "9929a967-1915-47a3-ddea-481777d7b1a7"
      },
      "source": [
        "import tensorflow as tf1\n",
        "print(tf1.__version__)\n",
        "#jika versi tensor flow diatas 2.0 , silahkan restart kernel dan run ulang \n",
        "#maka diatmpilakn versi 1.15.0"
      ],
      "execution_count": 66,
      "outputs": [
        {
          "output_type": "stream",
          "name": "stdout",
          "text": [
            "1.15.0\n"
          ]
        }
      ]
    },
    {
      "cell_type": "code",
      "metadata": {
        "colab": {
          "base_uri": "https://localhost:8080/"
        },
        "id": "heiFBI2PiJE6",
        "outputId": "162e9b18-214f-4c3f-bb0e-73a350a1f438"
      },
      "source": [
        "!pip install tensorflow_hub"
      ],
      "execution_count": 67,
      "outputs": [
        {
          "output_type": "stream",
          "name": "stdout",
          "text": [
            "Requirement already satisfied: tensorflow_hub in /usr/local/lib/python3.7/dist-packages (0.12.0)\n",
            "Requirement already satisfied: protobuf>=3.8.0 in /usr/local/lib/python3.7/dist-packages (from tensorflow_hub) (3.17.3)\n",
            "Requirement already satisfied: numpy>=1.12.0 in /usr/local/lib/python3.7/dist-packages (from tensorflow_hub) (1.19.5)\n",
            "Requirement already satisfied: six>=1.9 in /usr/local/lib/python3.7/dist-packages (from protobuf>=3.8.0->tensorflow_hub) (1.15.0)\n"
          ]
        }
      ]
    },
    {
      "cell_type": "code",
      "metadata": {
        "id": "tSpgIAX2jwcX"
      },
      "source": [
        "import tensorflow as tf\n",
        "import tensorflow_hub as hub\n",
        "from tensorflow.keras import backend as K\n",
        "sess = tf.Session()\n",
        "K.set_session(sess)"
      ],
      "execution_count": 68,
      "outputs": []
    },
    {
      "cell_type": "code",
      "metadata": {
        "id": "BE6immO8jyko"
      },
      "source": [
        "batch_size = 32\n",
        "X_tr, X_val = X_tr[:1110*batch_size], X_tr[-135*batch_size:]\n",
        "y_tr, y_val = y_tr[:1110*batch_size], y_tr[-135*batch_size:]\n",
        "y_tr = y_tr.reshape(y_tr.shape[0], y_tr.shape[1], 1)\n",
        "y_val = y_val.reshape(y_val.shape[0], y_val.shape[1], 1)"
      ],
      "execution_count": 69,
      "outputs": []
    },
    {
      "cell_type": "code",
      "metadata": {
        "id": "erVzcSD3j1CD"
      },
      "source": [
        "elmo_model = hub.Module(\"https://tfhub.dev/google/elmo/3\", trainable=True)\n",
        "sess.run(tf.global_variables_initializer())\n",
        "sess.run(tf.tables_initializer())"
      ],
      "execution_count": 70,
      "outputs": []
    },
    {
      "cell_type": "code",
      "metadata": {
        "id": "4UsYvtW9kx7K"
      },
      "source": [
        "\n",
        "# elmo akan menghasilkan vektor dengan panjang 1024 dengan jumlah kalimat adalah 44.000\n",
        "def ElmoEmbedding(x):\n",
        "    return elmo_model(inputs={\n",
        "                            \"tokens\": tf.squeeze(tf.cast(x, tf.string)),\n",
        "                            \"sequence_len\": tf.constant(batch_size*[max_len])\n",
        "                      },\n",
        "                      signature=\"tokens\",\n",
        "                      as_dict=True)[\"elmo\"]"
      ],
      "execution_count": 75,
      "outputs": []
    },
    {
      "cell_type": "code",
      "metadata": {
        "colab": {
          "base_uri": "https://localhost:8080/"
        },
        "id": "xwK7Juprj3dk",
        "outputId": "11bcbb81-1766-4783-b338-25a84d13ca10"
      },
      "source": [
        "# Karena tidak memungkinkan untuk menampilkan semua representasi kata\n",
        "#  Untuk melihat contoh  vektor pada kalimat index ke 0\n",
        "def elmo_vectors(x):\n",
        "    embeddings = elmo_model(x, signature=\"default\", as_dict=True)[\"elmo\"]\n",
        "    with tf.Session() as sess:\n",
        "        sess.run(tf.global_variables_initializer())\n",
        "        sess.run(tf.tables_initializer())\n",
        "        return sess.run(embeddings)\n",
        "v = elmo_vectors(X[0])\n",
        "print(v.shape) \n",
        "print(v[0][0]) # untuk menampilkan vektor"
      ],
      "execution_count": 71,
      "outputs": [
        {
          "output_type": "stream",
          "name": "stdout",
          "text": [
            "INFO:tensorflow:Saver not created because there are no variables in the graph to restore\n"
          ]
        },
        {
          "output_type": "stream",
          "name": "stderr",
          "text": [
            "INFO:tensorflow:Saver not created because there are no variables in the graph to restore\n"
          ]
        },
        {
          "output_type": "stream",
          "name": "stdout",
          "text": [
            "(18, 1, 1024)\n",
            "[-0.13046058 -0.16104154  0.01948899 ... -0.20794767 -0.07825156\n",
            "  0.12980546]\n"
          ]
        }
      ]
    },
    {
      "cell_type": "code",
      "metadata": {
        "colab": {
          "base_uri": "https://localhost:8080/"
        },
        "id": "jH9JoILWj60Y",
        "outputId": "6ff88afd-bd0b-479c-ce84-61d0b2c462cb"
      },
      "source": [
        "print(X[0])"
      ],
      "execution_count": 76,
      "outputs": [
        {
          "output_type": "stream",
          "name": "stdout",
          "text": [
            "['ia', 'menjabat', 'sebagai', 'presiden', 'ketiga', 'mesir', 'pada', 'periode', '15', 'oktober', '1970', 'hingga', 'terbunuhnya', 'pada', '6', 'oktober', '1981', '. ']\n"
          ]
        }
      ]
    }
  ]
}